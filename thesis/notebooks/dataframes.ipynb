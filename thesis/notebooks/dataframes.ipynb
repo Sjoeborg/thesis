{
 "cells": [
  {
   "cell_type": "code",
   "execution_count": 1,
   "metadata": {},
   "outputs": [],
   "source": [
    "import sys, os\n",
    "\n",
    "os.chdir(\"../../\")\n",
    "sys.path.append(\"./../src/data\")\n",
    "sys.path.append(\"./../src/events\")\n",
    "sys.path.append(\"./../src/probability\")\n",
    "import numpy as np\n",
    "import matplotlib.pyplot as plt\n",
    "import matplotlib\n",
    "import pandas as pd\n",
    "from subprocess import call\n",
    "from IC.importer import *\n",
    "from IC.processer import *\n",
    "from IC.main import sim_events\n",
    "from functions import nufit_params_nsi\n",
    "from plotter import P_over_E_parameter, oscillogram, nsi_oscillogram\n",
    "from scipy.stats import chi2\n",
    "from IC.event_processing import *\n",
    "import pickle\n",
    "from DC.event_processing import list_of_params_nsi, get_param_list\n",
    "from multiprocessing import Pool\n",
    "\n",
    "plt.rcParams[\"figure.figsize\"] = [8, 4]\n",
    "plt.rcParams[\"figure.dpi\"] = 100\n",
    "matplotlib.rc(\"text\", usetex=True)\n",
    "matplotlib.rc(\"text.latex\", preamble=r\"\\usepackage{amsmath}\")\n",
    "np.set_printoptions(linewidth=200)\n",
    "from plotter import savethesis"
   ]
  },
  {
   "cell_type": "code",
   "execution_count": 9,
   "metadata": {},
   "outputs": [],
   "source": [
    "IC_aeff = get_aeff_df()\n",
    "clean_aeff = IC_aeff.sample(5).drop([\"E_avg\", \"z_avg\"], axis=1)\n",
    "IC_flux = get_flux_df()\n",
    "clean_flux = IC_flux.sample(5)"
   ]
  },
  {
   "cell_type": "code",
   "execution_count": 12,
   "metadata": {},
   "outputs": [],
   "source": [
    "clean_aeff.to_latex(\"IC_aeff.tex\")"
   ]
  },
  {
   "cell_type": "code",
   "execution_count": 14,
   "metadata": {},
   "outputs": [],
   "source": [
    "clean_flux.to_latex(\"IC_flux.tex\")"
   ]
  }
 ],
 "metadata": {
  "kernelspec": {
   "display_name": "Python 3.9.2 64-bit",
   "name": "python39264bit67bc328b1e10414999728fa72c742085"
  },
  "language_info": {
   "codemirror_mode": {
    "name": "ipython",
    "version": 3
   },
   "file_extension": ".py",
   "mimetype": "text/x-python",
   "name": "python",
   "nbconvert_exporter": "python",
   "pygments_lexer": "ipython3",
   "version": "3.9.2"
  },
  "metadata": {
   "interpreter": {
    "hash": "434b6027482ce11b11ee4b4c9fcebdbdce384fa4b08e0eb647b0c7e8c80d9920"
   }
  },
  "orig_nbformat": 2
 },
 "nbformat": 4,
 "nbformat_minor": 2
}