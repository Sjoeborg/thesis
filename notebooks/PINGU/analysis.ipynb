{
 "metadata": {
  "language_info": {
   "codemirror_mode": {
    "name": "ipython",
    "version": 3
   },
   "file_extension": ".py",
   "mimetype": "text/x-python",
   "name": "python",
   "nbconvert_exporter": "python",
   "pygments_lexer": "ipython3",
   "version": "3.8.5"
  },
  "orig_nbformat": 2,
  "kernelspec": {
   "name": "python385jvsc74a57bd073761e8a65ef4baed6e0524bb8131aca05507f3ceffbe24eb501f6a7780282b1",
   "display_name": "Python 3.8.5 64-bit ('base': conda)"
  }
 },
 "nbformat": 4,
 "nbformat_minor": 2,
 "cells": [
  {
   "cell_type": "code",
   "execution_count": 1,
   "metadata": {},
   "outputs": [],
   "source": [
    "import sys,os\n",
    "os.chdir('../../')\n",
    "sys.path.append('./src/data')\n",
    "sys.path.append('./src/events')\n",
    "sys.path.append('./src/probability')\n",
    "import numpy as np\n",
    "import matplotlib.pyplot as plt\n",
    "import matplotlib\n",
    "import pandas as pd\n",
    "from PINGU.importer import *\n",
    "from PINGU.processer import *\n",
    "from PINGU.main import get_all_events,get_events\n",
    "from functions import perform_chisq, dc_params_nsi, dc_params\n",
    "from PINGU.event_processing import list_of_params_nsi, return_precomputed_nsi, get_deltachi, normalize_events\n",
    "from scipy.stats import chi2\n",
    "import pickle\n",
    "plt.rcParams['figure.figsize'] = [8, 4]\n",
    "plt.rcParams['figure.dpi'] = 100\n",
    "matplotlib.rc('text', usetex=True)\n",
    "matplotlib.rc('text.latex', preamble=r'\\usepackage{amsmath}')\n",
    "np.set_printoptions(linewidth=200)"
   ]
  },
  {
   "cell_type": "code",
   "execution_count": 2,
   "metadata": {},
   "outputs": [
    {
     "output_type": "stream",
     "name": "stdout",
     "text": [
      "[0.]\n[0.]\n[-0.01       -0.00777778 -0.00555556 -0.00333333 -0.00111111  0.00111111  0.00333333  0.00555556  0.00777778  0.01      ]\n"
     ]
    }
   ],
   "source": [
    "ndim = 3\n",
    "pid = 1\n",
    "precomputed_events = True\n",
    "dc_params_nsi['dm_41'] = 0.93\n",
    "dc_params['dm_41'] = 0.93\n",
    "emm_range = np.linspace(0,0,1)\n",
    "s24_range = np.linspace(0,0,1)\n",
    "emt_range = np.linspace(-1e-2,1e-2,10)\n",
    "param_list = list_of_params_nsi(dc_params_nsi,s24_range, emm_range,emt_range)\n",
    "\n",
    "#for p in param_list: # Assert all dicts returned from param_list have precomputed probs.\n",
    "#    assert is_precomputed_nsi(N=N,ndim=ndim, dict=p,check=False)\n",
    "\n",
    "\n",
    "\n",
    "param_list = return_precomputed_nsi(pid,ndim,params=param_list)\n",
    "emm_range = np.sort(np.unique(np.array([p['e_mm'] for p in param_list])))\n",
    "s24_range = np.sin(2*np.sort(np.unique(np.array([p['theta_24'] for p in param_list]))))**2\n",
    "emt_range = np.sort(np.unique(np.array([p['e_mt'] for p in param_list])))\n",
    "\n",
    "print(emm_range)\n",
    "print(s24_range)\n",
    "print(emt_range)\n",
    "\n",
    "#print(param_list[1])"
   ]
  },
  {
   "cell_type": "code",
   "execution_count": 3,
   "metadata": {},
   "outputs": [],
   "source": [
    "if not precomputed_events:\n",
    "    print('Computing events')\n",
    "    from multiprocessing import Pool\n",
    "    p = Pool()\n",
    "    data = [(p, pid,False) for p in param_list]\n",
    "    H1_events_list = p.starmap(get_all_events, data)\n",
    "    p.close()\n",
    "    pickle.dump(H1_events_list,open(f'./pre_computed/H1_PINGU_{pid}_{len(emm_range)}x{len(emt_range)}_tau_nsi.p','wb'))\n",
    "\n",
    "    H0_events = get_all_events(params=param_list[0], pid=pid, null=True)\n",
    "    pickle.dump(H0_events,open(f'./pre_computed/H0_PINGU_{pid}.p','wb'))\n",
    "\n",
    "H1_events_list = pickle.load(open(f'./pre_computed/H1_gen2_{pid}_{len(emm_range)}x{len(emt_range)}_tau_nsi.p','rb'))\n",
    "H0_events = pickle.load(open(f'./pre_computed/H0_PINGU_{pid}.p','rb'))\n",
    "\n",
    "\n",
    "H0_normalized, H1_list_normalized = normalize_events(H0_events,H1_events_list,pid)"
   ]
  },
  {
   "cell_type": "code",
   "execution_count": 6,
   "metadata": {},
   "outputs": [],
   "source": [
    "sigma_a = 0.25\n",
    "sigma_b = 0.04\n",
    "f = 0\n",
    "deltachi, best_index, H1_chisq = get_deltachi(H1_list_normalized, H0_normalized,emt_range,emm_range,0,[sigma_a,sigma_b],f,x0=[1])\n",
    "#s24_cl90, s24_cl99, emm_cl90, emm_cl99 = get_contour(deltachi.T, emt_range,emm_range,2)\n",
    "#best_fit_coords = (param_list[best_index]['e_mt'], param_list[best_index]['e_mm'])"
   ]
  },
  {
   "cell_type": "code",
   "execution_count": 10,
   "metadata": {},
   "outputs": [
    {
     "output_type": "execute_result",
     "data": {
      "text/plain": [
       "array([[ 0.        ],\n",
       "       [12.98547712],\n",
       "       [25.3298408 ],\n",
       "       [36.40792578],\n",
       "       [46.62030861],\n",
       "       [55.2711052 ],\n",
       "       [62.28192845],\n",
       "       [68.1764869 ],\n",
       "       [71.94664659],\n",
       "       [74.16301697]])"
      ]
     },
     "metadata": {},
     "execution_count": 10
    }
   ],
   "source": [
    "deltachi"
   ]
  },
  {
   "cell_type": "code",
   "execution_count": 20,
   "metadata": {},
   "outputs": [
    {
     "output_type": "execute_result",
     "data": {
      "text/plain": [
       "array([0.98533481, 0.98533481, 0.98533481])"
      ]
     },
     "metadata": {},
     "execution_count": 20
    }
   ],
   "source": [
    "from gen2.event_processing import perform_chisq\n",
    "np.array([perform_chisq(H1_norm, H0_events,sigma_syst=0,z=0, sigma_a=0.25,sigma_b=0.04,sigma_g=0, x0=[1])[0] for H1_norm in H1_events_list[0:3]])"
   ]
  }
 ]
}