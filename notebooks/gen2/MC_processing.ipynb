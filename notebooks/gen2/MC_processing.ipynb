{
 "metadata": {
  "language_info": {
   "codemirror_mode": {
    "name": "ipython",
    "version": 3
   },
   "file_extension": ".py",
   "mimetype": "text/x-python",
   "name": "python",
   "nbconvert_exporter": "python",
   "pygments_lexer": "ipython3",
   "version": "3.8.5"
  },
  "orig_nbformat": 2,
  "kernelspec": {
   "name": "python385jvsc74a57bd073761e8a65ef4baed6e0524bb8131aca05507f3ceffbe24eb501f6a7780282b1",
   "display_name": "Python 3.8.5 64-bit ('base': conda)"
  }
 },
 "nbformat": 4,
 "nbformat_minor": 2,
 "cells": [
  {
   "cell_type": "code",
   "execution_count": 1,
   "metadata": {},
   "outputs": [],
   "source": [
    "import numpy as np \n",
    "import h5py \n",
    "import sys,os\n",
    "os.chdir('../../')\n",
    "sys.path.append('./src/data')\n",
    "sys.path.append('./src/events')\n",
    "sys.path.append('./src/probability')\n",
    "import pandas as pd \n",
    "from importergen2 import gen2_MC\n",
    "from processergen2 import get_true_gen2,generate_probabilitiesgen2, get_probabilitiesgen2\n",
    "from functions import ic_params_nsi"
   ]
  },
  {
   "cell_type": "code",
   "execution_count": 2,
   "metadata": {},
   "outputs": [],
   "source": [
    "Ereco = np.array([5.623413,  7.498942, 10. , 13.335215, 17.782795, 23.713737, 31.622776, 42.16965 , 56.23413])\n",
    "zreco = np.array([-1., -0.75, -0.5 , -0.25,  0., 0.25, 0.5, 0.75, 1.])"
   ]
  },
  {
   "cell_type": "code",
   "execution_count": 3,
   "metadata": {},
   "outputs": [],
   "source": [
    "df = gen2_MC(track=True, cascade=False)"
   ]
  },
  {
   "cell_type": "code",
   "execution_count": 4,
   "metadata": {},
   "outputs": [
    {
     "output_type": "execute_result",
     "data": {
      "text/plain": [
       "        reco_coszen  reco_energy  true_coszen  true_energy  rate_weight  pid  \\\n",
       "0         -0.658786         4.97    -0.580387         3.46          0.0  0.0   \n",
       "1          0.120503        13.20     0.020795        12.30          0.0  0.0   \n",
       "2          0.070737        14.60    -0.069148        12.30          0.0  0.0   \n",
       "3         -0.079121         6.37    -0.069148         4.15          0.0  0.0   \n",
       "4         -0.478727         2.88    -0.563985         1.89          0.0  0.0   \n",
       "...             ...          ...          ...          ...          ...  ...   \n",
       "271778     0.659232        20.10    -0.323290        47.60          0.0  0.0   \n",
       "271779     0.305817        31.50    -0.049184        51.00          0.0  1.0   \n",
       "271780    -0.275590        37.50     0.020795       124.00          0.0  0.0   \n",
       "271781     0.647117        12.70     0.948287        16.70          0.0  0.0   \n",
       "271782    -0.681056        14.00    -0.580387        21.20          0.0  0.0   \n",
       "\n",
       "         pdg  \n",
       "0       12.0  \n",
       "1       12.0  \n",
       "2       12.0  \n",
       "3       12.0  \n",
       "4       12.0  \n",
       "...      ...  \n",
       "271778 -16.0  \n",
       "271779 -16.0  \n",
       "271780 -16.0  \n",
       "271781 -16.0  \n",
       "271782 -16.0  \n",
       "\n",
       "[271783 rows x 7 columns]"
      ],
      "text/html": "<div>\n<style scoped>\n    .dataframe tbody tr th:only-of-type {\n        vertical-align: middle;\n    }\n\n    .dataframe tbody tr th {\n        vertical-align: top;\n    }\n\n    .dataframe thead th {\n        text-align: right;\n    }\n</style>\n<table border=\"1\" class=\"dataframe\">\n  <thead>\n    <tr style=\"text-align: right;\">\n      <th></th>\n      <th>reco_coszen</th>\n      <th>reco_energy</th>\n      <th>true_coszen</th>\n      <th>true_energy</th>\n      <th>rate_weight</th>\n      <th>pid</th>\n      <th>pdg</th>\n    </tr>\n  </thead>\n  <tbody>\n    <tr>\n      <th>0</th>\n      <td>-0.658786</td>\n      <td>4.97</td>\n      <td>-0.580387</td>\n      <td>3.46</td>\n      <td>0.0</td>\n      <td>0.0</td>\n      <td>12.0</td>\n    </tr>\n    <tr>\n      <th>1</th>\n      <td>0.120503</td>\n      <td>13.20</td>\n      <td>0.020795</td>\n      <td>12.30</td>\n      <td>0.0</td>\n      <td>0.0</td>\n      <td>12.0</td>\n    </tr>\n    <tr>\n      <th>2</th>\n      <td>0.070737</td>\n      <td>14.60</td>\n      <td>-0.069148</td>\n      <td>12.30</td>\n      <td>0.0</td>\n      <td>0.0</td>\n      <td>12.0</td>\n    </tr>\n    <tr>\n      <th>3</th>\n      <td>-0.079121</td>\n      <td>6.37</td>\n      <td>-0.069148</td>\n      <td>4.15</td>\n      <td>0.0</td>\n      <td>0.0</td>\n      <td>12.0</td>\n    </tr>\n    <tr>\n      <th>4</th>\n      <td>-0.478727</td>\n      <td>2.88</td>\n      <td>-0.563985</td>\n      <td>1.89</td>\n      <td>0.0</td>\n      <td>0.0</td>\n      <td>12.0</td>\n    </tr>\n    <tr>\n      <th>...</th>\n      <td>...</td>\n      <td>...</td>\n      <td>...</td>\n      <td>...</td>\n      <td>...</td>\n      <td>...</td>\n      <td>...</td>\n    </tr>\n    <tr>\n      <th>271778</th>\n      <td>0.659232</td>\n      <td>20.10</td>\n      <td>-0.323290</td>\n      <td>47.60</td>\n      <td>0.0</td>\n      <td>0.0</td>\n      <td>-16.0</td>\n    </tr>\n    <tr>\n      <th>271779</th>\n      <td>0.305817</td>\n      <td>31.50</td>\n      <td>-0.049184</td>\n      <td>51.00</td>\n      <td>0.0</td>\n      <td>1.0</td>\n      <td>-16.0</td>\n    </tr>\n    <tr>\n      <th>271780</th>\n      <td>-0.275590</td>\n      <td>37.50</td>\n      <td>0.020795</td>\n      <td>124.00</td>\n      <td>0.0</td>\n      <td>0.0</td>\n      <td>-16.0</td>\n    </tr>\n    <tr>\n      <th>271781</th>\n      <td>0.647117</td>\n      <td>12.70</td>\n      <td>0.948287</td>\n      <td>16.70</td>\n      <td>0.0</td>\n      <td>0.0</td>\n      <td>-16.0</td>\n    </tr>\n    <tr>\n      <th>271782</th>\n      <td>-0.681056</td>\n      <td>14.00</td>\n      <td>-0.580387</td>\n      <td>21.20</td>\n      <td>0.0</td>\n      <td>0.0</td>\n      <td>-16.0</td>\n    </tr>\n  </tbody>\n</table>\n<p>271783 rows × 7 columns</p>\n</div>"
     },
     "metadata": {},
     "execution_count": 4
    }
   ],
   "source": [
    "df"
   ]
  },
  {
   "cell_type": "code",
   "execution_count": 4,
   "metadata": {},
   "outputs": [],
   "source": [
    "df['Ebin'] = pd.cut(df.reco_energy, Ereco, labels=False)\n",
    "df['zbin'] = pd.cut(df.reco_coszen, zreco, labels=False)\n",
    "df1 = (df\n",
    "        .dropna()\n",
    "        .drop('current_type',axis=1)\n",
    "        .groupby(['pid','pdg','Ebin','zbin'])\n",
    "        .sum()\n",
    "        .reset_index())"
   ]
  },
  {
   "cell_type": "code",
   "execution_count": 5,
   "metadata": {},
   "outputs": [],
   "source": [
    "df2 = pd.read_csv(f'./src/data/files/gen2/neutrino_mc.csv', dtype=np.float64)\n",
    "df2['reco_coszen'] = np.cos(df2['reco_zenith'])\n",
    "df2['true_coszen'] = np.cos(df2['true_zenith'])"
   ]
  },
  {
   "cell_type": "code",
   "execution_count": 6,
   "metadata": {},
   "outputs": [
    {
     "output_type": "execute_result",
     "data": {
      "text/plain": [
       "         pdg  pid  true_energy  true_zenith  true_azimuth  reco_energy  \\\n",
       "0       12.0  0.0         3.46        2.190          1.07         4.97   \n",
       "1       12.0  0.0        12.30        1.550          5.39        13.20   \n",
       "2       12.0  0.0        12.30        1.640          1.13        14.60   \n",
       "3       12.0  0.0         4.15        1.640          5.62         6.37   \n",
       "4       12.0  0.0         1.89        2.170          3.33         2.88   \n",
       "...      ...  ...          ...          ...           ...          ...   \n",
       "271778 -16.0  0.0        47.60        1.900          2.99        20.10   \n",
       "271779 -16.0  1.0        51.00        1.620          1.91        31.50   \n",
       "271780 -16.0  0.0       124.00        1.550          2.61        37.50   \n",
       "271781 -16.0  0.0        16.70        0.323          2.23        12.70   \n",
       "271782 -16.0  0.0        21.20        2.190          5.46        14.00   \n",
       "\n",
       "        reco_zenith  reco_azimuth  interaction_type  current_type  \\\n",
       "0             2.290          1.45               1.0           1.0   \n",
       "1             1.450          5.86               2.0           1.0   \n",
       "2             1.500          1.23               2.0           1.0   \n",
       "3             1.650          5.62               1.0           1.0   \n",
       "4             2.070          3.16               0.0           1.0   \n",
       "...             ...           ...               ...           ...   \n",
       "271778        0.851          3.01               2.0           0.0   \n",
       "271779        1.260          1.70               2.0           0.0   \n",
       "271780        1.850          2.69               2.0           0.0   \n",
       "271781        0.867          2.60               2.0           0.0   \n",
       "271782        2.320          5.35               2.0           0.0   \n",
       "\n",
       "              weight    xsec   dxsec       x       y      W       Q2  \\\n",
       "0       8.980000e-09   0.782    5.68  0.0879  0.1130  1.250   0.0648   \n",
       "1       2.180000e-07  70.200  116.00  0.4470  0.5520  2.820   5.7100   \n",
       "2       2.170000e-07  69.900  138.00  0.1020  0.7410  4.030   1.7400   \n",
       "3       1.290000e-08   6.260   44.50  0.3510  0.1140  1.210   0.3130   \n",
       "4       1.450000e-09   7.600    1.11  2.0600  0.0374  0.861   0.2730   \n",
       "...              ...     ...     ...     ...     ...    ...      ...   \n",
       "271778  9.600000e-06   1.080    6.61  0.1150  0.1130  3.130   1.1600   \n",
       "271779  1.150000e-05   4.790   22.80  0.0833  0.6940  7.870   5.5500   \n",
       "271780  1.170000e-04  50.000   86.30  0.3360  0.2990  6.870  23.4000   \n",
       "271781  6.590000e-07   2.920    1.49  0.2230  0.7280  4.310   5.0900   \n",
       "271782  1.140000e-06   8.040    8.91  0.0564  0.5820  4.770   1.3100   \n",
       "\n",
       "        reco_coszen  true_coszen  \n",
       "0         -0.658786    -0.580387  \n",
       "1          0.120503     0.020795  \n",
       "2          0.070737    -0.069148  \n",
       "3         -0.079121    -0.069148  \n",
       "4         -0.478727    -0.563985  \n",
       "...             ...          ...  \n",
       "271778     0.659232    -0.323290  \n",
       "271779     0.305817    -0.049184  \n",
       "271780    -0.275590     0.020795  \n",
       "271781     0.647117     0.948287  \n",
       "271782    -0.681056    -0.580387  \n",
       "\n",
       "[271783 rows x 19 columns]"
      ],
      "text/html": "<div>\n<style scoped>\n    .dataframe tbody tr th:only-of-type {\n        vertical-align: middle;\n    }\n\n    .dataframe tbody tr th {\n        vertical-align: top;\n    }\n\n    .dataframe thead th {\n        text-align: right;\n    }\n</style>\n<table border=\"1\" class=\"dataframe\">\n  <thead>\n    <tr style=\"text-align: right;\">\n      <th></th>\n      <th>pdg</th>\n      <th>pid</th>\n      <th>true_energy</th>\n      <th>true_zenith</th>\n      <th>true_azimuth</th>\n      <th>reco_energy</th>\n      <th>reco_zenith</th>\n      <th>reco_azimuth</th>\n      <th>interaction_type</th>\n      <th>current_type</th>\n      <th>weight</th>\n      <th>xsec</th>\n      <th>dxsec</th>\n      <th>x</th>\n      <th>y</th>\n      <th>W</th>\n      <th>Q2</th>\n      <th>reco_coszen</th>\n      <th>true_coszen</th>\n    </tr>\n  </thead>\n  <tbody>\n    <tr>\n      <th>0</th>\n      <td>12.0</td>\n      <td>0.0</td>\n      <td>3.46</td>\n      <td>2.190</td>\n      <td>1.07</td>\n      <td>4.97</td>\n      <td>2.290</td>\n      <td>1.45</td>\n      <td>1.0</td>\n      <td>1.0</td>\n      <td>8.980000e-09</td>\n      <td>0.782</td>\n      <td>5.68</td>\n      <td>0.0879</td>\n      <td>0.1130</td>\n      <td>1.250</td>\n      <td>0.0648</td>\n      <td>-0.658786</td>\n      <td>-0.580387</td>\n    </tr>\n    <tr>\n      <th>1</th>\n      <td>12.0</td>\n      <td>0.0</td>\n      <td>12.30</td>\n      <td>1.550</td>\n      <td>5.39</td>\n      <td>13.20</td>\n      <td>1.450</td>\n      <td>5.86</td>\n      <td>2.0</td>\n      <td>1.0</td>\n      <td>2.180000e-07</td>\n      <td>70.200</td>\n      <td>116.00</td>\n      <td>0.4470</td>\n      <td>0.5520</td>\n      <td>2.820</td>\n      <td>5.7100</td>\n      <td>0.120503</td>\n      <td>0.020795</td>\n    </tr>\n    <tr>\n      <th>2</th>\n      <td>12.0</td>\n      <td>0.0</td>\n      <td>12.30</td>\n      <td>1.640</td>\n      <td>1.13</td>\n      <td>14.60</td>\n      <td>1.500</td>\n      <td>1.23</td>\n      <td>2.0</td>\n      <td>1.0</td>\n      <td>2.170000e-07</td>\n      <td>69.900</td>\n      <td>138.00</td>\n      <td>0.1020</td>\n      <td>0.7410</td>\n      <td>4.030</td>\n      <td>1.7400</td>\n      <td>0.070737</td>\n      <td>-0.069148</td>\n    </tr>\n    <tr>\n      <th>3</th>\n      <td>12.0</td>\n      <td>0.0</td>\n      <td>4.15</td>\n      <td>1.640</td>\n      <td>5.62</td>\n      <td>6.37</td>\n      <td>1.650</td>\n      <td>5.62</td>\n      <td>1.0</td>\n      <td>1.0</td>\n      <td>1.290000e-08</td>\n      <td>6.260</td>\n      <td>44.50</td>\n      <td>0.3510</td>\n      <td>0.1140</td>\n      <td>1.210</td>\n      <td>0.3130</td>\n      <td>-0.079121</td>\n      <td>-0.069148</td>\n    </tr>\n    <tr>\n      <th>4</th>\n      <td>12.0</td>\n      <td>0.0</td>\n      <td>1.89</td>\n      <td>2.170</td>\n      <td>3.33</td>\n      <td>2.88</td>\n      <td>2.070</td>\n      <td>3.16</td>\n      <td>0.0</td>\n      <td>1.0</td>\n      <td>1.450000e-09</td>\n      <td>7.600</td>\n      <td>1.11</td>\n      <td>2.0600</td>\n      <td>0.0374</td>\n      <td>0.861</td>\n      <td>0.2730</td>\n      <td>-0.478727</td>\n      <td>-0.563985</td>\n    </tr>\n    <tr>\n      <th>...</th>\n      <td>...</td>\n      <td>...</td>\n      <td>...</td>\n      <td>...</td>\n      <td>...</td>\n      <td>...</td>\n      <td>...</td>\n      <td>...</td>\n      <td>...</td>\n      <td>...</td>\n      <td>...</td>\n      <td>...</td>\n      <td>...</td>\n      <td>...</td>\n      <td>...</td>\n      <td>...</td>\n      <td>...</td>\n      <td>...</td>\n      <td>...</td>\n    </tr>\n    <tr>\n      <th>271778</th>\n      <td>-16.0</td>\n      <td>0.0</td>\n      <td>47.60</td>\n      <td>1.900</td>\n      <td>2.99</td>\n      <td>20.10</td>\n      <td>0.851</td>\n      <td>3.01</td>\n      <td>2.0</td>\n      <td>0.0</td>\n      <td>9.600000e-06</td>\n      <td>1.080</td>\n      <td>6.61</td>\n      <td>0.1150</td>\n      <td>0.1130</td>\n      <td>3.130</td>\n      <td>1.1600</td>\n      <td>0.659232</td>\n      <td>-0.323290</td>\n    </tr>\n    <tr>\n      <th>271779</th>\n      <td>-16.0</td>\n      <td>1.0</td>\n      <td>51.00</td>\n      <td>1.620</td>\n      <td>1.91</td>\n      <td>31.50</td>\n      <td>1.260</td>\n      <td>1.70</td>\n      <td>2.0</td>\n      <td>0.0</td>\n      <td>1.150000e-05</td>\n      <td>4.790</td>\n      <td>22.80</td>\n      <td>0.0833</td>\n      <td>0.6940</td>\n      <td>7.870</td>\n      <td>5.5500</td>\n      <td>0.305817</td>\n      <td>-0.049184</td>\n    </tr>\n    <tr>\n      <th>271780</th>\n      <td>-16.0</td>\n      <td>0.0</td>\n      <td>124.00</td>\n      <td>1.550</td>\n      <td>2.61</td>\n      <td>37.50</td>\n      <td>1.850</td>\n      <td>2.69</td>\n      <td>2.0</td>\n      <td>0.0</td>\n      <td>1.170000e-04</td>\n      <td>50.000</td>\n      <td>86.30</td>\n      <td>0.3360</td>\n      <td>0.2990</td>\n      <td>6.870</td>\n      <td>23.4000</td>\n      <td>-0.275590</td>\n      <td>0.020795</td>\n    </tr>\n    <tr>\n      <th>271781</th>\n      <td>-16.0</td>\n      <td>0.0</td>\n      <td>16.70</td>\n      <td>0.323</td>\n      <td>2.23</td>\n      <td>12.70</td>\n      <td>0.867</td>\n      <td>2.60</td>\n      <td>2.0</td>\n      <td>0.0</td>\n      <td>6.590000e-07</td>\n      <td>2.920</td>\n      <td>1.49</td>\n      <td>0.2230</td>\n      <td>0.7280</td>\n      <td>4.310</td>\n      <td>5.0900</td>\n      <td>0.647117</td>\n      <td>0.948287</td>\n    </tr>\n    <tr>\n      <th>271782</th>\n      <td>-16.0</td>\n      <td>0.0</td>\n      <td>21.20</td>\n      <td>2.190</td>\n      <td>5.46</td>\n      <td>14.00</td>\n      <td>2.320</td>\n      <td>5.35</td>\n      <td>2.0</td>\n      <td>0.0</td>\n      <td>1.140000e-06</td>\n      <td>8.040</td>\n      <td>8.91</td>\n      <td>0.0564</td>\n      <td>0.5820</td>\n      <td>4.770</td>\n      <td>1.3100</td>\n      <td>-0.681056</td>\n      <td>-0.580387</td>\n    </tr>\n  </tbody>\n</table>\n<p>271783 rows × 19 columns</p>\n</div>"
     },
     "metadata": {},
     "execution_count": 6
    }
   ],
   "source": [
    "df2"
   ]
  },
  {
   "cell_type": "code",
   "execution_count": 7,
   "metadata": {},
   "outputs": [],
   "source": [
    "df2 = get_true_gen2(flavor='e',anti=False,pid=1,E_bin=0,z_bin=0,df=df2)\n",
    "E,z = df2.true_energy.values, df2.true_coszen.values"
   ]
  },
  {
   "cell_type": "code",
   "execution_count": 8,
   "metadata": {},
   "outputs": [],
   "source": [
    "#P = generate_probabilitiesgen2('e','m',E,z,0,0,ic_params_nsi,False,1,3,True)\n",
    "P = get_probabilitiesgen2('e','m',0,0,ic_params_nsi,False,1,3)"
   ]
  },
  {
   "cell_type": "code",
   "execution_count": 11,
   "metadata": {},
   "outputs": [],
   "source": [
    "P = P.reshape(-1,)"
   ]
  },
  {
   "cell_type": "code",
   "execution_count": 13,
   "metadata": {},
   "outputs": [
    {
     "output_type": "execute_result",
     "data": {
      "text/plain": [
       "4.698356189153638e-07"
      ]
     },
     "metadata": {},
     "execution_count": 13
    }
   ],
   "source": [
    "np.sum(df2['weight']*P)"
   ]
  },
  {
   "cell_type": "code",
   "execution_count": null,
   "metadata": {},
   "outputs": [],
   "source": []
  }
 ]
}