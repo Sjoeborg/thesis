{
 "metadata": {
  "language_info": {
   "codemirror_mode": {
    "name": "ipython",
    "version": 3
   },
   "file_extension": ".py",
   "mimetype": "text/x-python",
   "name": "python",
   "nbconvert_exporter": "python",
   "pygments_lexer": "ipython3",
   "version": "3.8.5"
  },
  "orig_nbformat": 2,
  "kernelspec": {
   "name": "python385jvsc74a57bd073761e8a65ef4baed6e0524bb8131aca05507f3ceffbe24eb501f6a7780282b1",
   "display_name": "Python 3.8.5 64-bit ('base': conda)"
  }
 },
 "nbformat": 4,
 "nbformat_minor": 2,
 "cells": [
  {
   "cell_type": "code",
   "execution_count": 1,
   "metadata": {},
   "outputs": [
    {
     "output_type": "stream",
     "name": "stdout",
     "text": [
      "9.824673788013054e-06\n"
     ]
    }
   ],
   "source": [
    "import sys,os\n",
    "os.chdir('../../')\n",
    "sys.path.append('./src/data')\n",
    "sys.path.append('./src/events')\n",
    "sys.path.append('./src/probability')\n",
    "import numpy as np\n",
    "import matplotlib.pyplot as plt\n",
    "import matplotlib\n",
    "import pandas as pd\n",
    "from DC.importer import *\n",
    "from DC.processer import *\n",
    "from DC.main import get_all_events,get_events\n",
    "from functions import perform_chisq, dc_params_nsi, dc_params\n",
    "from DC.event_processing import list_of_params_nsi, return_precomputed_nsi, get_deltachi,normalize_events\n",
    "from scipy.stats import chi2\n",
    "import pickle\n",
    "plt.rcParams['figure.figsize'] = [8, 4]\n",
    "plt.rcParams['figure.dpi'] = 100\n",
    "matplotlib.rc('text', usetex=True)\n",
    "matplotlib.rc('text.latex', preamble=r'\\usepackage{amsmath}')\n",
    "np.set_printoptions(linewidth=200)"
   ]
  },
  {
   "cell_type": "code",
   "execution_count": 2,
   "metadata": {},
   "outputs": [
    {
     "output_type": "stream",
     "name": "stdout",
     "text": [
      "[0.]\n[0.]\n[-0.01       -0.00777778 -0.00555556 -0.00333333 -0.00111111  0.00111111  0.00333333  0.00555556  0.00777778  0.01      ]\n"
     ]
    }
   ],
   "source": [
    "ndim = 3\n",
    "pid = 1\n",
    "precomputed_events = True\n",
    "dc_params_nsi['dm_41'] = 0.93\n",
    "dc_params['dm_41'] = 0.93\n",
    "emm_range = np.linspace(0,0,1)\n",
    "s24_range = np.linspace(0,0,1)\n",
    "emt_range = np.linspace(-1e-2,1e-2,10)\n",
    "param_list = list_of_params_nsi(dc_params_nsi,s24_range, emm_range,emt_range)\n",
    "\n",
    "#for p in param_list: # Assert all dicts returned from param_list have precomputed probs.\n",
    "#    assert is_precomputed_nsi(N=N,ndim=ndim, dict=p,check=False)\n",
    "\n",
    "\n",
    "\n",
    "param_list = return_precomputed_nsi(pid,ndim,params=param_list)\n",
    "emm_range = np.sort(np.unique(np.array([p['e_mm'] for p in param_list])))\n",
    "s24_range = np.sin(2*np.sort(np.unique(np.array([p['theta_24'] for p in param_list]))))**2\n",
    "emt_range = np.sort(np.unique(np.array([p['e_mt'] for p in param_list])))\n",
    "\n",
    "print(emm_range)\n",
    "print(s24_range)\n",
    "print(emt_range)\n",
    "\n",
    "#print(param_list[1])"
   ]
  },
  {
   "cell_type": "code",
   "execution_count": 3,
   "metadata": {},
   "outputs": [],
   "source": [
    "param_list = param_list[0:2]"
   ]
  },
  {
   "cell_type": "code",
   "execution_count": 4,
   "metadata": {},
   "outputs": [],
   "source": [
    "if not precomputed_events:\n",
    "    print('Computing events')\n",
    "    from multiprocessing import Pool\n",
    "    p = Pool()\n",
    "    data = [(p, pid,False) for p in param_list]\n",
    "    H1_events_list = p.starmap(get_all_events, data)\n",
    "    p.close()\n",
    "    pickle.dump(H1_events_list,open(f'./pre_computed/H1_DC_{pid}_{len(emm_range)}x{len(emt_range)}_tau_nsi.p','wb'))\n",
    "\n",
    "    H0_events = get_all_events(params=param_list[0], pid=pid, nsi=True)\n",
    "    pickle.dump(H0_events,open(f'./pre_computed/H0_DC_{pid}.p','wb'))\n",
    "\n",
    "H1_events_list = pickle.load(open(f'./pre_computed/H1_DC_{pid}_{len(emm_range)}x{len(emt_range)}_tau_nsi.p','rb'))\n",
    "H0_events = pickle.load(open(f'./pre_computed/H0_DC_{pid}.p','rb'))\n",
    "\n",
    "\n",
    "H0_normalized, H1_list_normalized = normalize_events(H0_events,H1_events_list,pid)"
   ]
  },
  {
   "cell_type": "code",
   "execution_count": 5,
   "metadata": {},
   "outputs": [
    {
     "output_type": "execute_result",
     "data": {
      "text/plain": [
       "array([[3.86548143e-03, 4.11797580e-03, 4.20360624e-03, 2.94825860e-03, 1.28236982e-03, 5.34971753e-04, 1.74281422e-04, 4.72958367e-05],\n",
       "       [4.78934331e-03, 3.54572716e-03, 3.82782094e-03, 2.97920719e-03, 1.55448516e-03, 8.08611477e-04, 3.95849315e-04, 3.41477437e-04],\n",
       "       [6.17156101e-03, 4.80420096e-03, 5.28385646e-03, 4.66277657e-03, 3.11841911e-03, 1.66627204e-03, 8.84100844e-04, 8.40502306e-04],\n",
       "       [6.80415141e-03, 5.08813869e-03, 6.74321261e-03, 7.87650547e-03, 5.99538650e-03, 2.91318874e-03, 1.42663344e-03, 1.28041093e-03],\n",
       "       [5.92066408e-03, 6.55321708e-03, 1.04469843e-02, 1.23971710e-02, 9.34636049e-03, 5.08927330e-03, 1.77080723e-03, 1.16862721e-03],\n",
       "       [4.67407623e-03, 7.63166183e-03, 1.13461103e-02, 1.37602885e-02, 1.05544387e-02, 5.05353897e-03, 1.83827587e-03, 7.70201670e-04],\n",
       "       [4.28244312e-03, 7.45016750e-03, 1.12126923e-02, 1.25630921e-02, 8.59600725e-03, 3.31860628e-03, 1.15312184e-03, 3.29832240e-04],\n",
       "       [2.98119399e-03, 4.91950732e-03, 6.24826263e-03, 6.76344438e-03, 4.51789641e-03, 1.59662126e-03, 4.18022370e-04, 1.47211596e-04]])"
      ]
     },
     "metadata": {},
     "execution_count": 5
    }
   ],
   "source": [
    "H1_events_list[0]"
   ]
  },
  {
   "cell_type": "code",
   "execution_count": 6,
   "metadata": {},
   "outputs": [
    {
     "output_type": "execute_result",
     "data": {
      "text/plain": [
       "array([[7.29135726e-06, 7.84794061e-06, 8.45386175e-06, 7.33194935e-06, 4.86017431e-06, 3.01040042e-06, 1.62875486e-06, 7.74861451e-07],\n",
       "       [7.99942110e-06, 7.39704242e-06, 8.09196130e-06, 7.19969598e-06, 5.33582636e-06, 3.88729665e-06, 2.52503307e-06, 2.10462063e-06],\n",
       "       [9.16374763e-06, 8.79431057e-06, 9.60443903e-06, 8.88984728e-06, 7.25764201e-06, 5.47563591e-06, 3.93211451e-06, 3.38944648e-06],\n",
       "       [1.02266949e-05, 9.59386044e-06, 1.06568527e-05, 1.10153861e-05, 9.55447814e-06, 7.12944918e-06, 5.14938894e-06, 4.50776776e-06],\n",
       "       [1.09156100e-05, 1.09202233e-05, 1.26701534e-05, 1.29913920e-05, 1.13148970e-05, 8.66000144e-06, 5.74686125e-06, 4.83076337e-06],\n",
       "       [9.46326679e-06, 1.06116846e-05, 1.20167449e-05, 1.31402985e-05, 1.13968686e-05, 7.97237094e-06, 5.31145612e-06, 3.81074942e-06],\n",
       "       [7.52582828e-06, 9.11226827e-06, 1.09197357e-05, 1.19977889e-05, 9.89758911e-06, 6.03593924e-06, 3.63754345e-06, 2.19569829e-06],\n",
       "       [5.14132419e-06, 6.57631802e-06, 7.59641927e-06, 8.59896907e-06, 7.07682723e-06, 3.88846621e-06, 1.96105974e-06, 1.14048800e-06]])"
      ]
     },
     "metadata": {},
     "execution_count": 6
    }
   ],
   "source": [
    "H0_events"
   ]
  },
  {
   "cell_type": "code",
   "execution_count": 6,
   "metadata": {},
   "outputs": [],
   "source": [
    "sigma_a = 0.25\n",
    "sigma_b = 0.04\n",
    "f = 0\n",
    "deltachi, best_index, H1_chisq = get_deltachi(H1_list_normalized, H0_normalized,emt_range,emm_range,0,[sigma_a,sigma_b],f,x0=[1])\n",
    "#s24_cl90, s24_cl99, emm_cl90, emm_cl99 = get_contour(deltachi.T, emt_range,emm_range,2)\n",
    "#best_fit_coords = (param_list[best_index]['e_mt'], param_list[best_index]['e_mm'])"
   ]
  },
  {
   "cell_type": "code",
   "execution_count": 10,
   "metadata": {},
   "outputs": [
    {
     "output_type": "execute_result",
     "data": {
      "text/plain": [
       "array([[ 0.        ],\n",
       "       [12.98547712],\n",
       "       [25.3298408 ],\n",
       "       [36.40792578],\n",
       "       [46.62030861],\n",
       "       [55.2711052 ],\n",
       "       [62.28192845],\n",
       "       [68.1764869 ],\n",
       "       [71.94664659],\n",
       "       [74.16301697]])"
      ]
     },
     "metadata": {},
     "execution_count": 10
    }
   ],
   "source": [
    "deltachi"
   ]
  },
  {
   "cell_type": "code",
   "execution_count": 20,
   "metadata": {},
   "outputs": [
    {
     "output_type": "execute_result",
     "data": {
      "text/plain": [
       "array([0.98533481, 0.98533481, 0.98533481])"
      ]
     },
     "metadata": {},
     "execution_count": 20
    }
   ],
   "source": [
    "from gen2.event_processing import perform_chisq\n",
    "np.array([perform_chisq(H1_norm, H0_events,sigma_syst=0,z=0, sigma_a=0.25,sigma_b=0.04,sigma_g=0, x0=[1])[0] for H1_norm in H1_events_list[0:3]])"
   ]
  }
 ]
}