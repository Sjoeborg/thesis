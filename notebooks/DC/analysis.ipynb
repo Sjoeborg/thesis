{
 "metadata": {
  "language_info": {
   "codemirror_mode": {
    "name": "ipython",
    "version": 3
   },
   "file_extension": ".py",
   "mimetype": "text/x-python",
   "name": "python",
   "nbconvert_exporter": "python",
   "pygments_lexer": "ipython3",
   "version": "3.8.5"
  },
  "orig_nbformat": 2,
  "kernelspec": {
   "name": "python385jvsc74a57bd073761e8a65ef4baed6e0524bb8131aca05507f3ceffbe24eb501f6a7780282b1",
   "display_name": "Python 3.8.5 64-bit ('base': conda)"
  }
 },
 "nbformat": 4,
 "nbformat_minor": 2,
 "cells": [
  {
   "cell_type": "code",
   "execution_count": 1,
   "metadata": {},
   "outputs": [],
   "source": [
    "import sys,os\n",
    "os.chdir('../../')\n",
    "sys.path.append('./src/data')\n",
    "sys.path.append('./src/events')\n",
    "sys.path.append('./src/probability')\n",
    "import numpy as np\n",
    "import matplotlib.pyplot as plt\n",
    "import matplotlib\n",
    "import pandas as pd\n",
    "from DC.importer import *\n",
    "from DC.processer import *\n",
    "from DC.main import get_all_events,get_events\n",
    "from functions import perform_chisq, dc_params_nsi, dc_params\n",
    "from DC.event_processing import list_of_params_nsi, return_precomputed_nsi, get_deltachi,normalize_events\n",
    "from scipy.stats import chi2\n",
    "import pickle\n",
    "plt.rcParams['figure.figsize'] = [8, 4]\n",
    "plt.rcParams['figure.dpi'] = 100\n",
    "matplotlib.rc('text', usetex=True)\n",
    "matplotlib.rc('text.latex', preamble=r'\\usepackage{amsmath}')\n",
    "np.set_printoptions(linewidth=200)"
   ]
  },
  {
   "cell_type": "code",
   "execution_count": 2,
   "metadata": {},
   "outputs": [
    {
     "output_type": "stream",
     "name": "stdout",
     "text": [
      "[0.]\n[0.]\n[-0.01       -0.00777778 -0.00555556 -0.00333333 -0.00111111  0.00111111  0.00333333  0.00555556  0.00777778  0.01      ]\n"
     ]
    }
   ],
   "source": [
    "ndim = 3\n",
    "pid = 1\n",
    "precomputed_events = True\n",
    "dc_params_nsi['dm_41'] = 0.93\n",
    "dc_params['dm_41'] = 0.93\n",
    "emm_range = np.linspace(0,0,1)\n",
    "s24_range = np.linspace(0,0,1)\n",
    "emt_range = np.linspace(-1e-2,1e-2,10)\n",
    "param_list = list_of_params_nsi(dc_params_nsi,s24_range, emm_range,emt_range)\n",
    "\n",
    "#for p in param_list: # Assert all dicts returned from param_list have precomputed probs.\n",
    "#    assert is_precomputed_nsi(N=N,ndim=ndim, dict=p,check=False)\n",
    "\n",
    "\n",
    "\n",
    "param_list = return_precomputed_nsi(pid,ndim,params=param_list)\n",
    "emm_range = np.sort(np.unique(np.array([p['e_mm'] for p in param_list])))\n",
    "s24_range = np.sin(2*np.sort(np.unique(np.array([p['theta_24'] for p in param_list]))))**2\n",
    "emt_range = np.sort(np.unique(np.array([p['e_mt'] for p in param_list])))\n",
    "\n",
    "print(emm_range)\n",
    "print(s24_range)\n",
    "print(emt_range)\n",
    "\n",
    "#print(param_list[1])"
   ]
  },
  {
   "cell_type": "code",
   "execution_count": 3,
   "metadata": {},
   "outputs": [],
   "source": [
    "param_list = param_list[0:2]"
   ]
  },
  {
   "cell_type": "code",
   "execution_count": 4,
   "metadata": {},
   "outputs": [],
   "source": [
    "if not precomputed_events:\n",
    "    print('Computing events')\n",
    "    from multiprocessing import Pool\n",
    "    p = Pool()\n",
    "    data = [(p, pid,False) for p in param_list]\n",
    "    H1_events_list = p.starmap(get_all_events, data)\n",
    "    p.close()\n",
    "    pickle.dump(H1_events_list,open(f'./pre_computed/H1_DC_{pid}_{len(emm_range)}x{len(emt_range)}_tau_nsi.p','wb'))\n",
    "\n",
    "    H0_events = get_all_events(params=param_list[0], pid=pid, nsi=True)\n",
    "    pickle.dump(H0_events,open(f'./pre_computed/H0_DC_{pid}.p','wb'))\n",
    "\n",
    "H1_events_list = pickle.load(open(f'./pre_computed/H1_DC_{pid}_{len(emm_range)}x{len(emt_range)}_tau_nsi.p','rb'))\n",
    "H0_events = pickle.load(open(f'./pre_computed/H0_DC_{pid}.p','rb'))\n",
    "\n",
    "\n",
    "H0_normalized, H1_list_normalized = normalize_events(H0_events,H1_events_list,pid)"
   ]
  },
  {
   "cell_type": "code",
   "execution_count": 5,
   "metadata": {},
   "outputs": [
    {
     "output_type": "execute_result",
     "data": {
      "text/plain": [
       "array([[3.86548143e-03, 4.11797580e-03, 4.20360624e-03, 2.94825860e-03, 1.28236982e-03, 5.34971753e-04, 1.74281422e-04, 4.72958367e-05],\n",
       "       [4.78934331e-03, 3.54572716e-03, 3.82782094e-03, 2.97920719e-03, 1.55448516e-03, 8.08611477e-04, 3.95849315e-04, 3.41477437e-04],\n",
       "       [6.17156101e-03, 4.80420096e-03, 5.28385646e-03, 4.66277657e-03, 3.11841911e-03, 1.66627204e-03, 8.84100844e-04, 8.40502306e-04],\n",
       "       [6.80415141e-03, 5.08813869e-03, 6.74321261e-03, 7.87650547e-03, 5.99538650e-03, 2.91318874e-03, 1.42663344e-03, 1.28041093e-03],\n",
       "       [5.92066408e-03, 6.55321708e-03, 1.04469843e-02, 1.23971710e-02, 9.34636049e-03, 5.08927330e-03, 1.77080723e-03, 1.16862721e-03],\n",
       "       [4.67407623e-03, 7.63166183e-03, 1.13461103e-02, 1.37602885e-02, 1.05544387e-02, 5.05353897e-03, 1.83827587e-03, 7.70201670e-04],\n",
       "       [4.28244312e-03, 7.45016750e-03, 1.12126923e-02, 1.25630921e-02, 8.59600725e-03, 3.31860628e-03, 1.15312184e-03, 3.29832240e-04],\n",
       "       [2.98119399e-03, 4.91950732e-03, 6.24826263e-03, 6.76344438e-03, 4.51789641e-03, 1.59662126e-03, 4.18022370e-04, 1.47211596e-04]])"
      ]
     },
     "metadata": {},
     "execution_count": 5
    }
   ],
   "source": [
    "H1_events_list[0]"
   ]
  },
  {
   "cell_type": "code",
   "execution_count": 6,
   "metadata": {},
   "outputs": [
    {
     "output_type": "execute_result",
     "data": {
      "text/plain": [
       "array([[7.29135726e-06, 7.84794061e-06, 8.45386175e-06, 7.33194935e-06, 4.86017431e-06, 3.01040042e-06, 1.62875486e-06, 7.74861451e-07],\n",
       "       [7.99942110e-06, 7.39704242e-06, 8.09196130e-06, 7.19969598e-06, 5.33582636e-06, 3.88729665e-06, 2.52503307e-06, 2.10462063e-06],\n",
       "       [9.16374763e-06, 8.79431057e-06, 9.60443903e-06, 8.88984728e-06, 7.25764201e-06, 5.47563591e-06, 3.93211451e-06, 3.38944648e-06],\n",
       "       [1.02266949e-05, 9.59386044e-06, 1.06568527e-05, 1.10153861e-05, 9.55447814e-06, 7.12944918e-06, 5.14938894e-06, 4.50776776e-06],\n",
       "       [1.09156100e-05, 1.09202233e-05, 1.26701534e-05, 1.29913920e-05, 1.13148970e-05, 8.66000144e-06, 5.74686125e-06, 4.83076337e-06],\n",
       "       [9.46326679e-06, 1.06116846e-05, 1.20167449e-05, 1.31402985e-05, 1.13968686e-05, 7.97237094e-06, 5.31145612e-06, 3.81074942e-06],\n",
       "       [7.52582828e-06, 9.11226827e-06, 1.09197357e-05, 1.19977889e-05, 9.89758911e-06, 6.03593924e-06, 3.63754345e-06, 2.19569829e-06],\n",
       "       [5.14132419e-06, 6.57631802e-06, 7.59641927e-06, 8.59896907e-06, 7.07682723e-06, 3.88846621e-06, 1.96105974e-06, 1.14048800e-06]])"
      ]
     },
     "metadata": {},
     "execution_count": 6
    }
   ],
   "source": [
    "H0_events"
   ]
  },
  {
   "cell_type": "code",
   "execution_count": 6,
   "metadata": {},
   "outputs": [],
   "source": [
    "sigma_a = 0.25\n",
    "sigma_b = 0.04\n",
    "f = 0\n",
    "deltachi, best_index, H1_chisq = get_deltachi(H1_list_normalized, H0_normalized,emt_range,emm_range,0,[sigma_a,sigma_b],f,x0=[1])\n",
    "#s24_cl90, s24_cl99, emm_cl90, emm_cl99 = get_contour(deltachi.T, emt_range,emm_range,2)\n",
    "#best_fit_coords = (param_list[best_index]['e_mt'], param_list[best_index]['e_mm'])"
   ]
  },
  {
   "cell_type": "code",
   "execution_count": 10,
   "metadata": {},
   "outputs": [
    {
     "output_type": "execute_result",
     "data": {
      "text/plain": [
       "array([[ 0.        ],\n",
       "       [12.98547712],\n",
       "       [25.3298408 ],\n",
       "       [36.40792578],\n",
       "       [46.62030861],\n",
       "       [55.2711052 ],\n",
       "       [62.28192845],\n",
       "       [68.1764869 ],\n",
       "       [71.94664659],\n",
       "       [74.16301697]])"
      ]
     },
     "metadata": {},
     "execution_count": 10
    }
   ],
   "source": [
    "deltachi"
   ]
  },
  {
   "cell_type": "code",
   "execution_count": 20,
   "metadata": {},
   "outputs": [
    {
     "output_type": "execute_result",
     "data": {
      "text/plain": [
       "array([0.98533481, 0.98533481, 0.98533481])"
      ]
     },
     "metadata": {},
     "execution_count": 20
    }
   ],
   "source": [
    "from gen2.event_processing import perform_chisq\n",
    "np.array([perform_chisq(H1_norm, H0_events,sigma_syst=0,z=0, sigma_a=0.25,sigma_b=0.04,sigma_g=0, x0=[1])[0] for H1_norm in H1_events_list[0:3]])"
   ]
  },
  {
   "cell_type": "code",
   "execution_count": 5,
   "metadata": {},
   "outputs": [],
   "source": [
    "from DC.importer import MC2018_DC\n",
    "df = MC2018_DC(1)\n",
    "interp_flux = interpolate_flux_DC()"
   ]
  },
  {
   "cell_type": "code",
   "execution_count": 14,
   "metadata": {},
   "outputs": [],
   "source": [
    "df= df.sample(20)"
   ]
  },
  {
   "cell_type": "code",
   "execution_count": 21,
   "metadata": {},
   "outputs": [],
   "source": [
    "masks = {}\n",
    "masks['e'] = (df[\"pdg\"] == 12)\n",
    "masks['m'] = (df[\"pdg\"] == 14)\n",
    "masks['t'] = (df[\"pdg\"] == 16)\n",
    "anti_masks = {}\n",
    "anti_masks['ebar'] = (df[\"pdg\"] == -12)\n",
    "anti_masks['mbar'] = (df[\"pdg\"] == -14)\n",
    "anti_masks['tbar'] = (df[\"pdg\"] == -16)"
   ]
  },
  {
   "cell_type": "code",
   "execution_count": 30,
   "metadata": {},
   "outputs": [
    {
     "output_type": "stream",
     "name": "stdout",
     "text": [
      "ett 1\n"
     ]
    }
   ],
   "source": [
    "test = {'ett':1}\n",
    "for t,i in test.items():\n",
    "    print(t,i)"
   ]
  },
  {
   "cell_type": "code",
   "execution_count": 22,
   "metadata": {},
   "outputs": [],
   "source": [
    "Pmm = 0.8\n",
    "Pem = 0.2"
   ]
  },
  {
   "cell_type": "code",
   "execution_count": 27,
   "metadata": {},
   "outputs": [
    {
     "output_type": "execute_result",
     "data": {
      "text/plain": [
       "         pdg  pid  reco_coszen  reco_energy  true_coszen  true_energy  type  \\\n",
       "327536  14.0  1.0        0.375         20.7     0.508451    16.200706   3.0   \n",
       "207769  14.0  1.0       -0.625          8.7    -0.488057    14.384007   2.0   \n",
       "369815  14.0  1.0        0.125          8.7    -0.571343     4.160683   1.0   \n",
       "183811  14.0  1.0       -0.625         36.9    -0.648630    33.505566   3.0   \n",
       "137156  14.0  1.0        0.875         27.7     0.974316    13.954353   3.0   \n",
       "618929 -14.0  1.0        0.875         15.6     0.364108     7.506996   2.0   \n",
       "710352 -16.0  1.0       -0.375          8.7    -0.839749    14.505339   1.0   \n",
       "429454  14.0  1.0        0.125         36.9     0.191426    31.619301   2.0   \n",
       "454953  16.0  1.0       -0.125         15.6    -0.153122    18.328390   3.0   \n",
       "210599  14.0  1.0       -0.625         20.7    -0.590287    17.519423   3.0   \n",
       "266085  14.0  1.0       -0.875         15.6    -0.951131    17.440660   3.0   \n",
       "609951 -14.0  1.0        0.125          8.7     0.086087     8.050561   1.0   \n",
       "169362  14.0  1.0       -0.875         20.7    -0.881566    16.633810   3.0   \n",
       "329735  14.0  1.0       -0.125          6.6    -0.300771     8.298190   2.0   \n",
       "562544 -14.0  1.0        0.125         15.6     0.547764    18.680960   3.0   \n",
       "156518  14.0  1.0       -0.375         36.9    -0.392720    29.715302   2.0   \n",
       "95953   12.0  1.0       -0.875         15.6    -0.944074     7.310743   3.0   \n",
       "596259 -14.0  1.0        0.125         11.7    -0.178137    19.178860   3.0   \n",
       "23828   12.0  1.0        0.625         15.6     0.865379    24.098013   3.0   \n",
       "211032  14.0  1.0       -0.875         27.7    -0.888610    73.957245   3.0   \n",
       "\n",
       "              weight  rate_weight  \n",
       "327536  1.248747e-08     0.059620  \n",
       "207769  8.904676e-09     0.087543  \n",
       "369815  2.316386e-10     3.156112  \n",
       "183811  1.094684e-07     0.006484  \n",
       "137156  8.085348e-09     0.077276  \n",
       "618929  1.542601e-09     0.632888  \n",
       "710352  1.468020e-08     0.073319  \n",
       "429454  9.143052e-08     0.010730  \n",
       "454953  2.458036e-08     0.058114  \n",
       "210599  1.576281e-08     0.046249  \n",
       "266085  1.562140e-08     0.041061  \n",
       "609951  1.889590e-09     0.690876  \n",
       "169362  1.358319e-08     0.047998  \n",
       "329735  1.764809e-09     0.509612  \n",
       "562544  2.266185e-08     0.038140  \n",
       "156518  7.608601e-08     0.010842  \n",
       "95953   2.196936e-09     0.541214  \n",
       "596259  2.455498e-08     0.048981  \n",
       "23828   1.066395e-07     0.015636  \n",
       "211032  1.157542e-06     0.000525  "
      ],
      "text/html": "<div>\n<style scoped>\n    .dataframe tbody tr th:only-of-type {\n        vertical-align: middle;\n    }\n\n    .dataframe tbody tr th {\n        vertical-align: top;\n    }\n\n    .dataframe thead th {\n        text-align: right;\n    }\n</style>\n<table border=\"1\" class=\"dataframe\">\n  <thead>\n    <tr style=\"text-align: right;\">\n      <th></th>\n      <th>pdg</th>\n      <th>pid</th>\n      <th>reco_coszen</th>\n      <th>reco_energy</th>\n      <th>true_coszen</th>\n      <th>true_energy</th>\n      <th>type</th>\n      <th>weight</th>\n      <th>rate_weight</th>\n    </tr>\n  </thead>\n  <tbody>\n    <tr>\n      <th>327536</th>\n      <td>14.0</td>\n      <td>1.0</td>\n      <td>0.375</td>\n      <td>20.7</td>\n      <td>0.508451</td>\n      <td>16.200706</td>\n      <td>3.0</td>\n      <td>1.248747e-08</td>\n      <td>0.059620</td>\n    </tr>\n    <tr>\n      <th>207769</th>\n      <td>14.0</td>\n      <td>1.0</td>\n      <td>-0.625</td>\n      <td>8.7</td>\n      <td>-0.488057</td>\n      <td>14.384007</td>\n      <td>2.0</td>\n      <td>8.904676e-09</td>\n      <td>0.087543</td>\n    </tr>\n    <tr>\n      <th>369815</th>\n      <td>14.0</td>\n      <td>1.0</td>\n      <td>0.125</td>\n      <td>8.7</td>\n      <td>-0.571343</td>\n      <td>4.160683</td>\n      <td>1.0</td>\n      <td>2.316386e-10</td>\n      <td>3.156112</td>\n    </tr>\n    <tr>\n      <th>183811</th>\n      <td>14.0</td>\n      <td>1.0</td>\n      <td>-0.625</td>\n      <td>36.9</td>\n      <td>-0.648630</td>\n      <td>33.505566</td>\n      <td>3.0</td>\n      <td>1.094684e-07</td>\n      <td>0.006484</td>\n    </tr>\n    <tr>\n      <th>137156</th>\n      <td>14.0</td>\n      <td>1.0</td>\n      <td>0.875</td>\n      <td>27.7</td>\n      <td>0.974316</td>\n      <td>13.954353</td>\n      <td>3.0</td>\n      <td>8.085348e-09</td>\n      <td>0.077276</td>\n    </tr>\n    <tr>\n      <th>618929</th>\n      <td>-14.0</td>\n      <td>1.0</td>\n      <td>0.875</td>\n      <td>15.6</td>\n      <td>0.364108</td>\n      <td>7.506996</td>\n      <td>2.0</td>\n      <td>1.542601e-09</td>\n      <td>0.632888</td>\n    </tr>\n    <tr>\n      <th>710352</th>\n      <td>-16.0</td>\n      <td>1.0</td>\n      <td>-0.375</td>\n      <td>8.7</td>\n      <td>-0.839749</td>\n      <td>14.505339</td>\n      <td>1.0</td>\n      <td>1.468020e-08</td>\n      <td>0.073319</td>\n    </tr>\n    <tr>\n      <th>429454</th>\n      <td>14.0</td>\n      <td>1.0</td>\n      <td>0.125</td>\n      <td>36.9</td>\n      <td>0.191426</td>\n      <td>31.619301</td>\n      <td>2.0</td>\n      <td>9.143052e-08</td>\n      <td>0.010730</td>\n    </tr>\n    <tr>\n      <th>454953</th>\n      <td>16.0</td>\n      <td>1.0</td>\n      <td>-0.125</td>\n      <td>15.6</td>\n      <td>-0.153122</td>\n      <td>18.328390</td>\n      <td>3.0</td>\n      <td>2.458036e-08</td>\n      <td>0.058114</td>\n    </tr>\n    <tr>\n      <th>210599</th>\n      <td>14.0</td>\n      <td>1.0</td>\n      <td>-0.625</td>\n      <td>20.7</td>\n      <td>-0.590287</td>\n      <td>17.519423</td>\n      <td>3.0</td>\n      <td>1.576281e-08</td>\n      <td>0.046249</td>\n    </tr>\n    <tr>\n      <th>266085</th>\n      <td>14.0</td>\n      <td>1.0</td>\n      <td>-0.875</td>\n      <td>15.6</td>\n      <td>-0.951131</td>\n      <td>17.440660</td>\n      <td>3.0</td>\n      <td>1.562140e-08</td>\n      <td>0.041061</td>\n    </tr>\n    <tr>\n      <th>609951</th>\n      <td>-14.0</td>\n      <td>1.0</td>\n      <td>0.125</td>\n      <td>8.7</td>\n      <td>0.086087</td>\n      <td>8.050561</td>\n      <td>1.0</td>\n      <td>1.889590e-09</td>\n      <td>0.690876</td>\n    </tr>\n    <tr>\n      <th>169362</th>\n      <td>14.0</td>\n      <td>1.0</td>\n      <td>-0.875</td>\n      <td>20.7</td>\n      <td>-0.881566</td>\n      <td>16.633810</td>\n      <td>3.0</td>\n      <td>1.358319e-08</td>\n      <td>0.047998</td>\n    </tr>\n    <tr>\n      <th>329735</th>\n      <td>14.0</td>\n      <td>1.0</td>\n      <td>-0.125</td>\n      <td>6.6</td>\n      <td>-0.300771</td>\n      <td>8.298190</td>\n      <td>2.0</td>\n      <td>1.764809e-09</td>\n      <td>0.509612</td>\n    </tr>\n    <tr>\n      <th>562544</th>\n      <td>-14.0</td>\n      <td>1.0</td>\n      <td>0.125</td>\n      <td>15.6</td>\n      <td>0.547764</td>\n      <td>18.680960</td>\n      <td>3.0</td>\n      <td>2.266185e-08</td>\n      <td>0.038140</td>\n    </tr>\n    <tr>\n      <th>156518</th>\n      <td>14.0</td>\n      <td>1.0</td>\n      <td>-0.375</td>\n      <td>36.9</td>\n      <td>-0.392720</td>\n      <td>29.715302</td>\n      <td>2.0</td>\n      <td>7.608601e-08</td>\n      <td>0.010842</td>\n    </tr>\n    <tr>\n      <th>95953</th>\n      <td>12.0</td>\n      <td>1.0</td>\n      <td>-0.875</td>\n      <td>15.6</td>\n      <td>-0.944074</td>\n      <td>7.310743</td>\n      <td>3.0</td>\n      <td>2.196936e-09</td>\n      <td>0.541214</td>\n    </tr>\n    <tr>\n      <th>596259</th>\n      <td>-14.0</td>\n      <td>1.0</td>\n      <td>0.125</td>\n      <td>11.7</td>\n      <td>-0.178137</td>\n      <td>19.178860</td>\n      <td>3.0</td>\n      <td>2.455498e-08</td>\n      <td>0.048981</td>\n    </tr>\n    <tr>\n      <th>23828</th>\n      <td>12.0</td>\n      <td>1.0</td>\n      <td>0.625</td>\n      <td>15.6</td>\n      <td>0.865379</td>\n      <td>24.098013</td>\n      <td>3.0</td>\n      <td>1.066395e-07</td>\n      <td>0.015636</td>\n    </tr>\n    <tr>\n      <th>211032</th>\n      <td>14.0</td>\n      <td>1.0</td>\n      <td>-0.875</td>\n      <td>27.7</td>\n      <td>-0.888610</td>\n      <td>73.957245</td>\n      <td>3.0</td>\n      <td>1.157542e-06</td>\n      <td>0.000525</td>\n    </tr>\n  </tbody>\n</table>\n</div>"
     },
     "metadata": {},
     "execution_count": 27
    }
   ],
   "source": [
    "rate_weight = np.zeros_like(df[\"weight\"])\n",
    "params = dc_params\n",
    "nsi = False\n",
    "pid=1\n",
    "0,0=Ebin,zbin\n",
    "for flavor_to, mask in masks.items():\n",
    "    e_flux = get_flux('e',df[mask].true_energy,df[mask].true_coszen,interp_flux)\n",
    "    m_flux = get_flux('m',df[mask].true_energy,df[mask].true_coszen,interp_flux)\n",
    "\n",
    "    Pe = get_probabilities_DC('e', flavor_to, Ebin,zbin,params,anti=False,pid=pid,ndim=3,nsi=nsi)\n",
    "    Pm = get_probabilities_DC('m', flavor_to, Ebin,zbin,params,anti=False,pid=pid,ndim=3,nsi=nsi)\n",
    "\n",
    "    rate_weight[mask] = m_flux*Pm + e_flux*Pe\n",
    "\n",
    "for flavor_to, mask in anti_masks.items():\n",
    "    ebar_flux = get_flux('ebar',df[mask].true_energy,df[mask].true_coszen,interp_flux)\n",
    "    mbar_flux = get_flux('mbar',df[mask].true_energy,df[mask].true_coszen,interp_flux)\n",
    "\n",
    "    Pebar = get_probabilities_DC('e', flavor_to[0], Ebin,zbin,params,anti=True,pid=pid,ndim=3,nsi=nsi)\n",
    "    Pmbar = get_probabilities_DC('m', flavor_to[0], Ebin,zbin,params,anti=True,pid=pid,ndim=3,nsi=nsi)\n",
    "\n",
    "    rate_weight[mask] = mbar_flux*Pmbar + ebar_flux*Pebar\n",
    "'''\n",
    "rate_weight[e_mask] = eflux * df['weight'][e_mask]\n",
    "rate_weight[mu_mask] = mflux * df['weight'][mu_mask]\n",
    "rate_weight[ebar_mask] = ebarflux * df['weight'][ebar_mask]\n",
    "rate_weight[mubar_mask] = mbarflux * df['weight'][mubar_mask]\n",
    "\n",
    "'''\n",
    "df['rate_weight'] = rate_weight\n",
    "\n",
    "#reco_df = df[['reco_coszen', 'reco_energy','true_coszen','true_energy', 'rate_weight','pid','pdg','type']].dropna()\n",
    "\n",
    "#return reco_df#neutrinos\n",
    "df"
   ]
  },
  {
   "cell_type": "code",
   "execution_count": null,
   "metadata": {},
   "outputs": [],
   "source": []
  }
 ]
}