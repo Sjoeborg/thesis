{
 "metadata": {
  "language_info": {
   "codemirror_mode": {
    "name": "ipython",
    "version": 3
   },
   "file_extension": ".py",
   "mimetype": "text/x-python",
   "name": "python",
   "nbconvert_exporter": "python",
   "pygments_lexer": "ipython3",
   "version": "3.8.5"
  },
  "orig_nbformat": 4,
  "kernelspec": {
   "name": "python3",
   "display_name": "Python 3.8.5 64-bit ('base': conda)"
  },
  "interpreter": {
   "hash": "73761e8a65ef4baed6e0524bb8131aca05507f3ceffbe24eb501f6a7780282b1"
  }
 },
 "nbformat": 4,
 "nbformat_minor": 2,
 "cells": [
  {
   "cell_type": "code",
   "execution_count": 1,
   "metadata": {},
   "outputs": [],
   "source": [
    "import sympy as sp \n",
    "import numpy as np"
   ]
  },
  {
   "cell_type": "code",
   "execution_count": 37,
   "metadata": {},
   "outputs": [],
   "source": [
    "m_31 = sp.symbols(\"\\Delta{m_{31}^2}\", real = True, constant=True,positive=True)\n",
    "th_13,th_23,th_23 = sp.symbols('theta_13 theta_23 theta_23', real = True, constant=True)\n",
    "E = sp.symbols('E', real = True, constant=True)\n",
    "A= sp.symbols(\"A_{CC}\", real = True, constant=True)\n",
    "eem = sp.symbols(\"\\epsilon_{e\\mu}\", real = True, constant=True)\n",
    "eet = sp.symbols(\"\\epsilon_{e\\\\tau}\", real = True, constant=True)\n",
    "s_13 = m_31/(m_31 - A) * sp.sin(th_13)\n",
    "s_23 = sp.sin(th_23)\n",
    "c_23 = sp.sin(th_23)\n",
    "L = 12000"
   ]
  },
  {
   "cell_type": "code",
   "execution_count": 38,
   "metadata": {},
   "outputs": [
    {
     "output_type": "execute_result",
     "data": {
      "text/plain": [
       "\\epsilon_{e\\tau}"
      ],
      "text/latex": "$\\displaystyle \\epsilon_{e\\tau}$"
     },
     "metadata": {},
     "execution_count": 38
    }
   ],
   "source": [
    "eet"
   ]
  },
  {
   "cell_type": "code",
   "execution_count": 39,
   "metadata": {},
   "outputs": [],
   "source": [
    "Pme = 4*s_13**2 * s_23**2 * sp.sin((m_31 -A)*L/(4*E)) - 2*eet * s_13 * s_23 * c_23**2 * (2*sp.sin(A*L/(4*E))**2 - 2*sp.sin(m_31*L/(4*E))**2 + 2*sp.sin((m_31 - A)*L/(4*E))**2+sp.sin(A*L/(2*E)) - sp.sin(m_31*L/(2*E)) + sp.sin((m_31 - A)*L/(2*E))) + 8*eem * s_13*s_23**2 * A/(m_31-A) * sp.sin((m_31 - A)*L/(4*E))**2 + 2*eet*s_13*s_23**2*c_23*(2*sp.sin(A*L/(4*E))**2 - 2*sp.sin(m_31*L/(4*E))**2 + 2*sp.sin((m_31 - A)*L/(4*E))**2\n",
    "+sp.sin(A*L/(2*E)) - sp.sin(m_31*L/(2*E)) + sp.sin((m_31 - A)*L/(2*E)) + 4*A/(m_31-A) * sp.sin((m_31-A)*L/(4*E))**2)"
   ]
  },
  {
   "cell_type": "code",
   "execution_count": 40,
   "metadata": {},
   "outputs": [
    {
     "output_type": "execute_result",
     "data": {
      "text/plain": [
       "8*A_{CC}*\\Delta{m_{31}^2}*\\epsilon_{e\\mu}*sin(theta_13)*sin(theta_23)**2*sin((-12000*A_{CC} + 12000*\\Delta{m_{31}^2})/(4*E))**2/(-A_{CC} + \\Delta{m_{31}^2})**2 + 4*\\Delta{m_{31}^2}**2*sin(theta_13)**2*sin(theta_23)**2*sin((-12000*A_{CC} + 12000*\\Delta{m_{31}^2})/(4*E))/(-A_{CC} + \\Delta{m_{31}^2})**2 - 2*\\Delta{m_{31}^2}*\\epsilon_{e\\tau}*(2*sin(3000*A_{CC}/E)**2 + sin(6000*A_{CC}/E) - 2*sin(3000*\\Delta{m_{31}^2}/E)**2 - sin(6000*\\Delta{m_{31}^2}/E) + 2*sin((-12000*A_{CC} + 12000*\\Delta{m_{31}^2})/(4*E))**2 + sin((-12000*A_{CC} + 12000*\\Delta{m_{31}^2})/(2*E)))*sin(theta_13)*sin(theta_23)**3/(-A_{CC} + \\Delta{m_{31}^2}) + 2*\\Delta{m_{31}^2}*\\epsilon_{e\\tau}*(4*A_{CC}*sin((-12000*A_{CC} + 12000*\\Delta{m_{31}^2})/(4*E))**2/(-A_{CC} + \\Delta{m_{31}^2}) + 2*sin(3000*A_{CC}/E)**2 + sin(6000*A_{CC}/E) - 2*sin(3000*\\Delta{m_{31}^2}/E)**2 - sin(6000*\\Delta{m_{31}^2}/E) + 2*sin((-12000*A_{CC} + 12000*\\Delta{m_{31}^2})/(4*E))**2 + sin((-12000*A_{CC} + 12000*\\Delta{m_{31}^2})/(2*E)))*sin(theta_13)*sin(theta_23)**3/(-A_{CC} + \\Delta{m_{31}^2})"
      ],
      "text/latex": "$\\displaystyle \\frac{8 A_{CC} \\Delta{m_{31}^2} \\epsilon_{e\\mu} \\sin{\\left(\\theta_{13} \\right)} \\sin^{2}{\\left(\\theta_{23} \\right)} \\sin^{2}{\\left(\\frac{- 12000 A_{CC} + 12000 \\Delta{m_{31}^2}}{4 E} \\right)}}{\\left(- A_{CC} + \\Delta{m_{31}^2}\\right)^{2}} + \\frac{4 \\left(\\Delta{m_{31}^2}\\right)^{2} \\sin^{2}{\\left(\\theta_{13} \\right)} \\sin^{2}{\\left(\\theta_{23} \\right)} \\sin{\\left(\\frac{- 12000 A_{CC} + 12000 \\Delta{m_{31}^2}}{4 E} \\right)}}{\\left(- A_{CC} + \\Delta{m_{31}^2}\\right)^{2}} - \\frac{2 \\Delta{m_{31}^2} \\epsilon_{e\\tau} \\left(2 \\sin^{2}{\\left(\\frac{3000 A_{CC}}{E} \\right)} + \\sin{\\left(\\frac{6000 A_{CC}}{E} \\right)} - 2 \\sin^{2}{\\left(\\frac{3000 \\Delta{m_{31}^2}}{E} \\right)} - \\sin{\\left(\\frac{6000 \\Delta{m_{31}^2}}{E} \\right)} + 2 \\sin^{2}{\\left(\\frac{- 12000 A_{CC} + 12000 \\Delta{m_{31}^2}}{4 E} \\right)} + \\sin{\\left(\\frac{- 12000 A_{CC} + 12000 \\Delta{m_{31}^2}}{2 E} \\right)}\\right) \\sin{\\left(\\theta_{13} \\right)} \\sin^{3}{\\left(\\theta_{23} \\right)}}{- A_{CC} + \\Delta{m_{31}^2}} + \\frac{2 \\Delta{m_{31}^2} \\epsilon_{e\\tau} \\left(\\frac{4 A_{CC} \\sin^{2}{\\left(\\frac{- 12000 A_{CC} + 12000 \\Delta{m_{31}^2}}{4 E} \\right)}}{- A_{CC} + \\Delta{m_{31}^2}} + 2 \\sin^{2}{\\left(\\frac{3000 A_{CC}}{E} \\right)} + \\sin{\\left(\\frac{6000 A_{CC}}{E} \\right)} - 2 \\sin^{2}{\\left(\\frac{3000 \\Delta{m_{31}^2}}{E} \\right)} - \\sin{\\left(\\frac{6000 \\Delta{m_{31}^2}}{E} \\right)} + 2 \\sin^{2}{\\left(\\frac{- 12000 A_{CC} + 12000 \\Delta{m_{31}^2}}{4 E} \\right)} + \\sin{\\left(\\frac{- 12000 A_{CC} + 12000 \\Delta{m_{31}^2}}{2 E} \\right)}\\right) \\sin{\\left(\\theta_{13} \\right)} \\sin^{3}{\\left(\\theta_{23} \\right)}}{- A_{CC} + \\Delta{m_{31}^2}}$"
     },
     "metadata": {},
     "execution_count": 40
    }
   ],
   "source": [
    "Pme"
   ]
  },
  {
   "cell_type": "code",
   "execution_count": null,
   "metadata": {},
   "outputs": [],
   "source": []
  }
 ]
}