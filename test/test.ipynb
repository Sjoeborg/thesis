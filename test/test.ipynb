{
 "metadata": {
  "language_info": {
   "codemirror_mode": {
    "name": "ipython",
    "version": 3
   },
   "file_extension": ".py",
   "mimetype": "text/x-python",
   "name": "python",
   "nbconvert_exporter": "python",
   "pygments_lexer": "ipython3",
   "version": "3.8.5"
  },
  "orig_nbformat": 2,
  "kernelspec": {
   "name": "python385jvsc74a57bd073761e8a65ef4baed6e0524bb8131aca05507f3ceffbe24eb501f6a7780282b1",
   "display_name": "Python 3.8.5 64-bit ('base': conda)"
  }
 },
 "nbformat": 4,
 "nbformat_minor": 2,
 "cells": [
  {
   "cell_type": "code",
   "execution_count": 1,
   "metadata": {},
   "outputs": [],
   "source": [
    "import pandas as pd\n",
    "import pickle\n",
    "import numpy as np \n",
    "import matplotlib.pyplot as plt \n",
    "import os,sys\n",
    "os.chdir('../')\n",
    "sys.path.append('./src/data')\n",
    "sys.path.append('./src/probability')\n",
    "sys.path.append('./src/events')\n",
    "Ebins = 500*10**np.linspace(0,1.3,14)\n",
    "filename = '../NuFSGenMC_nominal.dat'\n",
    "df = pd.read_csv(filename, delimiter=' ', names= ['pdg', 'Ereco', 'zreco', 'Etrue', 'ztrue', 'weight', 'flux_pion', 'flux_kaon'], skiprows=12)"
   ]
  },
  {
   "cell_type": "code",
   "execution_count": 2,
   "metadata": {},
   "outputs": [],
   "source": [
    "df['rate_weight'] = df['weight']*(df['flux_pion'] + df['flux_kaon'])"
   ]
  },
  {
   "cell_type": "code",
   "execution_count": 5,
   "metadata": {},
   "outputs": [
    {
     "output_type": "execute_result",
     "data": {
      "text/plain": [
       "         pdg     Ereco     zreco      Etrue     ztrue        weight  \\\n",
       "20        13  626.9676 -0.834426   813.6371 -0.839088  1.478716e+07   \n",
       "58        13  585.5335 -0.862356   632.0898 -0.863856  4.606928e+06   \n",
       "65       -13  596.5067 -0.296624   558.0846 -0.276028  2.927709e+06   \n",
       "68        13  588.7881 -0.563454   676.5840 -0.563056  4.390841e+07   \n",
       "90       -13  609.3686 -0.829835  2752.7460 -0.836688  3.250195e+09   \n",
       "...      ...       ...       ...        ...       ...           ...   \n",
       "8784525  -13  520.6802 -0.983889  1304.1470 -0.983350  7.364804e+07   \n",
       "8784539  -13  572.3345 -0.267534   314.7123 -0.260609  2.916082e+06   \n",
       "8784554   13  567.2415 -0.949946   515.3408 -0.949235  1.034143e+07   \n",
       "8784585  -13  623.6307 -0.416956   497.5315 -0.416743  9.011889e-02   \n",
       "8784591   13  589.8913 -0.740288  2877.9210 -0.727086  3.714342e+09   \n",
       "\n",
       "            flux_pion     flux_kaon   rate_weight  \n",
       "20       8.751636e-12  2.330906e-11  4.740866e-04  \n",
       "58       2.626181e-11  4.478314e-11  3.272990e-04  \n",
       "65       6.177256e-11  6.285820e-11  3.648826e-04  \n",
       "68       2.690038e-11  4.587238e-11  3.195336e-03  \n",
       "90       9.417104e-14  2.203015e-13  1.022097e-03  \n",
       "...               ...           ...           ...  \n",
       "8784525  1.217937e-12  2.427966e-12  2.685136e-04  \n",
       "8784539  3.823995e-10  3.891249e-10  2.249828e-03  \n",
       "8784554  4.739185e-11  8.082582e-11  1.325954e-03  \n",
       "8784585  7.221776e-11  7.348691e-11  1.313074e-11  \n",
       "8784591  1.002384e-13  3.923910e-13  1.829794e-03  \n",
       "\n",
       "[412391 rows x 9 columns]"
      ],
      "text/html": "<div>\n<style scoped>\n    .dataframe tbody tr th:only-of-type {\n        vertical-align: middle;\n    }\n\n    .dataframe tbody tr th {\n        vertical-align: top;\n    }\n\n    .dataframe thead th {\n        text-align: right;\n    }\n</style>\n<table border=\"1\" class=\"dataframe\">\n  <thead>\n    <tr style=\"text-align: right;\">\n      <th></th>\n      <th>pdg</th>\n      <th>Ereco</th>\n      <th>zreco</th>\n      <th>Etrue</th>\n      <th>ztrue</th>\n      <th>weight</th>\n      <th>flux_pion</th>\n      <th>flux_kaon</th>\n      <th>rate_weight</th>\n    </tr>\n  </thead>\n  <tbody>\n    <tr>\n      <th>20</th>\n      <td>13</td>\n      <td>626.9676</td>\n      <td>-0.834426</td>\n      <td>813.6371</td>\n      <td>-0.839088</td>\n      <td>1.478716e+07</td>\n      <td>8.751636e-12</td>\n      <td>2.330906e-11</td>\n      <td>4.740866e-04</td>\n    </tr>\n    <tr>\n      <th>58</th>\n      <td>13</td>\n      <td>585.5335</td>\n      <td>-0.862356</td>\n      <td>632.0898</td>\n      <td>-0.863856</td>\n      <td>4.606928e+06</td>\n      <td>2.626181e-11</td>\n      <td>4.478314e-11</td>\n      <td>3.272990e-04</td>\n    </tr>\n    <tr>\n      <th>65</th>\n      <td>-13</td>\n      <td>596.5067</td>\n      <td>-0.296624</td>\n      <td>558.0846</td>\n      <td>-0.276028</td>\n      <td>2.927709e+06</td>\n      <td>6.177256e-11</td>\n      <td>6.285820e-11</td>\n      <td>3.648826e-04</td>\n    </tr>\n    <tr>\n      <th>68</th>\n      <td>13</td>\n      <td>588.7881</td>\n      <td>-0.563454</td>\n      <td>676.5840</td>\n      <td>-0.563056</td>\n      <td>4.390841e+07</td>\n      <td>2.690038e-11</td>\n      <td>4.587238e-11</td>\n      <td>3.195336e-03</td>\n    </tr>\n    <tr>\n      <th>90</th>\n      <td>-13</td>\n      <td>609.3686</td>\n      <td>-0.829835</td>\n      <td>2752.7460</td>\n      <td>-0.836688</td>\n      <td>3.250195e+09</td>\n      <td>9.417104e-14</td>\n      <td>2.203015e-13</td>\n      <td>1.022097e-03</td>\n    </tr>\n    <tr>\n      <th>...</th>\n      <td>...</td>\n      <td>...</td>\n      <td>...</td>\n      <td>...</td>\n      <td>...</td>\n      <td>...</td>\n      <td>...</td>\n      <td>...</td>\n      <td>...</td>\n    </tr>\n    <tr>\n      <th>8784525</th>\n      <td>-13</td>\n      <td>520.6802</td>\n      <td>-0.983889</td>\n      <td>1304.1470</td>\n      <td>-0.983350</td>\n      <td>7.364804e+07</td>\n      <td>1.217937e-12</td>\n      <td>2.427966e-12</td>\n      <td>2.685136e-04</td>\n    </tr>\n    <tr>\n      <th>8784539</th>\n      <td>-13</td>\n      <td>572.3345</td>\n      <td>-0.267534</td>\n      <td>314.7123</td>\n      <td>-0.260609</td>\n      <td>2.916082e+06</td>\n      <td>3.823995e-10</td>\n      <td>3.891249e-10</td>\n      <td>2.249828e-03</td>\n    </tr>\n    <tr>\n      <th>8784554</th>\n      <td>13</td>\n      <td>567.2415</td>\n      <td>-0.949946</td>\n      <td>515.3408</td>\n      <td>-0.949235</td>\n      <td>1.034143e+07</td>\n      <td>4.739185e-11</td>\n      <td>8.082582e-11</td>\n      <td>1.325954e-03</td>\n    </tr>\n    <tr>\n      <th>8784585</th>\n      <td>-13</td>\n      <td>623.6307</td>\n      <td>-0.416956</td>\n      <td>497.5315</td>\n      <td>-0.416743</td>\n      <td>9.011889e-02</td>\n      <td>7.221776e-11</td>\n      <td>7.348691e-11</td>\n      <td>1.313074e-11</td>\n    </tr>\n    <tr>\n      <th>8784591</th>\n      <td>13</td>\n      <td>589.8913</td>\n      <td>-0.740288</td>\n      <td>2877.9210</td>\n      <td>-0.727086</td>\n      <td>3.714342e+09</td>\n      <td>1.002384e-13</td>\n      <td>3.923910e-13</td>\n      <td>1.829794e-03</td>\n    </tr>\n  </tbody>\n</table>\n<p>412391 rows × 9 columns</p>\n</div>"
     },
     "metadata": {},
     "execution_count": 5
    }
   ],
   "source": [
    "bin0 = df.query(f'Ereco <{Ebins[1]}').query(f'Ereco >{Ebins[0]}')"
   ]
  },
  {
   "cell_type": "code",
   "execution_count": 7,
   "metadata": {},
   "outputs": [],
   "source": [
    "hist, bins = np.histogram(bin0.Etrue, np.logspace(np.log10(Ebins[0]), np.log10(Ebins[1]), 13), weights=bin0.rate_weight)"
   ]
  }
 ]
}