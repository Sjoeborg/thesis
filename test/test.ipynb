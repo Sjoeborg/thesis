{
 "metadata": {
  "language_info": {
   "codemirror_mode": {
    "name": "ipython",
    "version": 3
   },
   "file_extension": ".py",
   "mimetype": "text/x-python",
   "name": "python",
   "nbconvert_exporter": "python",
   "pygments_lexer": "ipython3",
   "version": "3.8.5"
  },
  "orig_nbformat": 2,
  "kernelspec": {
   "name": "python385jvsc74a57bd073761e8a65ef4baed6e0524bb8131aca05507f3ceffbe24eb501f6a7780282b1",
   "display_name": "Python 3.8.5 64-bit ('Martin': virtualenv)"
  }
 },
 "nbformat": 4,
 "nbformat_minor": 2,
 "cells": [
  {
   "cell_type": "code",
   "execution_count": 1,
   "metadata": {},
   "outputs": [],
   "source": [
    "import pandas as pd\n",
    "import pickle\n",
    "import numpy as np \n",
    "import matplotlib.pyplot as plt \n",
    "import os,sys\n",
    "os.chdir('../')\n",
    "sys.path.append('./src/data')\n",
    "sys.path.append('./src/probability')\n",
    "sys.path.append('./src/events')\n",
    "from DC.importer import MC2018_DC\n",
    "from DC.processer import get_flux, interpolate_flux_DC\n",
    "from numerical import P_num_over_E\n",
    "from numerical import P_num\n",
    "from functions import nufit_params_nsi\n",
    "from numerical import wrapper"
   ]
  },
  {
   "cell_type": "code",
   "execution_count": 2,
   "metadata": {},
   "outputs": [],
   "source": [
    "mc = MC2018_DC()\n",
    "flux_df = interpolate_flux_DC()"
   ]
  },
  {
   "cell_type": "code",
   "execution_count": 3,
   "metadata": {},
   "outputs": [
    {
     "output_type": "execute_result",
     "data": {
      "text/plain": [
       "         pdg  pid  reco_coszen  reco_energy  true_coszen  true_energy  type  \\\n",
       "135870  14.0  0.0        0.125          6.6     0.271757     4.535313   3.0   \n",
       "135871  14.0  0.0       -0.375         11.7     0.206704     3.246002   2.0   \n",
       "135872  14.0  0.0       -0.875          8.7    -0.748358     3.008176   1.0   \n",
       "135873  14.0  0.0        0.375         15.6     0.190249     4.417644   2.0   \n",
       "135874  14.0  0.0       -0.125         11.7    -0.002781     4.879795   2.0   \n",
       "...      ...  ...          ...          ...          ...          ...   ...   \n",
       "760812  14.0  0.0        0.375         49.2    -0.489007   141.901138   0.0   \n",
       "760813  14.0  1.0        0.125         20.7     0.407026    93.600182   0.0   \n",
       "760814  14.0  1.0        0.625         36.9     0.078068   215.255844   0.0   \n",
       "760815  14.0  0.0        0.125         20.7     0.355241    84.537041   0.0   \n",
       "760816  14.0  1.0       -0.875         36.9    -0.738283   137.533432   0.0   \n",
       "\n",
       "              weight  \n",
       "135870  2.973662e-10  \n",
       "135871  1.137619e-10  \n",
       "135872  9.160223e-11  \n",
       "135873  2.748287e-10  \n",
       "135874  3.665623e-10  \n",
       "...              ...  \n",
       "760812  8.110281e-06  \n",
       "760813  2.396959e-06  \n",
       "760814  2.796840e-05  \n",
       "760815  1.755870e-06  \n",
       "760816  7.444733e-06  \n",
       "\n",
       "[343800 rows x 8 columns]"
      ],
      "text/html": "<div>\n<style scoped>\n    .dataframe tbody tr th:only-of-type {\n        vertical-align: middle;\n    }\n\n    .dataframe tbody tr th {\n        vertical-align: top;\n    }\n\n    .dataframe thead th {\n        text-align: right;\n    }\n</style>\n<table border=\"1\" class=\"dataframe\">\n  <thead>\n    <tr style=\"text-align: right;\">\n      <th></th>\n      <th>pdg</th>\n      <th>pid</th>\n      <th>reco_coszen</th>\n      <th>reco_energy</th>\n      <th>true_coszen</th>\n      <th>true_energy</th>\n      <th>type</th>\n      <th>weight</th>\n    </tr>\n  </thead>\n  <tbody>\n    <tr>\n      <th>135870</th>\n      <td>14.0</td>\n      <td>0.0</td>\n      <td>0.125</td>\n      <td>6.6</td>\n      <td>0.271757</td>\n      <td>4.535313</td>\n      <td>3.0</td>\n      <td>2.973662e-10</td>\n    </tr>\n    <tr>\n      <th>135871</th>\n      <td>14.0</td>\n      <td>0.0</td>\n      <td>-0.375</td>\n      <td>11.7</td>\n      <td>0.206704</td>\n      <td>3.246002</td>\n      <td>2.0</td>\n      <td>1.137619e-10</td>\n    </tr>\n    <tr>\n      <th>135872</th>\n      <td>14.0</td>\n      <td>0.0</td>\n      <td>-0.875</td>\n      <td>8.7</td>\n      <td>-0.748358</td>\n      <td>3.008176</td>\n      <td>1.0</td>\n      <td>9.160223e-11</td>\n    </tr>\n    <tr>\n      <th>135873</th>\n      <td>14.0</td>\n      <td>0.0</td>\n      <td>0.375</td>\n      <td>15.6</td>\n      <td>0.190249</td>\n      <td>4.417644</td>\n      <td>2.0</td>\n      <td>2.748287e-10</td>\n    </tr>\n    <tr>\n      <th>135874</th>\n      <td>14.0</td>\n      <td>0.0</td>\n      <td>-0.125</td>\n      <td>11.7</td>\n      <td>-0.002781</td>\n      <td>4.879795</td>\n      <td>2.0</td>\n      <td>3.665623e-10</td>\n    </tr>\n    <tr>\n      <th>...</th>\n      <td>...</td>\n      <td>...</td>\n      <td>...</td>\n      <td>...</td>\n      <td>...</td>\n      <td>...</td>\n      <td>...</td>\n      <td>...</td>\n    </tr>\n    <tr>\n      <th>760812</th>\n      <td>14.0</td>\n      <td>0.0</td>\n      <td>0.375</td>\n      <td>49.2</td>\n      <td>-0.489007</td>\n      <td>141.901138</td>\n      <td>0.0</td>\n      <td>8.110281e-06</td>\n    </tr>\n    <tr>\n      <th>760813</th>\n      <td>14.0</td>\n      <td>1.0</td>\n      <td>0.125</td>\n      <td>20.7</td>\n      <td>0.407026</td>\n      <td>93.600182</td>\n      <td>0.0</td>\n      <td>2.396959e-06</td>\n    </tr>\n    <tr>\n      <th>760814</th>\n      <td>14.0</td>\n      <td>1.0</td>\n      <td>0.625</td>\n      <td>36.9</td>\n      <td>0.078068</td>\n      <td>215.255844</td>\n      <td>0.0</td>\n      <td>2.796840e-05</td>\n    </tr>\n    <tr>\n      <th>760815</th>\n      <td>14.0</td>\n      <td>0.0</td>\n      <td>0.125</td>\n      <td>20.7</td>\n      <td>0.355241</td>\n      <td>84.537041</td>\n      <td>0.0</td>\n      <td>1.755870e-06</td>\n    </tr>\n    <tr>\n      <th>760816</th>\n      <td>14.0</td>\n      <td>1.0</td>\n      <td>-0.875</td>\n      <td>36.9</td>\n      <td>-0.738283</td>\n      <td>137.533432</td>\n      <td>0.0</td>\n      <td>7.444733e-06</td>\n    </tr>\n  </tbody>\n</table>\n<p>343800 rows × 8 columns</p>\n</div>"
     },
     "metadata": {},
     "execution_count": 3
    }
   ],
   "source": [
    "numu = mc['pdg'] == 14\n",
    "mc[numu]"
   ]
  },
  {
   "cell_type": "code",
   "execution_count": 4,
   "metadata": {},
   "outputs": [],
   "source": [
    "df = mc[numu].sample(2000)\n",
    "#get_flux('m',df['true_energy'], df['true_coszen'], flux_df)"
   ]
  },
  {
   "cell_type": "code",
   "execution_count": 5,
   "metadata": {},
   "outputs": [
    {
     "output_type": "execute_result",
     "data": {
      "text/plain": [
       "\"\\nstart = time.time()\\nr= [P_num_over_E('m', [E[i]],zenith=z[i], nsi=False) for i in range(len(E))]\\nprint(time.time() - start)\\n\""
      ]
     },
     "metadata": {},
     "execution_count": 5
    }
   ],
   "source": [
    "import time \n",
    "E = df['true_energy'].values\n",
    "z = df['true_coszen'].values\n",
    "'''\n",
    "start = time.time()\n",
    "r= [P_num_over_E('m', [E[i]],zenith=z[i], nsi=False) for i in range(len(E))]\n",
    "print(time.time() - start)\n",
    "'''"
   ]
  },
  {
   "cell_type": "code",
   "execution_count": null,
   "metadata": {},
   "outputs": [],
   "source": [
    "import time \n",
    "from multiprocessing import Pool\n",
    "p = Pool()\n",
    "start = time.time()\n",
    "r= [P_num_over_E('m', df['true_energy'].values,zenith=z, nsi=False) for z in df['true_coszen'].values]\n",
    "print(time.time() - start)"
   ]
  },
  {
   "cell_type": "code",
   "execution_count": 45,
   "metadata": {},
   "outputs": [
    {
     "output_type": "stream",
     "name": "stdout",
     "text": [
      "10.062361001968384\n"
     ]
    }
   ],
   "source": [
    "\n",
    "start = time.time()\n",
    "r = np.array([wrapper(['m', [E[i]],z, False, nufit_params_nsi, 3, True])[1] for i,z in enumerate(z)])\n",
    "print(time.time() - start)\n",
    "#11-9 sec"
   ]
  },
  {
   "cell_type": "code",
   "execution_count": 7,
   "metadata": {},
   "outputs": [
    {
     "output_type": "stream",
     "name": "stdout",
     "text": [
      "9.297943115234375\n"
     ]
    }
   ],
   "source": [
    "from PINGU.processer import generate_probabilities_PINGU\n",
    "start = time.time()\n",
    "generate_probabilities_PINGU('m','m',E, z, 0,0,nufit_params_nsi,False,0,3,True)"
   ]
  },
  {
   "cell_type": "code",
   "execution_count": 103,
   "metadata": {},
   "outputs": [
    {
     "output_type": "execute_result",
     "data": {
      "text/plain": [
       "array([1, 0,\n",
       "       {'theta_12': 0.5836381018669037, 'theta_13': 0.14957471689591406, 'theta_23': 0.8587019919812102, 'theta_34': 0.0, 'theta_24': 0.2013579207903308, 'theta_14': 0.0, 'delta_ij': 3.4033920413889422, 'dm_21': 7.42e-05, 'dm_31': 0.002517, 'dm_41': 0.93, 'e_ee': 0, 'e_em': 0, 'e_et': 0, 'e_mm': 0, 'e_mt': 0, 'e_tt': 0, 'e_es': 0, 'e_ms': 0, 'e_ts': 0, 'e_ss': 0}],\n",
       "      dtype=object)"
      ]
     },
     "metadata": {},
     "execution_count": 103
    }
   ],
   "source": [
    "param_list = [nufit_params_nsi, nufit_params_nsi]\n",
    "arg_tuples = [(i,j, p) for i in range(2) for j in range(2) for p in param_list]\n",
    "rng = np.random.default_rng(12345)\n",
    "rng.shuffle(arg_tuples)\n",
    "split_arg_tuples=  np.array_split(arg_tuples,2)[0]\n",
    "split_arg_tuples[0]"
   ]
  },
  {
   "cell_type": "code",
   "execution_count": 111,
   "metadata": {},
   "outputs": [
    {
     "output_type": "execute_result",
     "data": {
      "text/plain": [
       "True"
      ]
     },
     "metadata": {},
     "execution_count": 111
    }
   ],
   "source": [
    "100 % 100 == 0"
   ]
  },
  {
   "cell_type": "code",
   "execution_count": null,
   "metadata": {},
   "outputs": [],
   "source": []
  }
 ]
}