{
 "metadata": {
  "language_info": {
   "codemirror_mode": {
    "name": "ipython",
    "version": 3
   },
   "file_extension": ".py",
   "mimetype": "text/x-python",
   "name": "python",
   "nbconvert_exporter": "python",
   "pygments_lexer": "ipython3",
   "version": "3.9.0-final"
  },
  "orig_nbformat": 2,
  "kernelspec": {
   "name": "python3",
   "display_name": "Python 3.9.0 64-bit",
   "metadata": {
    "interpreter": {
     "hash": "ac59ebe37160ed0dfa835113d9b8498d9f09ceb179beaac4002f036b9467c963"
    }
   }
  }
 },
 "nbformat": 4,
 "nbformat_minor": 2,
 "cells": [
  {
   "cell_type": "code",
   "execution_count": 1,
   "metadata": {},
   "outputs": [],
   "source": [
    "import sympy as sp\n",
    "from functions import *\n",
    "import numpy as np\n",
    "from sympy.matrices import matrix_multiply_elementwise\n",
    "import matplotlib.pyplot as plt \n",
    "#sp.init_printing(use_latex=\"mathjax\")\n",
    "import matplotlib\n",
    "from numerical import P_num_over_E_single as P_num\n",
    "matplotlib.rc('text', usetex=True)\n",
    "matplotlib.rc('text.latex', preamble=r'\\usepackage{amsmath}')\n",
    "\n",
    "m_21, m_31, m_41 = sp.symbols(\"dm_21 dm_31 dm_41\", real = True, constant=True)\n",
    "th_12, th_13,th_23,th_34,th_23,th_14, th_24 = sp.symbols('theta_12 theta_13 theta_23 theta_34 theta_23 theta_14 theta_24', real = True, constant=True)\n",
    "E = sp.symbols('E', real = True, constant=True)\n",
    "d_ij=sp.symbols('delta_ij')\n",
    "V_cc, V_nc,= sp.symbols(\"V_cc,V_nc\", real = True, constant=True)\n",
    "A_cc, A_nc,= sp.symbols(\"A_cc,A_nc\", real = True, constant=True)\n",
    "param_dict_num =param_dict # Regular dict with parameter values\n",
    "param_dict_sym = {'theta_12': th_12, # Symbolic dict with sympy symbols\n",
    "                'theta_13': th_13,\n",
    "                'theta_23': th_23,\n",
    "                'theta_34': th_34,\n",
    "                'theta_24': th_24,\n",
    "                'theta_14': th_14,\n",
    "                'delta_ij': d_ij,\n",
    "                'dm_21': m_21,\n",
    "                'dm_31': m_31,\n",
    "                'dm_41': m_41}\n",
    "\n",
    "def V_ijab(i,j,a,b,params=param_dict_sym): # Blennow 78:807 delta_ij = 0\n",
    "    if a == b:\n",
    "        if a == i or a == j:\n",
    "            return sp.cos(theta(i,j,0, params=params))\n",
    "        else:\n",
    "            return 1\n",
    "    else:\n",
    "        if a == i and b == j:\n",
    "            return sp.sin(-theta(i,j,0, params=params)) \n",
    "        elif a == j and b == i:\n",
    "            return -sp.sin(-theta(i,j,0, params=params))\n",
    "        else:\n",
    "            return 0\n",
    "\n",
    "\n",
    "def V_matrix(i,j, n = 0, params=param_dict_sym): # Blennow 78:807\n",
    "    result = sp.zeros(3+n,3 + n)\n",
    "    for a in range(1, 4+n):\n",
    "        elem1 = [V_ijab(i,j,a,b, params=params) for b in range(1, 3 + n + 1)]\n",
    "        result[a-1] = elem1\n",
    "    return result\n",
    "\n",
    "def U_nu(ndim,params=param_dict_sym, mtype='full'):\n",
    "    if mtype == 'single':\n",
    "        return V_matrix(3,4,1, params=params) @ V_matrix(2,4,1, params=params) @ V_matrix(1,4,1, params=params)\n",
    "    else:\n",
    "        return V_matrix(3,4,1, params=params) @ V_matrix(2,4,1, params=params) @ V_matrix(1,4,1, params=params) @ V_matrix(2,3,1, params=params) @ V_matrix(1,3,1, params=params)\n",
    "def get_H_(En,params,mtype, anti, V=None):\n",
    "    '''\n",
    "    En in [GeV]\n",
    "    '''\n",
    "    if mtype == 'full':\n",
    "        U = U_nu(4, params=params)\n",
    "    elif mtype == 'single':\n",
    "        U = V_matrix(3,4,1, params=params) @ V_matrix(2,4,1, params=params) @ V_matrix(1,4,1, params=params)\n",
    "    if anti:\n",
    "        #A = -sp.diag(2*E*V_cc, 0 , 0, 2*E*V_nc)\n",
    "        M = sp.diag(0,params['dm_21'],params['dm_31'],-params['dm_41'])\n",
    "    else:\n",
    "        M = sp.diag(0,params['dm_21'],params['dm_31'],params['dm_41'])\n",
    "    if V is not None:\n",
    "        A = sp.diag(2*E*V, 0 , 0, E*V)\n",
    "    else:\n",
    "        A = sp.diag(2*E*V_cc, 0 , 0, E*V_nc)\n",
    "    H = 1/(2*E*1e9) * (U @ M @ U.T + A*1e18)\n",
    "    H = H.subs(E,En)\n",
    "    return H\n",
    "\n",
    "def diagonalize_H_(H,anti):\n",
    "    #TODO: clean up\n",
    "    UM_unsorted, HM_unsorted = H.diagonalize(reals_only=False,sort=True, normalize=True) \n",
    "    HM_unsorted = np.diag(np.asarray(HM_unsorted))\n",
    "    UM_unsorted = np.asarray(UM_unsorted)\n",
    "    if anti:\n",
    "        UM_sorted = np.array([UM_unsorted[:,0], UM_unsorted[:,2], UM_unsorted[:,1], UM_unsorted[:,3]])\n",
    "        HM_sorted = np.array([HM_unsorted[0], HM_unsorted[1], HM_unsorted[2], HM_unsorted[3]])\n",
    "    else:\n",
    "        UM_sorted = np.array([UM_unsorted[:,1], UM_unsorted[:,2], UM_unsorted[:,3], UM_unsorted[:,0]])\n",
    "        HM_sorted = np.array([HM_unsorted[1], HM_unsorted[2], HM_unsorted[3], HM_unsorted[0]])\n",
    "    return UM_sorted, HM_sorted\n",
    "\n",
    "    \n",
    "def get_dmM_(HM, En):\n",
    "    '''\n",
    "    En in [GeV]\n",
    "    '''\n",
    "    eigenvals = HM * np.array([1,1,1,1])\n",
    "    dmM_res = 2 * En * 1e9 * eigenvals\n",
    "    return dmM_res\n",
    "\n",
    "\n",
    "def get_dmM(En, params, mtype, anti):\n",
    "    '''\n",
    "    En in [GeV]\n",
    "    '''\n",
    "    H = get_H_(En, params=params, mtype=mtype, anti=anti)\n",
    "    UM,HM= diagonalize_H_(H,anti)\n",
    "    dmM = get_dmM_(HM, En)\n",
    "    return dmM\n",
    "\n",
    "V_cc = np.sqrt(2) * GF * 0.5 * N_A * 8.44 * (1/GeVtocm1)**3 #GeV\n",
    "V_nc = V_cc / 2 #GeV"
   ]
  },
  {
   "cell_type": "code",
   "execution_count": 2,
   "metadata": {},
   "outputs": [],
   "source": [
    "symb_params_simple = param_dict_sym.copy()\n",
    "symb_params = param_dict_sym.copy()\n",
    "\n",
    "symb_params.update({'theta_12': param_dict_num['theta_12'],\n",
    "                       'theta_13': param_dict_num['theta_13'],\n",
    "                       'theta_23': param_dict_num['theta_23'],\n",
    "                       'theta_14': 0,\n",
    "                       'theta_24': param_dict_sym['theta_24'],\n",
    "                       'theta_34': param_dict_sym['theta_34'],\n",
    "                       'dm_21': 0,\n",
    "                       'dm_31': 0,\n",
    "                       'dm_41': param_dict_num['dm_41']\n",
    "                       })\n",
    "\n",
    "symb_params_simple.update({'theta_12': 1,\n",
    "                       'theta_13': 1,\n",
    "                       'theta_23': 1,\n",
    "                       'theta_14': 0,\n",
    "                       'theta_24': param_dict_sym['theta_24'],\n",
    "                       'theta_34': param_dict_sym['theta_34'],\n",
    "                       'dm_21': 0,\n",
    "                       'dm_31': 0,\n",
    "                       'dm_41': param_dict_num['dm_41']\n",
    "                       })"
   ]
  },
  {
   "cell_type": "code",
   "execution_count": 18,
   "metadata": {},
   "outputs": [],
   "source": [
    "UM_list = []"
   ]
  },
  {
   "cell_type": "code",
   "execution_count": 20,
   "metadata": {},
   "outputs": [],
   "source": [
    "#UM_list = []\n",
    "#for V in [1e-13,2e-13,3e-13]:\n",
    "for E in [3e3]:#,2e3,3e3]:\n",
    "    H=get_H_(E,symb_params,mtype='single', anti=True, V = 1e-13)\n",
    "    UM, HM = H.diagonalize(reals_only=False,sort=True, normalize=True)\n",
    "    UM[:,0],UM[:,1] = UM[:,1],UM[:,0]\n",
    "    UM[:,1],UM[:,2] = UM[:,2],UM[:,1]\n",
    "    UM_a1 = UM[:,1]\n",
    "    UM_a4 = UM[:,3]\n",
    "\n",
    "    UM_e4 = UM_a4[0]\n",
    "    UM_m4 = UM_a4[1]\n",
    "    UM_t4 = UM_a4[2]\n",
    "    UM_s4 = UM_a4[3]\n",
    "\n",
    "    UM_list.append(UM_t4)"
   ]
  },
  {
   "cell_type": "code",
   "execution_count": 27,
   "metadata": {},
   "outputs": [],
   "source": [
    "replacements =[]\n",
    "formulas = []\n",
    "for UM_t4 in UM_list:\n",
    "    replacement, UM_t4_formula = sp.cse(UM_t4)\n",
    "    UM_t4_formula = UM_t4_formula[0]\n",
    "    x = np.array(replacement)[:,1]\n",
    "    replacements.append(replacement)\n",
    "    formulas.append(UM_t4_formula)\n"
   ]
  },
  {
   "cell_type": "code",
   "execution_count": 28,
   "metadata": {},
   "outputs": [
    {
     "output_type": "execute_result",
     "data": {
      "text/plain": [
       "[[(x0, sin(theta_34)),\n",
       "  (x1, cos(theta_34)),\n",
       "  (x2, cos(theta_24)),\n",
       "  (x3, x2**2),\n",
       "  (x4, x1**2),\n",
       "  (x5, x3*x4),\n",
       "  (x6, (1.33333334222222e-8*x5 + 1)**0.5),\n",
       "  (x7, 299999999.0*x6),\n",
       "  (x8, 3.33333333333333e-9*x6),\n",
       "  (x9, x6 + 1),\n",
       "  (x10, x2**4),\n",
       "  (x11, x10*x4),\n",
       "  (x12, 6.66666668888889e-9*x5),\n",
       "  (x13, 3.33333334444444e-9*x3)],\n",
       " [(x0, sin(theta_34)),\n",
       "  (x1, cos(theta_34)),\n",
       "  (x2, cos(theta_24)),\n",
       "  (x3, x2**2),\n",
       "  (x4, x1**2),\n",
       "  (x5, x3*x4),\n",
       "  (x6, (1.33333334222222e-8*x5 + 1)**0.5),\n",
       "  (x7, 3.33333333333334e-9*x6),\n",
       "  (x8, 1.0*x6 + 1),\n",
       "  (x9, x2**4),\n",
       "  (x10, x4*x9),\n",
       "  (x11, 6.6666666888889e-9*x5),\n",
       "  (x12, 3.33333334444445e-9*x3)]]"
      ]
     },
     "metadata": {},
     "execution_count": 28
    }
   ],
   "source": [
    "replacements"
   ]
  },
  {
   "cell_type": "code",
   "execution_count": 29,
   "metadata": {},
   "outputs": [
    {
     "output_type": "execute_result",
     "data": {
      "text/plain": [
       "x0*x1*x3*(x7 + 300000001.0)/(sqrt(1.11111112592593e-17*x0**2*x11*(0.999999993333333*x6 + 1)**2/(x5*x8 + 1.00000000444444e-8*x5 + x9)**2 + 1.11111111851852e-17*x5*(x12 + x3*x8 + 3.33333335555556e-9*x3 + x9)**2*sin(theta_24)**2/(2.22222223703704e-17*x1**4*x10 + 1.11111111481481e-17*x11*x6 + 3.33333335925926e-17*x11 + x12*x6 + x13*x6 + x13 + 1.33333334e-8*x5 + x9)**2 + 1.0)*(x5*x7 + 900000001.0*x5 + 8.99999997e+16*x6 + 8.99999997e+16))"
      ],
      "text/latex": "$\\displaystyle \\frac{x_{0} x_{1} x_{3} \\left(x_{7} + 300000001.0\\right)}{\\sqrt{\\frac{1.11111112592593 \\cdot 10^{-17} x_{0}^{2} x_{11} \\left(0.999999993333333 x_{6} + 1\\right)^{2}}{\\left(x_{5} x_{8} + 1.00000000444444 \\cdot 10^{-8} x_{5} + x_{9}\\right)^{2}} + \\frac{1.11111111851852 \\cdot 10^{-17} x_{5} \\left(x_{12} + x_{3} x_{8} + 3.33333335555556 \\cdot 10^{-9} x_{3} + x_{9}\\right)^{2} \\sin^{2}{\\left(\\theta_{24} \\right)}}{\\left(2.22222223703704 \\cdot 10^{-17} x_{1}^{4} x_{10} + 1.11111111481481 \\cdot 10^{-17} x_{11} x_{6} + 3.33333335925926 \\cdot 10^{-17} x_{11} + x_{12} x_{6} + x_{13} x_{6} + x_{13} + 1.33333334 \\cdot 10^{-8} x_{5} + x_{9}\\right)^{2}} + 1.0} \\left(x_{5} x_{7} + 900000001.0 x_{5} + 8.99999997 \\cdot 10^{16} x_{6} + 8.99999997 \\cdot 10^{16}\\right)}$"
     },
     "metadata": {},
     "execution_count": 29
    }
   ],
   "source": [
    "formulas[0]"
   ]
  },
  {
   "cell_type": "code",
   "execution_count": 30,
   "metadata": {},
   "outputs": [
    {
     "output_type": "execute_result",
     "data": {
      "text/plain": [
       "166666666666667.0*x0*x1*x3*(4.99999998333333e+22*x6 + 5.00000001666667e+22)/(sqrt(1.11111112592593e-17*x0**2*x10*(0.999999993333333*x6 + 1)**2/(x5*x7 + 1.00000000444445e-8*x5 + x8)**2 + 1.11111111851852e-17*x5*(x11 + x3*x7 + 3.33333335555556e-9*x3 + x8)**2*sin(theta_24)**2/(2.22222223703705e-17*x1**4*x9 + 1.11111111481482e-17*x10*x6 + 3.33333335925927e-17*x10 + x11*x6 + x12*x6 + x12 + 1.33333334e-8*x5 + x6 + 1.0)**2 + 1.0)*(8.33333330555557e+36*x5*x6 + 2.50000000277778e+37*x5 + 2.49999999166667e+45*x6 + 2.49999999166667e+45))"
      ],
      "text/latex": "$\\displaystyle \\frac{166666666666667.0 x_{0} x_{1} x_{3} \\left(4.99999998333333 \\cdot 10^{22} x_{6} + 5.00000001666667 \\cdot 10^{22}\\right)}{\\sqrt{\\frac{1.11111112592593 \\cdot 10^{-17} x_{0}^{2} x_{10} \\left(0.999999993333333 x_{6} + 1\\right)^{2}}{\\left(x_{5} x_{7} + 1.00000000444445 \\cdot 10^{-8} x_{5} + x_{8}\\right)^{2}} + \\frac{1.11111111851852 \\cdot 10^{-17} x_{5} \\left(x_{11} + x_{3} x_{7} + 3.33333335555556 \\cdot 10^{-9} x_{3} + x_{8}\\right)^{2} \\sin^{2}{\\left(\\theta_{24} \\right)}}{\\left(2.22222223703705 \\cdot 10^{-17} x_{1}^{4} x_{9} + 1.11111111481482 \\cdot 10^{-17} x_{10} x_{6} + 3.33333335925927 \\cdot 10^{-17} x_{10} + x_{11} x_{6} + x_{12} x_{6} + x_{12} + 1.33333334 \\cdot 10^{-8} x_{5} + x_{6} + 1.0\\right)^{2}} + 1.0} \\left(8.33333330555557 \\cdot 10^{36} x_{5} x_{6} + 2.50000000277778 \\cdot 10^{37} x_{5} + 2.49999999166667 \\cdot 10^{45} x_{6} + 2.49999999166667 \\cdot 10^{45}\\right)}$"
     },
     "metadata": {},
     "execution_count": 30
    }
   ],
   "source": [
    "formulas[1]"
   ]
  },
  {
   "cell_type": "code",
   "execution_count": 33,
   "metadata": {},
   "outputs": [
    {
     "output_type": "execute_result",
     "data": {
      "text/plain": [
       "8.83883475657254e-10"
      ],
      "text/latex": "$\\displaystyle 8.83883475657254 \\cdot 10^{-10}$"
     },
     "metadata": {},
     "execution_count": 33
    }
   ],
   "source": [
    "UM_list[0].subs({th_24: np.pi/6, th_34: np.pi/8})"
   ]
  },
  {
   "cell_type": "code",
   "execution_count": 34,
   "metadata": {},
   "outputs": [
    {
     "output_type": "execute_result",
     "data": {
      "text/plain": [
       "8.83883475657256e-10"
      ],
      "text/latex": "$\\displaystyle 8.83883475657256 \\cdot 10^{-10}$"
     },
     "metadata": {},
     "execution_count": 34
    }
   ],
   "source": [
    "UM_list[1].subs({th_24: np.pi/6, th_34: np.pi/8})"
   ]
  },
  {
   "cell_type": "code",
   "execution_count": 99,
   "metadata": {},
   "outputs": [],
   "source": [
    "def dm_func(E,V,theta24,theta34,a):\n",
    "    return np.sqrt(np.cos(theta24)**2*np.cos(theta34)/(a*E*V) + 1)\n",
    "def func(E,V,theta24,theta34,a,b,c,d,f):\n",
    "    dm = dm_func(E,V,theta24,theta34,a)\n",
    "    return b*dm*np.sin(theta34)/(np.sqrt(c*np.sin(theta34)**2 + d*dm*np.sin(theta24)**2*dm+1)*f*dm**2)"
   ]
  },
  {
   "cell_type": "code",
   "execution_count": 105,
   "metadata": {},
   "outputs": [
    {
     "output_type": "display_data",
     "data": {
      "text/plain": "<Figure size 432x288 with 1 Axes>",
      "image/svg+xml": "<?xml version=\"1.0\" encoding=\"utf-8\" standalone=\"no\"?>\r\n<!DOCTYPE svg PUBLIC \"-//W3C//DTD SVG 1.1//EN\"\r\n  \"http://www.w3.org/Graphics/SVG/1.1/DTD/svg11.dtd\">\r\n<!-- Created with matplotlib (https://matplotlib.org/) -->\r\n<svg height=\"247.695677pt\" version=\"1.1\" viewBox=\"0 0 368.930079 247.695677\" width=\"368.930079pt\" xmlns=\"http://www.w3.org/2000/svg\" xmlns:xlink=\"http://www.w3.org/1999/xlink\">\r\n <metadata>\r\n  <rdf:RDF xmlns:cc=\"http://creativecommons.org/ns#\" xmlns:dc=\"http://purl.org/dc/elements/1.1/\" xmlns:rdf=\"http://www.w3.org/1999/02/22-rdf-syntax-ns#\">\r\n   <cc:Work>\r\n    <dc:type rdf:resource=\"http://purl.org/dc/dcmitype/StillImage\"/>\r\n    <dc:date>2021-03-10T19:02:17.094855</dc:date>\r\n    <dc:format>image/svg+xml</dc:format>\r\n    <dc:creator>\r\n     <cc:Agent>\r\n      <dc:title>Matplotlib v3.3.3, https://matplotlib.org/</dc:title>\r\n     </cc:Agent>\r\n    </dc:creator>\r\n   </cc:Work>\r\n  </rdf:RDF>\r\n </metadata>\r\n <defs>\r\n  <style type=\"text/css\">*{stroke-linecap:butt;stroke-linejoin:round;}</style>\r\n </defs>\r\n <g id=\"figure_1\">\r\n  <g id=\"patch_1\">\r\n   <path d=\"M 0 247.695677 \r\nL 368.930079 247.695677 \r\nL 368.930079 0 \r\nL 0 0 \r\nz\r\n\" style=\"fill:none;\"/>\r\n  </g>\r\n  <g id=\"axes_1\">\r\n   <g id=\"patch_2\">\r\n    <path d=\"M 26.930079 224.64 \r\nL 361.730079 224.64 \r\nL 361.730079 7.2 \r\nL 26.930079 7.2 \r\nz\r\n\" style=\"fill:#ffffff;\"/>\r\n   </g>\r\n   <g id=\"matplotlib.axis_1\">\r\n    <g id=\"xtick_1\">\r\n     <g id=\"line2d_1\">\r\n      <defs>\r\n       <path d=\"M 0 0 \r\nL 0 3.5 \r\n\" id=\"mc9629cecb5\" style=\"stroke:#000000;stroke-width:0.8;\"/>\r\n      </defs>\r\n      <g>\r\n       <use style=\"stroke:#000000;stroke-width:0.8;\" x=\"42.148261\" xlink:href=\"#mc9629cecb5\" y=\"224.64\"/>\r\n      </g>\r\n     </g>\r\n     <g id=\"text_1\">\r\n      <!-- $\\mathdefault{10^{3}}$ -->\r\n      <g transform=\"translate(35.181307 238.558498)scale(0.1 -0.1)\">\r\n       <defs>\r\n        <path d=\"M 26.59375 63.40625 \r\nC 26.59375 65.5 26.5 65.5 25.09375 65.5 \r\nC 21.203125 61.1875 15.296875 59.796875 9.703125 59.796875 \r\nC 9.40625 59.796875 8.90625 59.796875 8.796875 59.5 \r\nC 8.703125 59.296875 8.703125 59.09375 8.703125 57 \r\nC 11.796875 57 17 57.59375 21 59.984375 \r\nL 21 7.203125 \r\nC 21 3.6875 20.796875 2.5 12.203125 2.5 \r\nL 9.203125 2.5 \r\nL 9.203125 0 \r\nC 14 0 19 0 23.796875 0 \r\nC 28.59375 0 33.59375 0 38.40625 0 \r\nL 38.40625 2.5 \r\nL 35.40625 2.5 \r\nC 26.796875 2.5 26.59375 3.59375 26.59375 7.15625 \r\nz\r\n\" id=\"CMR17-49\"/>\r\n        <path d=\"M 42 31.640625 \r\nC 42 37.75 41.90625 48.125 37.703125 56.109375 \r\nC 34 63.109375 28.09375 65.59375 22.90625 65.59375 \r\nC 18.09375 65.59375 12 63.40625 8.203125 56.203125 \r\nC 4.203125 48.71875 3.796875 39.4375 3.796875 31.640625 \r\nC 3.796875 25.953125 3.90625 17.28125 7 9.671875 \r\nC 11.296875 -0.609375 19 -2 22.90625 -2 \r\nC 27.5 -2 34.5 -0.109375 38.59375 9.375 \r\nC 41.59375 16.28125 42 24.359375 42 31.640625 \r\nz\r\nM 22.90625 -0.40625 \r\nC 16.5 -0.40625 12.703125 5.078125 11.296875 12.6875 \r\nC 10.203125 18.5625 10.203125 27.15625 10.203125 32.75 \r\nC 10.203125 40.4375 10.203125 46.828125 11.5 52.921875 \r\nC 13.40625 61.390625 19 64 22.90625 64 \r\nC 27 64 32.296875 61.296875 34.203125 53.125 \r\nC 35.5 47.4375 35.59375 40.734375 35.59375 32.75 \r\nC 35.59375 26.25 35.59375 18.265625 34.40625 12.375 \r\nC 32.296875 1.484375 26.40625 -0.40625 22.90625 -0.40625 \r\nz\r\n\" id=\"CMR17-48\"/>\r\n        <path d=\"M 22.09375 33.703125 \r\nC 31 33.703125 34.90625 25.96875 34.90625 17.03125 \r\nC 34.90625 5 28.5 0.390625 22.703125 0.390625 \r\nC 17.40625 0.390625 8.796875 3.03125 6.09375 10.828125 \r\nC 6.59375 10.625 7.09375 10.625 7.59375 10.625 \r\nC 10 10.625 11.796875 12.21875 11.796875 14.8125 \r\nC 11.796875 17.703125 9.59375 19 7.59375 19 \r\nC 5.90625 19 3.296875 18.203125 3.296875 14.46875 \r\nC 3.296875 5.234375 12.296875 -2 22.90625 -2 \r\nC 34 -2 42.5 6.71875 42.5 16.953125 \r\nC 42.5 26.671875 34.5 33.703125 25 34.796875 \r\nC 32.59375 36.375 39.90625 43.0625 39.90625 52.015625 \r\nC 39.90625 59.6875 32 65.296875 23 65.296875 \r\nC 13.90625 65.296875 5.90625 59.828125 5.90625 52.015625 \r\nC 5.90625 48.59375 8.5 48 9.796875 48 \r\nC 11.90625 48 13.703125 49.296875 13.703125 51.890625 \r\nC 13.703125 54.46875 11.90625 55.765625 9.796875 55.765625 \r\nC 9.40625 55.765625 8.90625 55.765625 8.5 55.578125 \r\nC 11.40625 61.859375 19.296875 63 22.796875 63 \r\nC 26.296875 63 32.90625 61.328125 32.90625 51.875 \r\nC 32.90625 49.109375 32.5 44.1875 29.09375 39.84375 \r\nC 26.09375 36 22.703125 36 19.40625 35.6875 \r\nC 18.90625 35.6875 16.59375 35.453125 16.203125 35.453125 \r\nC 15.5 35.359375 15.09375 35.265625 15.09375 34.5 \r\nC 15.09375 33.796875 15.203125 33.703125 17.203125 33.703125 \r\nz\r\n\" id=\"CMR17-51\"/>\r\n       </defs>\r\n       <use transform=\"scale(0.996264)\" xlink:href=\"#CMR17-49\"/>\r\n       <use transform=\"translate(45.690477 0)scale(0.996264)\" xlink:href=\"#CMR17-48\"/>\r\n       <use transform=\"translate(91.380954 36.153639)scale(0.697382)\" xlink:href=\"#CMR17-51\"/>\r\n      </g>\r\n     </g>\r\n    </g>\r\n    <g id=\"xtick_2\">\r\n     <g id=\"line2d_2\">\r\n      <g>\r\n       <use style=\"stroke:#000000;stroke-width:0.8;\" x=\"346.511897\" xlink:href=\"#mc9629cecb5\" y=\"224.64\"/>\r\n      </g>\r\n     </g>\r\n     <g id=\"text_2\">\r\n      <!-- $\\mathdefault{10^{4}}$ -->\r\n      <g transform=\"translate(339.544943 238.558498)scale(0.1 -0.1)\">\r\n       <defs>\r\n        <path d=\"M 33.59375 64.40625 \r\nC 33.59375 66.5 33.5 66.5 31.703125 66.5 \r\nL 2 19.59375 \r\nL 2 17 \r\nL 27.796875 17 \r\nL 27.796875 7.140625 \r\nC 27.796875 3.5 27.59375 2.5 20.59375 2.5 \r\nL 18.703125 2.5 \r\nL 18.703125 0 \r\nC 21.90625 0 27.296875 0 30.703125 0 \r\nC 34.09375 0 39.5 0 42.703125 0 \r\nL 42.703125 2.5 \r\nL 40.796875 2.5 \r\nC 33.796875 2.5 33.59375 3.5 33.59375 7.140625 \r\nL 33.59375 17 \r\nL 43.796875 17 \r\nL 43.796875 19.59375 \r\nL 33.59375 19.59375 \r\nz\r\nM 28.09375 57.859375 \r\nL 28.09375 19.59375 \r\nL 4 19.59375 \r\nz\r\n\" id=\"CMR17-52\"/>\r\n       </defs>\r\n       <use transform=\"scale(0.996264)\" xlink:href=\"#CMR17-49\"/>\r\n       <use transform=\"translate(45.690477 0)scale(0.996264)\" xlink:href=\"#CMR17-48\"/>\r\n       <use transform=\"translate(91.380954 36.153639)scale(0.697382)\" xlink:href=\"#CMR17-52\"/>\r\n      </g>\r\n     </g>\r\n    </g>\r\n    <g id=\"xtick_3\">\r\n     <g id=\"line2d_3\">\r\n      <defs>\r\n       <path d=\"M 0 0 \r\nL 0 2 \r\n\" id=\"m0380be693b\" style=\"stroke:#000000;stroke-width:0.6;\"/>\r\n      </defs>\r\n      <g>\r\n       <use style=\"stroke:#000000;stroke-width:0.6;\" x=\"28.221345\" xlink:href=\"#m0380be693b\" y=\"224.64\"/>\r\n      </g>\r\n     </g>\r\n    </g>\r\n    <g id=\"xtick_4\">\r\n     <g id=\"line2d_4\">\r\n      <g>\r\n       <use style=\"stroke:#000000;stroke-width:0.6;\" x=\"133.770845\" xlink:href=\"#m0380be693b\" y=\"224.64\"/>\r\n      </g>\r\n     </g>\r\n    </g>\r\n    <g id=\"xtick_5\">\r\n     <g id=\"line2d_5\">\r\n      <g>\r\n       <use style=\"stroke:#000000;stroke-width:0.6;\" x=\"187.366621\" xlink:href=\"#m0380be693b\" y=\"224.64\"/>\r\n      </g>\r\n     </g>\r\n    </g>\r\n    <g id=\"xtick_6\">\r\n     <g id=\"line2d_6\">\r\n      <g>\r\n       <use style=\"stroke:#000000;stroke-width:0.6;\" x=\"225.393429\" xlink:href=\"#m0380be693b\" y=\"224.64\"/>\r\n      </g>\r\n     </g>\r\n    </g>\r\n    <g id=\"xtick_7\">\r\n     <g id=\"line2d_7\">\r\n      <g>\r\n       <use style=\"stroke:#000000;stroke-width:0.6;\" x=\"254.889313\" xlink:href=\"#m0380be693b\" y=\"224.64\"/>\r\n      </g>\r\n     </g>\r\n    </g>\r\n    <g id=\"xtick_8\">\r\n     <g id=\"line2d_8\">\r\n      <g>\r\n       <use style=\"stroke:#000000;stroke-width:0.6;\" x=\"278.989205\" xlink:href=\"#m0380be693b\" y=\"224.64\"/>\r\n      </g>\r\n     </g>\r\n    </g>\r\n    <g id=\"xtick_9\">\r\n     <g id=\"line2d_9\">\r\n      <g>\r\n       <use style=\"stroke:#000000;stroke-width:0.6;\" x=\"299.365373\" xlink:href=\"#m0380be693b\" y=\"224.64\"/>\r\n      </g>\r\n     </g>\r\n    </g>\r\n    <g id=\"xtick_10\">\r\n     <g id=\"line2d_10\">\r\n      <g>\r\n       <use style=\"stroke:#000000;stroke-width:0.6;\" x=\"317.016013\" xlink:href=\"#m0380be693b\" y=\"224.64\"/>\r\n      </g>\r\n     </g>\r\n    </g>\r\n    <g id=\"xtick_11\">\r\n     <g id=\"line2d_11\">\r\n      <g>\r\n       <use style=\"stroke:#000000;stroke-width:0.6;\" x=\"332.584981\" xlink:href=\"#m0380be693b\" y=\"224.64\"/>\r\n      </g>\r\n     </g>\r\n    </g>\r\n   </g>\r\n   <g id=\"matplotlib.axis_2\">\r\n    <g id=\"ytick_1\">\r\n     <g id=\"line2d_12\">\r\n      <defs>\r\n       <path d=\"M 0 0 \r\nL -3.5 0 \r\n\" id=\"m318c36d784\" style=\"stroke:#000000;stroke-width:0.8;\"/>\r\n      </defs>\r\n      <g>\r\n       <use style=\"stroke:#000000;stroke-width:0.8;\" x=\"26.930079\" xlink:href=\"#m318c36d784\" y=\"216.753059\"/>\r\n      </g>\r\n     </g>\r\n     <g id=\"text_3\">\r\n      <!-- $\\mathdefault{0.0}$ -->\r\n      <g transform=\"translate(7.2 220.212308)scale(0.1 -0.1)\">\r\n       <defs>\r\n        <path d=\"M 18.40625 4.796875 \r\nC 18.40625 7.6875 16 9.671875 13.59375 9.671875 \r\nC 10.703125 9.671875 8.703125 7.28125 8.703125 4.890625 \r\nC 8.703125 2 11.09375 0 13.5 0 \r\nC 16.40625 0 18.40625 2.390625 18.40625 4.796875 \r\nz\r\n\" id=\"CMMI12-58\"/>\r\n       </defs>\r\n       <use transform=\"scale(0.996264)\" xlink:href=\"#CMR17-48\"/>\r\n       <use transform=\"translate(45.690477 0)scale(0.996264)\" xlink:href=\"#CMMI12-58\"/>\r\n       <use transform=\"translate(72.787654 0)scale(0.996264)\" xlink:href=\"#CMR17-48\"/>\r\n      </g>\r\n     </g>\r\n    </g>\r\n    <g id=\"ytick_2\">\r\n     <g id=\"line2d_13\">\r\n      <g>\r\n       <use style=\"stroke:#000000;stroke-width:0.8;\" x=\"26.930079\" xlink:href=\"#m318c36d784\" y=\"177.010424\"/>\r\n      </g>\r\n     </g>\r\n     <g id=\"text_4\">\r\n      <!-- $\\mathdefault{0.2}$ -->\r\n      <g transform=\"translate(7.2 180.469673)scale(0.1 -0.1)\">\r\n       <defs>\r\n        <path d=\"M 41.703125 15.453125 \r\nL 39.90625 15.453125 \r\nC 38.90625 8.375 38.09375 7.171875 37.703125 6.5625 \r\nC 37.203125 5.765625 30 5.765625 28.59375 5.765625 \r\nL 9.40625 5.765625 \r\nC 13 9.671875 20 16.75 28.5 24.953125 \r\nC 34.59375 30.734375 41.703125 37.53125 41.703125 47.421875 \r\nC 41.703125 59.21875 32.296875 66 21.796875 66 \r\nC 10.796875 66 4.09375 56.3125 4.09375 47.34375 \r\nC 4.09375 43.4375 7 42.9375 8.203125 42.9375 \r\nC 9.203125 42.9375 12.203125 43.546875 12.203125 47.03125 \r\nC 12.203125 50.109375 9.59375 51 8.203125 51 \r\nC 7.59375 51 7 50.90625 6.59375 50.703125 \r\nC 8.5 59.21875 14.296875 63.40625 20.40625 63.40625 \r\nC 29.09375 63.40625 34.796875 56.515625 34.796875 47.421875 \r\nC 34.796875 38.734375 29.703125 31.25 24 24.75 \r\nL 4.09375 2.28125 \r\nL 4.09375 0 \r\nL 39.296875 0 \r\nz\r\n\" id=\"CMR17-50\"/>\r\n       </defs>\r\n       <use transform=\"scale(0.996264)\" xlink:href=\"#CMR17-48\"/>\r\n       <use transform=\"translate(45.690477 0)scale(0.996264)\" xlink:href=\"#CMMI12-58\"/>\r\n       <use transform=\"translate(72.787654 0)scale(0.996264)\" xlink:href=\"#CMR17-50\"/>\r\n      </g>\r\n     </g>\r\n    </g>\r\n    <g id=\"ytick_3\">\r\n     <g id=\"line2d_14\">\r\n      <g>\r\n       <use style=\"stroke:#000000;stroke-width:0.8;\" x=\"26.930079\" xlink:href=\"#m318c36d784\" y=\"137.267789\"/>\r\n      </g>\r\n     </g>\r\n     <g id=\"text_5\">\r\n      <!-- $\\mathdefault{0.4}$ -->\r\n      <g transform=\"translate(7.2 140.727038)scale(0.1 -0.1)\">\r\n       <use transform=\"scale(0.996264)\" xlink:href=\"#CMR17-48\"/>\r\n       <use transform=\"translate(45.690477 0)scale(0.996264)\" xlink:href=\"#CMMI12-58\"/>\r\n       <use transform=\"translate(72.787654 0)scale(0.996264)\" xlink:href=\"#CMR17-52\"/>\r\n      </g>\r\n     </g>\r\n    </g>\r\n    <g id=\"ytick_4\">\r\n     <g id=\"line2d_15\">\r\n      <g>\r\n       <use style=\"stroke:#000000;stroke-width:0.8;\" x=\"26.930079\" xlink:href=\"#m318c36d784\" y=\"97.525153\"/>\r\n      </g>\r\n     </g>\r\n     <g id=\"text_6\">\r\n      <!-- $\\mathdefault{0.6}$ -->\r\n      <g transform=\"translate(7.2 100.984403)scale(0.1 -0.1)\">\r\n       <defs>\r\n        <path d=\"M 10.59375 34 \r\nC 10.59375 57.65625 21.796875 63 28.296875 63 \r\nC 30.40625 63 35.5 62.640625 37.5 59 \r\nC 35.90625 59 32.90625 59 32.90625 55.515625 \r\nC 32.90625 52.828125 35.09375 51.921875 36.5 51.921875 \r\nC 37.40625 51.921875 40.09375 52.3125 40.09375 55.625 \r\nC 40.09375 61.78125 35.09375 65.296875 28.203125 65.296875 \r\nC 16.296875 65.296875 3.796875 52.96875 3.796875 31 \r\nC 3.796875 3.953125 15.09375 -2 23.09375 -2 \r\nC 32.796875 -2 42 6.671875 42 20.046875 \r\nC 42 32.515625 33.90625 41.59375 23.703125 41.59375 \r\nC 17.59375 41.59375 13.09375 37.609375 10.59375 30.625 \r\nz\r\nM 23.09375 0.390625 \r\nC 10.796875 0.390625 10.796875 18.75 10.796875 22.4375 \r\nC 10.796875 29.625 14.203125 40 23.5 40 \r\nC 25.203125 40 30.09375 40 33.40625 33.125 \r\nC 35.203125 29.21875 35.203125 25.140625 35.203125 20.140625 \r\nC 35.203125 14.75 35.203125 10.78125 33.09375 6.78125 \r\nC 30.90625 2.671875 27.703125 0.390625 23.09375 0.390625 \r\nz\r\n\" id=\"CMR17-54\"/>\r\n       </defs>\r\n       <use transform=\"scale(0.996264)\" xlink:href=\"#CMR17-48\"/>\r\n       <use transform=\"translate(45.690477 0)scale(0.996264)\" xlink:href=\"#CMMI12-58\"/>\r\n       <use transform=\"translate(72.787654 0)scale(0.996264)\" xlink:href=\"#CMR17-54\"/>\r\n      </g>\r\n     </g>\r\n    </g>\r\n    <g id=\"ytick_5\">\r\n     <g id=\"line2d_16\">\r\n      <g>\r\n       <use style=\"stroke:#000000;stroke-width:0.8;\" x=\"26.930079\" xlink:href=\"#m318c36d784\" y=\"57.782518\"/>\r\n      </g>\r\n     </g>\r\n     <g id=\"text_7\">\r\n      <!-- $\\mathdefault{0.8}$ -->\r\n      <g transform=\"translate(7.2 61.241767)scale(0.1 -0.1)\">\r\n       <defs>\r\n        <path d=\"M 27.203125 35.375 \r\nC 33.5 38.546875 39.90625 43.328125 39.90625 50.984375 \r\nC 39.90625 60.015625 31.09375 65.296875 23 65.296875 \r\nC 13.90625 65.296875 5.90625 58.734375 5.90625 49.6875 \r\nC 5.90625 47.203125 6.5 42.921875 10.40625 39.140625 \r\nC 11.40625 38.15625 15.59375 35.171875 18.296875 33.28125 \r\nC 13.796875 30.984375 3.296875 25.53125 3.296875 14.59375 \r\nC 3.296875 4.359375 13.09375 -2 22.796875 -2 \r\nC 33.5 -2 42.5 5.65625 42.5 15.78125 \r\nC 42.5 24.84375 36.40625 29.015625 32.40625 31.703125 \r\nz\r\nM 14.09375 44.09375 \r\nC 13.296875 44.59375 9.296875 47.671875 9.296875 52.359375 \r\nC 9.296875 58.421875 15.59375 63 22.796875 63 \r\nC 30.703125 63 36.5 57.4375 36.5 50.96875 \r\nC 36.5 41.703125 26.09375 36.421875 25.59375 36.421875 \r\nC 25.5 36.421875 25.40625 36.421875 24.59375 37.03125 \r\nz\r\nM 32.5 23.734375 \r\nC 34 22.640625 38.796875 19.375 38.796875 13.296875 \r\nC 38.796875 5.953125 31.40625 0.390625 23 0.390625 \r\nC 13.90625 0.390625 7 6.84375 7 14.6875 \r\nC 7 22.546875 13.09375 29.09375 20 32.1875 \r\nz\r\n\" id=\"CMR17-56\"/>\r\n       </defs>\r\n       <use transform=\"scale(0.996264)\" xlink:href=\"#CMR17-48\"/>\r\n       <use transform=\"translate(45.690477 0)scale(0.996264)\" xlink:href=\"#CMMI12-58\"/>\r\n       <use transform=\"translate(72.787654 0)scale(0.996264)\" xlink:href=\"#CMR17-56\"/>\r\n      </g>\r\n     </g>\r\n    </g>\r\n    <g id=\"ytick_6\">\r\n     <g id=\"line2d_17\">\r\n      <g>\r\n       <use style=\"stroke:#000000;stroke-width:0.8;\" x=\"26.930079\" xlink:href=\"#m318c36d784\" y=\"18.039883\"/>\r\n      </g>\r\n     </g>\r\n     <g id=\"text_8\">\r\n      <!-- $\\mathdefault{1.0}$ -->\r\n      <g transform=\"translate(7.2 21.499132)scale(0.1 -0.1)\">\r\n       <use transform=\"scale(0.996264)\" xlink:href=\"#CMR17-49\"/>\r\n       <use transform=\"translate(45.690477 0)scale(0.996264)\" xlink:href=\"#CMMI12-58\"/>\r\n       <use transform=\"translate(72.787654 0)scale(0.996264)\" xlink:href=\"#CMR17-48\"/>\r\n      </g>\r\n     </g>\r\n    </g>\r\n   </g>\r\n   <g id=\"line2d_18\">\r\n    <path clip-path=\"url(#p956866e215)\" d=\"M 42.148261 214.756364 \r\nL 53.649725 214.376827 \r\nL 64.230046 213.964286 \r\nL 74.025893 213.518743 \r\nL 83.145609 213.040196 \r\nL 91.676533 212.528646 \r\nL 99.690104 211.984093 \r\nL 107.245501 211.406536 \r\nL 114.392292 210.795976 \r\nL 121.172417 210.152414 \r\nL 127.621669 209.475847 \r\nL 133.770845 208.766278 \r\nL 139.646632 208.023706 \r\nL 145.272309 207.24813 \r\nL 150.668301 206.439551 \r\nL 155.85263 205.597969 \r\nL 160.841276 204.723383 \r\nL 165.648477 203.815794 \r\nL 170.286969 202.875203 \r\nL 174.768193 201.901608 \r\nL 179.102465 200.895009 \r\nL 183.299117 199.855408 \r\nL 187.366621 198.782803 \r\nL 191.312688 197.677195 \r\nL 195.144361 196.538584 \r\nL 198.868085 195.36697 \r\nL 202.489776 194.162352 \r\nL 206.014876 192.924731 \r\nL 209.448406 191.654107 \r\nL 212.795001 190.35048 \r\nL 216.058956 189.01385 \r\nL 219.244253 187.644216 \r\nL 222.354595 186.241579 \r\nL 225.393429 184.805939 \r\nL 228.363969 183.337296 \r\nL 231.269216 181.83565 \r\nL 234.111981 180.301 \r\nL 236.894893 178.733347 \r\nL 239.620421 177.132691 \r\nL 242.290885 175.499032 \r\nL 244.908464 173.832369 \r\nL 247.475214 172.132704 \r\nL 249.99307 170.400035 \r\nL 252.463861 168.634363 \r\nL 254.889313 166.835688 \r\nL 257.271061 165.004009 \r\nL 259.610652 163.139328 \r\nL 261.909553 161.241643 \r\nL 264.169154 159.310955 \r\nL 266.390777 157.347263 \r\nL 268.575677 155.350569 \r\nL 270.725049 153.320871 \r\nL 272.840029 151.258171 \r\nL 274.921701 149.162466 \r\nL 276.971098 147.033759 \r\nL 278.989205 144.872049 \r\nL 280.976963 142.677335 \r\nL 282.935273 140.449618 \r\nL 284.864992 138.188898 \r\nL 286.766945 135.895175 \r\nL 288.641919 133.568449 \r\nL 290.490669 131.208719 \r\nL 292.313918 128.815986 \r\nL 294.11236 126.390251 \r\nL 295.886661 123.931511 \r\nL 297.637461 121.439769 \r\nL 299.365373 118.915024 \r\nL 301.07099 116.357275 \r\nL 302.754878 113.766523 \r\nL 304.417585 111.142768 \r\nL 306.059637 108.48601 \r\nL 307.68154 105.796248 \r\nL 309.283783 103.073483 \r\nL 310.866837 100.317716 \r\nL 312.431157 97.528945 \r\nL 313.977179 94.70717 \r\nL 315.505329 91.852393 \r\nL 317.016013 88.964612 \r\nL 318.509627 86.043829 \r\nL 319.986553 83.090042 \r\nL 321.447158 80.103252 \r\nL 322.8918 77.083458 \r\nL 324.320825 74.030662 \r\nL 325.734565 70.944862 \r\nL 327.133344 67.82606 \r\nL 328.517477 64.674254 \r\nL 329.887266 61.489444 \r\nL 331.243005 58.271632 \r\nL 332.584981 55.020817 \r\nL 333.913469 51.736998 \r\nL 335.228738 48.420176 \r\nL 336.531049 45.070351 \r\nL 337.820653 41.687523 \r\nL 339.097798 38.271691 \r\nL 340.362721 34.822857 \r\nL 341.615654 31.341019 \r\nL 342.856822 27.826178 \r\nL 344.086445 24.278334 \r\nL 345.304734 20.697487 \r\nL 346.511897 17.083636 \r\n\" style=\"fill:none;stroke:#1f77b4;stroke-linecap:square;stroke-width:1.5;\"/>\r\n   </g>\r\n   <g id=\"patch_3\">\r\n    <path d=\"M 26.930079 224.64 \r\nL 26.930079 7.2 \r\n\" style=\"fill:none;stroke:#000000;stroke-linecap:square;stroke-linejoin:miter;stroke-width:0.8;\"/>\r\n   </g>\r\n   <g id=\"patch_4\">\r\n    <path d=\"M 361.730079 224.64 \r\nL 361.730079 7.2 \r\n\" style=\"fill:none;stroke:#000000;stroke-linecap:square;stroke-linejoin:miter;stroke-width:0.8;\"/>\r\n   </g>\r\n   <g id=\"patch_5\">\r\n    <path d=\"M 26.930079 224.64 \r\nL 361.730079 224.64 \r\n\" style=\"fill:none;stroke:#000000;stroke-linecap:square;stroke-linejoin:miter;stroke-width:0.8;\"/>\r\n   </g>\r\n   <g id=\"patch_6\">\r\n    <path d=\"M 26.930079 7.2 \r\nL 361.730079 7.2 \r\n\" style=\"fill:none;stroke:#000000;stroke-linecap:square;stroke-linejoin:miter;stroke-width:0.8;\"/>\r\n   </g>\r\n  </g>\r\n </g>\r\n <defs>\r\n  <clipPath id=\"p956866e215\">\r\n   <rect height=\"217.44\" width=\"334.8\" x=\"26.930079\" y=\"7.2\"/>\r\n  </clipPath>\r\n </defs>\r\n</svg>\r\n",
      "image/png": "[encoded data removed]"
     },
     "metadata": {
      "needs_background": "light"
     }
    }
   ],
   "source": [
    "E=3e3\n",
    "V = 1e-13\n",
    "theta24 = 0.1\n",
    "theta34 = 0.05\n",
    "U = [func(En,V,0.04,0.04,1e-10,1e10,1e-5,1e-10,1e-4)**2 for En in np.linspace(1e3,1e4,100)]\n",
    "#U1 = [func(En,V,0.04,0.02,1,1,1,1,1) for En in np.linspace(1e3,1e4,100)]\n",
    "plt.plot(np.linspace(1e3,1e4,100),U)\n",
    "#plt.plot(np.linspace(1e3,1e4,100),U1)\n",
    "plt.xscale('log')"
   ]
  },
  {
   "cell_type": "code",
   "execution_count": null,
   "metadata": {},
   "outputs": [],
   "source": []
  }
 ]
}