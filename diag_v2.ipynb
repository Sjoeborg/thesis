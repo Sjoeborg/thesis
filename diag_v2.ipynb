{
 "metadata": {
  "language_info": {
   "codemirror_mode": {
    "name": "ipython",
    "version": 3
   },
   "file_extension": ".py",
   "mimetype": "text/x-python",
   "name": "python",
   "nbconvert_exporter": "python",
   "pygments_lexer": "ipython3",
   "version": "3.9.0-final"
  },
  "orig_nbformat": 2,
  "kernelspec": {
   "name": "python3",
   "display_name": "Python 3.9.0 64-bit",
   "metadata": {
    "interpreter": {
     "hash": "ac59ebe37160ed0dfa835113d9b8498d9f09ceb179beaac4002f036b9467c963"
    }
   }
  }
 },
 "nbformat": 4,
 "nbformat_minor": 2,
 "cells": [
  {
   "cell_type": "code",
   "execution_count": 1,
   "metadata": {},
   "outputs": [],
   "source": [
    "import sympy as sp\n",
    "from functions import *\n",
    "import numpy as np\n",
    "from sympy.matrices import matrix_multiply_elementwise\n",
    "import matplotlib.pyplot as plt \n",
    "#sp.init_printing(use_latex=\"mathjax\")\n",
    "import matplotlib\n",
    "from numerical import P_num_over_E_single as P_num\n",
    "matplotlib.rc('text', usetex=True)\n",
    "matplotlib.rc('text.latex', preamble=r'\\usepackage{amsmath}')\n",
    "\n",
    "m_21, m_31, m_41 = sp.symbols(\"dm_21 dm_31 dm_41\", real = True, constant=True)\n",
    "th_12, th_13,th_23,th_34,th_23,th_14, th_24 = sp.symbols('theta_12 theta_13 theta_23 theta_34 theta_23 theta_14 theta_24', real = True, constant=True)\n",
    "E = sp.symbols('E', real = True, constant=True)\n",
    "d_ij=sp.symbols('delta_ij')\n",
    "V_cc, V_nc,= sp.symbols(\"V_cc,V_nc\", real = True, constant=True)\n",
    "A_cc, A_nc,= sp.symbols(\"A_cc,A_nc\", real = True, constant=True)\n",
    "param_dict_num =param_dict # Regular dict with parameter values\n",
    "param_dict_sym = {'theta_12': th_12, # Symbolic dict with sympy symbols\n",
    "                'theta_13': th_13,\n",
    "                'theta_23': th_23,\n",
    "                'theta_34': th_34,\n",
    "                'theta_24': th_24,\n",
    "                'theta_14': th_14,\n",
    "                'delta_ij': d_ij,\n",
    "                'dm_21': m_21,\n",
    "                'dm_31': m_31,\n",
    "                'dm_41': m_41}\n",
    "\n",
    "def V_ijab(i,j,a,b,params=param_dict_sym): # Blennow 78:807 delta_ij = 0\n",
    "    if a == b:\n",
    "        if a == i or a == j:\n",
    "            return sp.cos(theta(i,j,0, params=params))\n",
    "        else:\n",
    "            return 1\n",
    "    else:\n",
    "        if a == i and b == j:\n",
    "            return sp.sin(-theta(i,j,0, params=params)) \n",
    "        elif a == j and b == i:\n",
    "            return -sp.sin(-theta(i,j,0, params=params))\n",
    "        else:\n",
    "            return 0\n",
    "\n",
    "\n",
    "def V_matrix(i,j, n = 0, params=param_dict_sym): # Blennow 78:807\n",
    "    result = sp.zeros(3+n,3 + n)\n",
    "    for a in range(1, 4+n):\n",
    "        elem1 = [V_ijab(i,j,a,b, params=params) for b in range(1, 3 + n + 1)]\n",
    "        result[a-1] = elem1\n",
    "    return result\n",
    "\n",
    "def U_nu(ndim,params=param_dict_sym, mtype='full'):\n",
    "    if mtype == 'single':\n",
    "        return V_matrix(3,4,1, params=params) @ V_matrix(2,4,1, params=params) @ V_matrix(1,4,1, params=params)\n",
    "    else:\n",
    "        return V_matrix(3,4,1, params=params) @ V_matrix(2,4,1, params=params) @ V_matrix(1,4,1, params=params) @ V_matrix(2,3,1, params=params) @ V_matrix(1,3,1, params=params)\n",
    "def get_H_(En,params,mtype, anti, V=None):\n",
    "    '''\n",
    "    En in [GeV]\n",
    "    '''\n",
    "    if mtype == 'full':\n",
    "        U = U_nu(4, params=params)\n",
    "    elif mtype == 'single':\n",
    "        U = V_matrix(3,4,1, params=params) @ V_matrix(2,4,1, params=params) @ V_matrix(1,4,1, params=params)\n",
    "    if anti:\n",
    "        #A = -sp.diag(2*E*V_cc, 0 , 0, 2*E*V_nc)\n",
    "        M = sp.diag(0,params['dm_21'],params['dm_31'],-params['dm_41'])\n",
    "    else:\n",
    "        M = sp.diag(0,params['dm_21'],params['dm_31'],params['dm_41'])\n",
    "    if V is not None:\n",
    "        A = sp.diag(2*E*V, 0 , 0, E*V)\n",
    "    else:\n",
    "        A = sp.diag(2*E*V_cc, 0 , 0, E*V_nc)\n",
    "    H = 1/(2*E*1e9) * (U @ M @ U.T + A*1e18)\n",
    "    H = H.subs(E,En)\n",
    "    return H\n",
    "\n",
    "def diagonalize_H_(H,anti):\n",
    "    #TODO: clean up\n",
    "    UM_unsorted, HM_unsorted = H.diagonalize(reals_only=False,sort=True, normalize=True) \n",
    "    HM_unsorted = np.diag(np.asarray(HM_unsorted))\n",
    "    UM_unsorted = np.asarray(UM_unsorted)\n",
    "    if anti:\n",
    "        UM_sorted = np.array([UM_unsorted[:,0], UM_unsorted[:,2], UM_unsorted[:,1], UM_unsorted[:,3]])\n",
    "        HM_sorted = np.array([HM_unsorted[0], HM_unsorted[1], HM_unsorted[2], HM_unsorted[3]])\n",
    "    else:\n",
    "        UM_sorted = np.array([UM_unsorted[:,1], UM_unsorted[:,2], UM_unsorted[:,3], UM_unsorted[:,0]])\n",
    "        HM_sorted = np.array([HM_unsorted[1], HM_unsorted[2], HM_unsorted[3], HM_unsorted[0]])\n",
    "    return UM_sorted, HM_sorted\n",
    "\n",
    "    \n",
    "def get_dmM_(HM, En):\n",
    "    '''\n",
    "    En in [GeV]\n",
    "    '''\n",
    "    eigenvals = HM * np.array([1,1,1,1])\n",
    "    dmM_res = 2 * En * 1e9 * eigenvals\n",
    "    return dmM_res\n",
    "\n",
    "\n",
    "def get_dmM(En, params, mtype, anti):\n",
    "    '''\n",
    "    En in [GeV]\n",
    "    '''\n",
    "    H = get_H_(En, params=params, mtype=mtype, anti=anti)\n",
    "    UM,HM= diagonalize_H_(H,anti)\n",
    "    dmM = get_dmM_(HM, En)\n",
    "    return dmM\n",
    "\n",
    "V_cc = np.sqrt(2) * GF * 0.5 * N_A * 8.44 * (1/GeVtocm1)**3 #GeV\n",
    "V_nc = V_cc / 2 #GeV"
   ]
  },
  {
   "cell_type": "code",
   "execution_count": 2,
   "metadata": {},
   "outputs": [],
   "source": [
    "symb_params_simple = param_dict_sym.copy()\n",
    "symb_params = param_dict_sym.copy()\n",
    "\n",
    "symb_params.update({'theta_12': param_dict_num['theta_12'],\n",
    "                       'theta_13': param_dict_num['theta_13'],\n",
    "                       'theta_23': param_dict_num['theta_23'],\n",
    "                       'theta_14': 0,\n",
    "                       'theta_24': param_dict_sym['theta_24'],\n",
    "                       'theta_34': param_dict_sym['theta_34'],\n",
    "                       'dm_21': 0,\n",
    "                       'dm_31': 0,\n",
    "                       'dm_41': param_dict_num['dm_41']\n",
    "                       })\n",
    "\n",
    "symb_params_simple.update({'theta_12': 1,\n",
    "                       'theta_13': 1,\n",
    "                       'theta_23': 1,\n",
    "                       'theta_14': 0,\n",
    "                       'theta_24': param_dict_sym['theta_24'],\n",
    "                       'theta_34': param_dict_sym['theta_34'],\n",
    "                       'dm_21': 0,\n",
    "                       'dm_31': 0,\n",
    "                       'dm_41': param_dict_num['dm_41']\n",
    "                       })"
   ]
  },
  {
   "cell_type": "code",
   "execution_count": 5,
   "metadata": {},
   "outputs": [],
   "source": [
    "#UM_list = []\n",
    "#for V in [1e-13,2e-13,3e-13]:\n",
    "for E in [3e3]:#,2e3,3e3]:\n",
    "    H=get_H_(E,symb_params,mtype='single', anti=True, V = 1e-13)\n",
    "    UM, HM = H.diagonalize(reals_only=False,sort=True, normalize=True)\n",
    "    UM[:,0],UM[:,1] = UM[:,1],UM[:,0]\n",
    "    UM[:,1],UM[:,2] = UM[:,2],UM[:,1]\n",
    "    UM_a1 = UM[:,1]\n",
    "    UM_a4 = UM[:,3]\n",
    "\n",
    "    UM_e4 = UM_a4[0]\n",
    "    UM_m4 = UM_a4[1]\n",
    "    UM_t4 = UM_a4[2]\n",
    "    UM_s4 = UM_a4[3]\n",
    "\n",
    "    UM_list.append(UM_t4)"
   ]
  },
  {
   "cell_type": "code",
   "execution_count": 131,
   "metadata": {},
   "outputs": [],
   "source": [
    "ex1 = UM_list[0]\n",
    "UM_with_constants= ex1\n",
    "const_dict={}\n",
    "const = sp.numbered_symbols(\"C\", cls=sp.Dummy)\n",
    "for a in sp.preorder_traversal(ex1):\n",
    "    if isinstance(a, sp.Float) and a != 1 and a != 0.5:\n",
    "        c = next(const)\n",
    "        const_dict[c] = a\n",
    "        UM_with_constants = ex2.subs(a, c)"
   ]
  },
  {
   "cell_type": "code",
   "execution_count": 157,
   "metadata": {},
   "outputs": [],
   "source": [
    "replacements =[]\n",
    "formulas = []\n",
    "for UM_t4 in [UM_with_constants]:\n",
    "    replacement, UM_t4_formula = sp.cse(UM_t4)\n",
    "    UM_t4_formula = UM_t4_formula[0]\n",
    "    x = np.array(replacement)[:,1]\n",
    "    replacements.append(replacement)\n",
    "    formulas.append(UM_t4_formula)\n"
   ]
  },
  {
   "cell_type": "code",
   "execution_count": 158,
   "metadata": {},
   "outputs": [
    {
     "output_type": "execute_result",
     "data": {
      "text/plain": [
       "[(x0, sin(theta_34)),\n",
       " (x1, cos(theta_34)),\n",
       " (x2, cos(theta_24)),\n",
       " (x3, x2**2),\n",
       " (x4, x1**2),\n",
       " (x5, x3*x4),\n",
       " (x6, (_C1*x5 + 1)**0.5),\n",
       " (x7, _C28*x6),\n",
       " (x8, _C3*x6),\n",
       " (x9, x6 + 1),\n",
       " (x10, x2**4),\n",
       " (x11, x10*x4),\n",
       " (x12, _C5*x5),\n",
       " (x13, _C7*x3)]"
      ]
     },
     "metadata": {},
     "execution_count": 158
    }
   ],
   "source": [
    "replacements[0]"
   ]
  },
  {
   "cell_type": "code",
   "execution_count": 159,
   "metadata": {},
   "outputs": [
    {
     "output_type": "execute_result",
     "data": {
      "text/plain": [
       "x0*x1*x3*(_C30 + x7)/(sqrt(_C0*x5*(_C2*x3 + x12 + x3*x8 + x9)**2*sin(theta_24)**2/(_C12*x11 + _C15*x11*x6 + _C8*x1**4*x10 + _C9*x5 + x12*x6 + x13*x6 + x13 + x9)**2 + _C17*x0**2*x11*(_C18*x6 + 1)**2/(_C21*x5 + x5*x8 + x9)**2 + 1.0)*(_C24*x6 + _C24 + _C27*x5 + x5*x7))"
      ],
      "text/latex": "$\\displaystyle \\frac{x_{0} x_{1} x_{3} \\left(C_{30} + x_{7}\\right)}{\\sqrt{\\frac{C_{0} x_{5} \\left(C_{2} x_{3} + x_{12} + x_{3} x_{8} + x_{9}\\right)^{2} \\sin^{2}{\\left(\\theta_{24} \\right)}}{\\left(C_{12} x_{11} + C_{15} x_{11} x_{6} + C_{8} x_{1}^{4} x_{10} + C_{9} x_{5} + x_{12} x_{6} + x_{13} x_{6} + x_{13} + x_{9}\\right)^{2}} + \\frac{C_{17} x_{0}^{2} x_{11} \\left(C_{18} x_{6} + 1\\right)^{2}}{\\left(C_{21} x_{5} + x_{5} x_{8} + x_{9}\\right)^{2}} + 1.0} \\left(C_{24} x_{6} + C_{24} + C_{27} x_{5} + x_{5} x_{7}\\right)}$"
     },
     "metadata": {},
     "execution_count": 159
    }
   ],
   "source": [
    "formulas[0]"
   ]
  },
  {
   "cell_type": "code",
   "execution_count": 172,
   "metadata": {},
   "outputs": [
    {
     "output_type": "execute_result",
     "data": {
      "text/plain": [
       "{_C0: 1.11111111851852e-17,\n",
       " _C1: 1.33333334222222e-8,\n",
       " _C2: 3.33333335555556e-9,\n",
       " _C3: 3.33333333333333e-9,\n",
       " _C4: 1.33333334222222e-8,\n",
       " _C5: 6.66666668888889e-9,\n",
       " _C6: 1.33333334222222e-8,\n",
       " _C7: 3.33333334444444e-9,\n",
       " _C8: 2.22222223703704e-17,\n",
       " _C9: 1.33333334000000e-8,\n",
       " _C10: 3.33333334444444e-9,\n",
       " _C11: 1.33333334222222e-8,\n",
       " _C12: 3.33333335925926e-17,\n",
       " _C13: 6.66666668888889e-9,\n",
       " _C14: 1.33333334222222e-8,\n",
       " _C15: 1.11111111481481e-17,\n",
       " _C16: 1.33333334222222e-8,\n",
       " _C17: 1.11111112592593e-17,\n",
       " _C18: 0.999999993333333,\n",
       " _C19: 1.33333334222222e-8,\n",
       " _C20: 1.33333334222222e-8,\n",
       " _C21: 1.00000000444444e-8,\n",
       " _C22: 3.33333333333333e-9,\n",
       " _C23: 1.33333334222222e-8,\n",
       " _C24: 8.99999997000000e+16,\n",
       " _C25: 8.99999997000000e+16,\n",
       " _C26: 1.33333334222222e-8,\n",
       " _C27: 900000001.000000,\n",
       " _C28: 299999999.000000,\n",
       " _C29: 1.33333334222222e-8,\n",
       " _C30: 300000001.000000,\n",
       " _C31: 299999999.000000,\n",
       " _C32: 1.33333334222222e-8}"
      ]
     },
     "metadata": {},
     "execution_count": 172
    }
   ],
   "source": [
    "const_dict"
   ]
  },
  {
   "cell_type": "code",
   "execution_count": 160,
   "metadata": {},
   "outputs": [],
   "source": [
    "def dm_func(E,V,theta24,theta34,a):\n",
    "    return np.sqrt(np.cos(theta24)**2*np.cos(theta34)**2/(a*E*V) + 1)\n",
    "def func(E,V,theta24,theta34,a,b,c,d,f):\n",
    "    dm = dm_func(E,V,theta24,theta34,a)\n",
    "    s34 = np.sin(theta34)\n",
    "    s24 = np.sin(theta24)\n",
    "    return b*dm*s34/(np.sqrt(c*s24**2*dm + s34**2*(d*dm+1)**2/(e*dm**4) + 1)* f*dm**2)"
   ]
  },
  {
   "cell_type": "code",
   "execution_count": 163,
   "metadata": {},
   "outputs": [
    {
     "output_type": "display_data",
     "data": {
      "text/plain": "<Figure size 432x288 with 1 Axes>",
      "image/svg+xml": "<?xml version=\"1.0\" encoding=\"utf-8\" standalone=\"no\"?>\r\n<!DOCTYPE svg PUBLIC \"-//W3C//DTD SVG 1.1//EN\"\r\n  \"http://www.w3.org/Graphics/SVG/1.1/DTD/svg11.dtd\">\r\n<!-- Created with matplotlib (https://matplotlib.org/) -->\r\n<svg height=\"257.698332pt\" version=\"1.1\" viewBox=\"0 0 393.836755 257.698332\" width=\"393.836755pt\" xmlns=\"http://www.w3.org/2000/svg\" xmlns:xlink=\"http://www.w3.org/1999/xlink\">\r\n <metadata>\r\n  <rdf:RDF xmlns:cc=\"http://creativecommons.org/ns#\" xmlns:dc=\"http://purl.org/dc/elements/1.1/\" xmlns:rdf=\"http://www.w3.org/1999/02/22-rdf-syntax-ns#\">\r\n   <cc:Work>\r\n    <dc:type rdf:resource=\"http://purl.org/dc/dcmitype/StillImage\"/>\r\n    <dc:date>2021-03-11T11:38:39.174787</dc:date>\r\n    <dc:format>image/svg+xml</dc:format>\r\n    <dc:creator>\r\n     <cc:Agent>\r\n      <dc:title>Matplotlib v3.3.3, https://matplotlib.org/</dc:title>\r\n     </cc:Agent>\r\n    </dc:creator>\r\n   </cc:Work>\r\n  </rdf:RDF>\r\n </metadata>\r\n <defs>\r\n  <style type=\"text/css\">*{stroke-linecap:butt;stroke-linejoin:round;}</style>\r\n </defs>\r\n <g id=\"figure_1\">\r\n  <g id=\"patch_1\">\r\n   <path d=\"M 0 257.698332 \r\nL 393.836755 257.698332 \r\nL 393.836755 0 \r\nL 0 0 \r\nz\r\n\" style=\"fill:none;\"/>\r\n  </g>\r\n  <g id=\"axes_1\">\r\n   <g id=\"patch_2\">\r\n    <path d=\"M 51.836755 234.642655 \r\nL 386.636755 234.642655 \r\nL 386.636755 17.202655 \r\nL 51.836755 17.202655 \r\nz\r\n\" style=\"fill:#ffffff;\"/>\r\n   </g>\r\n   <g id=\"matplotlib.axis_1\">\r\n    <g id=\"xtick_1\">\r\n     <g id=\"line2d_1\">\r\n      <defs>\r\n       <path d=\"M 0 0 \r\nL 0 3.5 \r\n\" id=\"m7da46536b1\" style=\"stroke:#000000;stroke-width:0.8;\"/>\r\n      </defs>\r\n      <g>\r\n       <use style=\"stroke:#000000;stroke-width:0.8;\" x=\"67.054937\" xlink:href=\"#m7da46536b1\" y=\"234.642655\"/>\r\n      </g>\r\n     </g>\r\n     <g id=\"text_1\">\r\n      <!-- $\\mathdefault{10^{3}}$ -->\r\n      <g transform=\"translate(60.087983 248.561154)scale(0.1 -0.1)\">\r\n       <defs>\r\n        <path d=\"M 26.59375 63.40625 \r\nC 26.59375 65.5 26.5 65.5 25.09375 65.5 \r\nC 21.203125 61.1875 15.296875 59.796875 9.703125 59.796875 \r\nC 9.40625 59.796875 8.90625 59.796875 8.796875 59.5 \r\nC 8.703125 59.296875 8.703125 59.09375 8.703125 57 \r\nC 11.796875 57 17 57.59375 21 59.984375 \r\nL 21 7.203125 \r\nC 21 3.6875 20.796875 2.5 12.203125 2.5 \r\nL 9.203125 2.5 \r\nL 9.203125 0 \r\nC 14 0 19 0 23.796875 0 \r\nC 28.59375 0 33.59375 0 38.40625 0 \r\nL 38.40625 2.5 \r\nL 35.40625 2.5 \r\nC 26.796875 2.5 26.59375 3.59375 26.59375 7.15625 \r\nz\r\n\" id=\"CMR17-49\"/>\r\n        <path d=\"M 42 31.640625 \r\nC 42 37.75 41.90625 48.125 37.703125 56.109375 \r\nC 34 63.109375 28.09375 65.59375 22.90625 65.59375 \r\nC 18.09375 65.59375 12 63.40625 8.203125 56.203125 \r\nC 4.203125 48.71875 3.796875 39.4375 3.796875 31.640625 \r\nC 3.796875 25.953125 3.90625 17.28125 7 9.671875 \r\nC 11.296875 -0.609375 19 -2 22.90625 -2 \r\nC 27.5 -2 34.5 -0.109375 38.59375 9.375 \r\nC 41.59375 16.28125 42 24.359375 42 31.640625 \r\nz\r\nM 22.90625 -0.40625 \r\nC 16.5 -0.40625 12.703125 5.078125 11.296875 12.6875 \r\nC 10.203125 18.5625 10.203125 27.15625 10.203125 32.75 \r\nC 10.203125 40.4375 10.203125 46.828125 11.5 52.921875 \r\nC 13.40625 61.390625 19 64 22.90625 64 \r\nC 27 64 32.296875 61.296875 34.203125 53.125 \r\nC 35.5 47.4375 35.59375 40.734375 35.59375 32.75 \r\nC 35.59375 26.25 35.59375 18.265625 34.40625 12.375 \r\nC 32.296875 1.484375 26.40625 -0.40625 22.90625 -0.40625 \r\nz\r\n\" id=\"CMR17-48\"/>\r\n        <path d=\"M 22.09375 33.703125 \r\nC 31 33.703125 34.90625 25.96875 34.90625 17.03125 \r\nC 34.90625 5 28.5 0.390625 22.703125 0.390625 \r\nC 17.40625 0.390625 8.796875 3.03125 6.09375 10.828125 \r\nC 6.59375 10.625 7.09375 10.625 7.59375 10.625 \r\nC 10 10.625 11.796875 12.21875 11.796875 14.8125 \r\nC 11.796875 17.703125 9.59375 19 7.59375 19 \r\nC 5.90625 19 3.296875 18.203125 3.296875 14.46875 \r\nC 3.296875 5.234375 12.296875 -2 22.90625 -2 \r\nC 34 -2 42.5 6.71875 42.5 16.953125 \r\nC 42.5 26.671875 34.5 33.703125 25 34.796875 \r\nC 32.59375 36.375 39.90625 43.0625 39.90625 52.015625 \r\nC 39.90625 59.6875 32 65.296875 23 65.296875 \r\nC 13.90625 65.296875 5.90625 59.828125 5.90625 52.015625 \r\nC 5.90625 48.59375 8.5 48 9.796875 48 \r\nC 11.90625 48 13.703125 49.296875 13.703125 51.890625 \r\nC 13.703125 54.46875 11.90625 55.765625 9.796875 55.765625 \r\nC 9.40625 55.765625 8.90625 55.765625 8.5 55.578125 \r\nC 11.40625 61.859375 19.296875 63 22.796875 63 \r\nC 26.296875 63 32.90625 61.328125 32.90625 51.875 \r\nC 32.90625 49.109375 32.5 44.1875 29.09375 39.84375 \r\nC 26.09375 36 22.703125 36 19.40625 35.6875 \r\nC 18.90625 35.6875 16.59375 35.453125 16.203125 35.453125 \r\nC 15.5 35.359375 15.09375 35.265625 15.09375 34.5 \r\nC 15.09375 33.796875 15.203125 33.703125 17.203125 33.703125 \r\nz\r\n\" id=\"CMR17-51\"/>\r\n       </defs>\r\n       <use transform=\"scale(0.996264)\" xlink:href=\"#CMR17-49\"/>\r\n       <use transform=\"translate(45.690477 0)scale(0.996264)\" xlink:href=\"#CMR17-48\"/>\r\n       <use transform=\"translate(91.380954 36.153639)scale(0.697382)\" xlink:href=\"#CMR17-51\"/>\r\n      </g>\r\n     </g>\r\n    </g>\r\n    <g id=\"xtick_2\">\r\n     <g id=\"line2d_2\">\r\n      <g>\r\n       <use style=\"stroke:#000000;stroke-width:0.8;\" x=\"371.418573\" xlink:href=\"#m7da46536b1\" y=\"234.642655\"/>\r\n      </g>\r\n     </g>\r\n     <g id=\"text_2\">\r\n      <!-- $\\mathdefault{10^{4}}$ -->\r\n      <g transform=\"translate(364.451619 248.561154)scale(0.1 -0.1)\">\r\n       <defs>\r\n        <path d=\"M 33.59375 64.40625 \r\nC 33.59375 66.5 33.5 66.5 31.703125 66.5 \r\nL 2 19.59375 \r\nL 2 17 \r\nL 27.796875 17 \r\nL 27.796875 7.140625 \r\nC 27.796875 3.5 27.59375 2.5 20.59375 2.5 \r\nL 18.703125 2.5 \r\nL 18.703125 0 \r\nC 21.90625 0 27.296875 0 30.703125 0 \r\nC 34.09375 0 39.5 0 42.703125 0 \r\nL 42.703125 2.5 \r\nL 40.796875 2.5 \r\nC 33.796875 2.5 33.59375 3.5 33.59375 7.140625 \r\nL 33.59375 17 \r\nL 43.796875 17 \r\nL 43.796875 19.59375 \r\nL 33.59375 19.59375 \r\nz\r\nM 28.09375 57.859375 \r\nL 28.09375 19.59375 \r\nL 4 19.59375 \r\nz\r\n\" id=\"CMR17-52\"/>\r\n       </defs>\r\n       <use transform=\"scale(0.996264)\" xlink:href=\"#CMR17-49\"/>\r\n       <use transform=\"translate(45.690477 0)scale(0.996264)\" xlink:href=\"#CMR17-48\"/>\r\n       <use transform=\"translate(91.380954 36.153639)scale(0.697382)\" xlink:href=\"#CMR17-52\"/>\r\n      </g>\r\n     </g>\r\n    </g>\r\n    <g id=\"xtick_3\">\r\n     <g id=\"line2d_3\">\r\n      <defs>\r\n       <path d=\"M 0 0 \r\nL 0 2 \r\n\" id=\"m44d7946d09\" style=\"stroke:#000000;stroke-width:0.6;\"/>\r\n      </defs>\r\n      <g>\r\n       <use style=\"stroke:#000000;stroke-width:0.6;\" x=\"53.128021\" xlink:href=\"#m44d7946d09\" y=\"234.642655\"/>\r\n      </g>\r\n     </g>\r\n    </g>\r\n    <g id=\"xtick_4\">\r\n     <g id=\"line2d_4\">\r\n      <g>\r\n       <use style=\"stroke:#000000;stroke-width:0.6;\" x=\"158.677521\" xlink:href=\"#m44d7946d09\" y=\"234.642655\"/>\r\n      </g>\r\n     </g>\r\n    </g>\r\n    <g id=\"xtick_5\">\r\n     <g id=\"line2d_5\">\r\n      <g>\r\n       <use style=\"stroke:#000000;stroke-width:0.6;\" x=\"212.273297\" xlink:href=\"#m44d7946d09\" y=\"234.642655\"/>\r\n      </g>\r\n     </g>\r\n    </g>\r\n    <g id=\"xtick_6\">\r\n     <g id=\"line2d_6\">\r\n      <g>\r\n       <use style=\"stroke:#000000;stroke-width:0.6;\" x=\"250.300105\" xlink:href=\"#m44d7946d09\" y=\"234.642655\"/>\r\n      </g>\r\n     </g>\r\n    </g>\r\n    <g id=\"xtick_7\">\r\n     <g id=\"line2d_7\">\r\n      <g>\r\n       <use style=\"stroke:#000000;stroke-width:0.6;\" x=\"279.795989\" xlink:href=\"#m44d7946d09\" y=\"234.642655\"/>\r\n      </g>\r\n     </g>\r\n    </g>\r\n    <g id=\"xtick_8\">\r\n     <g id=\"line2d_8\">\r\n      <g>\r\n       <use style=\"stroke:#000000;stroke-width:0.6;\" x=\"303.895881\" xlink:href=\"#m44d7946d09\" y=\"234.642655\"/>\r\n      </g>\r\n     </g>\r\n    </g>\r\n    <g id=\"xtick_9\">\r\n     <g id=\"line2d_9\">\r\n      <g>\r\n       <use style=\"stroke:#000000;stroke-width:0.6;\" x=\"324.27205\" xlink:href=\"#m44d7946d09\" y=\"234.642655\"/>\r\n      </g>\r\n     </g>\r\n    </g>\r\n    <g id=\"xtick_10\">\r\n     <g id=\"line2d_10\">\r\n      <g>\r\n       <use style=\"stroke:#000000;stroke-width:0.6;\" x=\"341.922689\" xlink:href=\"#m44d7946d09\" y=\"234.642655\"/>\r\n      </g>\r\n     </g>\r\n    </g>\r\n    <g id=\"xtick_11\">\r\n     <g id=\"line2d_11\">\r\n      <g>\r\n       <use style=\"stroke:#000000;stroke-width:0.6;\" x=\"357.491657\" xlink:href=\"#m44d7946d09\" y=\"234.642655\"/>\r\n      </g>\r\n     </g>\r\n    </g>\r\n   </g>\r\n   <g id=\"matplotlib.axis_2\">\r\n    <g id=\"ytick_1\">\r\n     <g id=\"line2d_12\">\r\n      <defs>\r\n       <path d=\"M 0 0 \r\nL -3.5 0 \r\n\" id=\"mecd119eb5e\" style=\"stroke:#000000;stroke-width:0.8;\"/>\r\n      </defs>\r\n      <g>\r\n       <use style=\"stroke:#000000;stroke-width:0.8;\" x=\"51.836755\" xlink:href=\"#mecd119eb5e\" y=\"212.045601\"/>\r\n      </g>\r\n     </g>\r\n     <g id=\"text_3\">\r\n      <!-- $\\mathdefault{1.601900}$ -->\r\n      <g transform=\"translate(7.2 215.504851)scale(0.1 -0.1)\">\r\n       <defs>\r\n        <path d=\"M 18.40625 4.796875 \r\nC 18.40625 7.6875 16 9.671875 13.59375 9.671875 \r\nC 10.703125 9.671875 8.703125 7.28125 8.703125 4.890625 \r\nC 8.703125 2 11.09375 0 13.5 0 \r\nC 16.40625 0 18.40625 2.390625 18.40625 4.796875 \r\nz\r\n\" id=\"CMMI12-58\"/>\r\n        <path d=\"M 10.59375 34 \r\nC 10.59375 57.65625 21.796875 63 28.296875 63 \r\nC 30.40625 63 35.5 62.640625 37.5 59 \r\nC 35.90625 59 32.90625 59 32.90625 55.515625 \r\nC 32.90625 52.828125 35.09375 51.921875 36.5 51.921875 \r\nC 37.40625 51.921875 40.09375 52.3125 40.09375 55.625 \r\nC 40.09375 61.78125 35.09375 65.296875 28.203125 65.296875 \r\nC 16.296875 65.296875 3.796875 52.96875 3.796875 31 \r\nC 3.796875 3.953125 15.09375 -2 23.09375 -2 \r\nC 32.796875 -2 42 6.671875 42 20.046875 \r\nC 42 32.515625 33.90625 41.59375 23.703125 41.59375 \r\nC 17.59375 41.59375 13.09375 37.609375 10.59375 30.625 \r\nz\r\nM 23.09375 0.390625 \r\nC 10.796875 0.390625 10.796875 18.75 10.796875 22.4375 \r\nC 10.796875 29.625 14.203125 40 23.5 40 \r\nC 25.203125 40 30.09375 40 33.40625 33.125 \r\nC 35.203125 29.21875 35.203125 25.140625 35.203125 20.140625 \r\nC 35.203125 14.75 35.203125 10.78125 33.09375 6.78125 \r\nC 30.90625 2.671875 27.703125 0.390625 23.09375 0.390625 \r\nz\r\n\" id=\"CMR17-54\"/>\r\n        <path d=\"M 35.203125 29.125 \r\nC 35.203125 7.25 26.09375 0.484375 18.59375 0.484375 \r\nC 16.296875 0.484375 10.703125 0.484375 8.40625 4.59375 \r\nC 11 4.1875 12.90625 5.578125 12.90625 8.09375 \r\nC 12.90625 10.8125 10.703125 11.703125 9.296875 11.703125 \r\nC 8.40625 11.703125 5.703125 11.296875 5.703125 7.90625 \r\nC 5.703125 1.109375 11.59375 -2 18.796875 -2 \r\nC 30.296875 -2 42 10.53125 42 32.390625 \r\nC 42 59.640625 30.796875 65.296875 23.203125 65.296875 \r\nC 13.296875 65.296875 3.796875 56.6875 3.796875 43.40625 \r\nC 3.796875 31.109375 11.90625 22 22.09375 22 \r\nC 30.5 22 34.203125 29.734375 35.203125 33 \r\nz\r\nM 22.296875 23.59375 \r\nC 19.59375 23.59375 15.796875 24.09375 12.703125 30.03125 \r\nC 10.59375 33.890625 10.59375 38.453125 10.59375 43.296875 \r\nC 10.59375 49.15625 10.59375 53.203125 13.40625 57.5625 \r\nC 14.796875 59.640625 17.40625 63 23.203125 63 \r\nC 35 63 35 45.078125 35 41.125 \r\nC 35 34.09375 31.796875 23.59375 22.296875 23.59375 \r\nz\r\n\" id=\"CMR17-57\"/>\r\n       </defs>\r\n       <use transform=\"scale(0.996264)\" xlink:href=\"#CMR17-49\"/>\r\n       <use transform=\"translate(45.690477 0)scale(0.996264)\" xlink:href=\"#CMMI12-58\"/>\r\n       <use transform=\"translate(72.787654 0)scale(0.996264)\" xlink:href=\"#CMR17-54\"/>\r\n       <use transform=\"translate(118.478131 0)scale(0.996264)\" xlink:href=\"#CMR17-48\"/>\r\n       <use transform=\"translate(164.168608 0)scale(0.996264)\" xlink:href=\"#CMR17-49\"/>\r\n       <use transform=\"translate(209.859086 0)scale(0.996264)\" xlink:href=\"#CMR17-57\"/>\r\n       <use transform=\"translate(255.549563 0)scale(0.996264)\" xlink:href=\"#CMR17-48\"/>\r\n       <use transform=\"translate(301.24004 0)scale(0.996264)\" xlink:href=\"#CMR17-48\"/>\r\n      </g>\r\n     </g>\r\n    </g>\r\n    <g id=\"ytick_2\">\r\n     <g id=\"line2d_13\">\r\n      <g>\r\n       <use style=\"stroke:#000000;stroke-width:0.8;\" x=\"51.836755\" xlink:href=\"#mecd119eb5e\" y=\"186.597375\"/>\r\n      </g>\r\n     </g>\r\n     <g id=\"text_4\">\r\n      <!-- $\\mathdefault{1.601925}$ -->\r\n      <g transform=\"translate(7.2 190.056625)scale(0.1 -0.1)\">\r\n       <defs>\r\n        <path d=\"M 41.703125 15.453125 \r\nL 39.90625 15.453125 \r\nC 38.90625 8.375 38.09375 7.171875 37.703125 6.5625 \r\nC 37.203125 5.765625 30 5.765625 28.59375 5.765625 \r\nL 9.40625 5.765625 \r\nC 13 9.671875 20 16.75 28.5 24.953125 \r\nC 34.59375 30.734375 41.703125 37.53125 41.703125 47.421875 \r\nC 41.703125 59.21875 32.296875 66 21.796875 66 \r\nC 10.796875 66 4.09375 56.3125 4.09375 47.34375 \r\nC 4.09375 43.4375 7 42.9375 8.203125 42.9375 \r\nC 9.203125 42.9375 12.203125 43.546875 12.203125 47.03125 \r\nC 12.203125 50.109375 9.59375 51 8.203125 51 \r\nC 7.59375 51 7 50.90625 6.59375 50.703125 \r\nC 8.5 59.21875 14.296875 63.40625 20.40625 63.40625 \r\nC 29.09375 63.40625 34.796875 56.515625 34.796875 47.421875 \r\nC 34.796875 38.734375 29.703125 31.25 24 24.75 \r\nL 4.09375 2.28125 \r\nL 4.09375 0 \r\nL 39.296875 0 \r\nz\r\n\" id=\"CMR17-50\"/>\r\n        <path d=\"M 11.40625 57.6875 \r\nC 12.40625 57.28125 16.5 56 20.703125 56 \r\nC 30 56 35.09375 61.109375 38 64.0625 \r\nC 38 64.953125 38 65.5 37.40625 65.5 \r\nC 37.296875 65.5 37.09375 65.5 36.296875 65.046875 \r\nC 32.796875 63.40625 28.703125 62.078125 23.703125 62.078125 \r\nC 20.703125 62.078125 16.203125 62.484375 11.296875 64.671875 \r\nC 10.203125 65.171875 10 65.171875 9.90625 65.171875 \r\nC 9.40625 65.171875 9.296875 65.0625 9.296875 63.078125 \r\nL 9.296875 34.421875 \r\nC 9.296875 32.640625 9.296875 32.140625 10.296875 32.140625 \r\nC 10.796875 32.140625 11 32.34375 11.5 33.03125 \r\nC 14.703125 37.515625 19.09375 39.40625 24.09375 39.40625 \r\nC 27.59375 39.40625 35.09375 37.21875 35.09375 20.140625 \r\nC 35.09375 16.953125 35.09375 11.171875 32.09375 6.578125 \r\nC 29.59375 2.484375 25.703125 0.390625 21.40625 0.390625 \r\nC 14.796875 0.390625 8.09375 5 6.296875 12.71875 \r\nC 6.703125 12.609375 7.5 12.421875 7.90625 12.421875 \r\nC 9.203125 12.421875 11.703125 13.125 11.703125 16.21875 \r\nC 11.703125 18.90625 9.796875 20 7.90625 20 \r\nC 5.59375 20 4.09375 18.59375 4.09375 15.796875 \r\nC 4.09375 7.09375 11 -2 21.59375 -2 \r\nC 31.90625 -2 41.703125 6.875 41.703125 19.75 \r\nC 41.703125 31.71875 33.90625 41 24.203125 41 \r\nC 19.09375 41 14.796875 39.109375 11.40625 35.53125 \r\nz\r\n\" id=\"CMR17-53\"/>\r\n       </defs>\r\n       <use transform=\"scale(0.996264)\" xlink:href=\"#CMR17-49\"/>\r\n       <use transform=\"translate(45.690477 0)scale(0.996264)\" xlink:href=\"#CMMI12-58\"/>\r\n       <use transform=\"translate(72.787654 0)scale(0.996264)\" xlink:href=\"#CMR17-54\"/>\r\n       <use transform=\"translate(118.478131 0)scale(0.996264)\" xlink:href=\"#CMR17-48\"/>\r\n       <use transform=\"translate(164.168608 0)scale(0.996264)\" xlink:href=\"#CMR17-49\"/>\r\n       <use transform=\"translate(209.859086 0)scale(0.996264)\" xlink:href=\"#CMR17-57\"/>\r\n       <use transform=\"translate(255.549563 0)scale(0.996264)\" xlink:href=\"#CMR17-50\"/>\r\n       <use transform=\"translate(301.24004 0)scale(0.996264)\" xlink:href=\"#CMR17-53\"/>\r\n      </g>\r\n     </g>\r\n    </g>\r\n    <g id=\"ytick_3\">\r\n     <g id=\"line2d_14\">\r\n      <g>\r\n       <use style=\"stroke:#000000;stroke-width:0.8;\" x=\"51.836755\" xlink:href=\"#mecd119eb5e\" y=\"161.149149\"/>\r\n      </g>\r\n     </g>\r\n     <g id=\"text_5\">\r\n      <!-- $\\mathdefault{1.601950}$ -->\r\n      <g transform=\"translate(7.2 164.608399)scale(0.1 -0.1)\">\r\n       <use transform=\"scale(0.996264)\" xlink:href=\"#CMR17-49\"/>\r\n       <use transform=\"translate(45.690477 0)scale(0.996264)\" xlink:href=\"#CMMI12-58\"/>\r\n       <use transform=\"translate(72.787654 0)scale(0.996264)\" xlink:href=\"#CMR17-54\"/>\r\n       <use transform=\"translate(118.478131 0)scale(0.996264)\" xlink:href=\"#CMR17-48\"/>\r\n       <use transform=\"translate(164.168608 0)scale(0.996264)\" xlink:href=\"#CMR17-49\"/>\r\n       <use transform=\"translate(209.859086 0)scale(0.996264)\" xlink:href=\"#CMR17-57\"/>\r\n       <use transform=\"translate(255.549563 0)scale(0.996264)\" xlink:href=\"#CMR17-53\"/>\r\n       <use transform=\"translate(301.24004 0)scale(0.996264)\" xlink:href=\"#CMR17-48\"/>\r\n      </g>\r\n     </g>\r\n    </g>\r\n    <g id=\"ytick_4\">\r\n     <g id=\"line2d_15\">\r\n      <g>\r\n       <use style=\"stroke:#000000;stroke-width:0.8;\" x=\"51.836755\" xlink:href=\"#mecd119eb5e\" y=\"135.700924\"/>\r\n      </g>\r\n     </g>\r\n     <g id=\"text_6\">\r\n      <!-- $\\mathdefault{1.601975}$ -->\r\n      <g transform=\"translate(7.2 139.160173)scale(0.1 -0.1)\">\r\n       <defs>\r\n        <path d=\"M 45.09375 61.578125 \r\nL 45.09375 63.765625 \r\nL 21.59375 63.765625 \r\nC 9.90625 63.765625 9.703125 65.078125 9.296875 67 \r\nL 7.5 67 \r\nL 4.59375 48.34375 \r\nL 6.40625 48.34375 \r\nC 6.703125 50.234375 7.40625 55.3125 8.59375 57.203125 \r\nC 9.203125 58 16.59375 58 18.296875 58 \r\nL 40.296875 58 \r\nL 29.203125 41.578125 \r\nC 21.796875 30.53125 16.703125 15.609375 16.703125 2.578125 \r\nC 16.703125 1.390625 16.703125 -2 20.296875 -2 \r\nC 23.90625 -2 23.90625 1.390625 23.90625 2.671875 \r\nL 23.90625 7.265625 \r\nC 23.90625 23.5625 26.703125 34.3125 31.296875 41.1875 \r\nz\r\n\" id=\"CMR17-55\"/>\r\n       </defs>\r\n       <use transform=\"scale(0.996264)\" xlink:href=\"#CMR17-49\"/>\r\n       <use transform=\"translate(45.690477 0)scale(0.996264)\" xlink:href=\"#CMMI12-58\"/>\r\n       <use transform=\"translate(72.787654 0)scale(0.996264)\" xlink:href=\"#CMR17-54\"/>\r\n       <use transform=\"translate(118.478131 0)scale(0.996264)\" xlink:href=\"#CMR17-48\"/>\r\n       <use transform=\"translate(164.168608 0)scale(0.996264)\" xlink:href=\"#CMR17-49\"/>\r\n       <use transform=\"translate(209.859086 0)scale(0.996264)\" xlink:href=\"#CMR17-57\"/>\r\n       <use transform=\"translate(255.549563 0)scale(0.996264)\" xlink:href=\"#CMR17-55\"/>\r\n       <use transform=\"translate(301.24004 0)scale(0.996264)\" xlink:href=\"#CMR17-53\"/>\r\n      </g>\r\n     </g>\r\n    </g>\r\n    <g id=\"ytick_5\">\r\n     <g id=\"line2d_16\">\r\n      <g>\r\n       <use style=\"stroke:#000000;stroke-width:0.8;\" x=\"51.836755\" xlink:href=\"#mecd119eb5e\" y=\"110.252698\"/>\r\n      </g>\r\n     </g>\r\n     <g id=\"text_7\">\r\n      <!-- $\\mathdefault{1.602000}$ -->\r\n      <g transform=\"translate(7.2 113.711947)scale(0.1 -0.1)\">\r\n       <use transform=\"scale(0.996264)\" xlink:href=\"#CMR17-49\"/>\r\n       <use transform=\"translate(45.690477 0)scale(0.996264)\" xlink:href=\"#CMMI12-58\"/>\r\n       <use transform=\"translate(72.787654 0)scale(0.996264)\" xlink:href=\"#CMR17-54\"/>\r\n       <use transform=\"translate(118.478131 0)scale(0.996264)\" xlink:href=\"#CMR17-48\"/>\r\n       <use transform=\"translate(164.168608 0)scale(0.996264)\" xlink:href=\"#CMR17-50\"/>\r\n       <use transform=\"translate(209.859086 0)scale(0.996264)\" xlink:href=\"#CMR17-48\"/>\r\n       <use transform=\"translate(255.549563 0)scale(0.996264)\" xlink:href=\"#CMR17-48\"/>\r\n       <use transform=\"translate(301.24004 0)scale(0.996264)\" xlink:href=\"#CMR17-48\"/>\r\n      </g>\r\n     </g>\r\n    </g>\r\n    <g id=\"ytick_6\">\r\n     <g id=\"line2d_17\">\r\n      <g>\r\n       <use style=\"stroke:#000000;stroke-width:0.8;\" x=\"51.836755\" xlink:href=\"#mecd119eb5e\" y=\"84.804472\"/>\r\n      </g>\r\n     </g>\r\n     <g id=\"text_8\">\r\n      <!-- $\\mathdefault{1.602025}$ -->\r\n      <g transform=\"translate(7.2 88.263721)scale(0.1 -0.1)\">\r\n       <use transform=\"scale(0.996264)\" xlink:href=\"#CMR17-49\"/>\r\n       <use transform=\"translate(45.690477 0)scale(0.996264)\" xlink:href=\"#CMMI12-58\"/>\r\n       <use transform=\"translate(72.787654 0)scale(0.996264)\" xlink:href=\"#CMR17-54\"/>\r\n       <use transform=\"translate(118.478131 0)scale(0.996264)\" xlink:href=\"#CMR17-48\"/>\r\n       <use transform=\"translate(164.168608 0)scale(0.996264)\" xlink:href=\"#CMR17-50\"/>\r\n       <use transform=\"translate(209.859086 0)scale(0.996264)\" xlink:href=\"#CMR17-48\"/>\r\n       <use transform=\"translate(255.549563 0)scale(0.996264)\" xlink:href=\"#CMR17-50\"/>\r\n       <use transform=\"translate(301.24004 0)scale(0.996264)\" xlink:href=\"#CMR17-53\"/>\r\n      </g>\r\n     </g>\r\n    </g>\r\n    <g id=\"ytick_7\">\r\n     <g id=\"line2d_18\">\r\n      <g>\r\n       <use style=\"stroke:#000000;stroke-width:0.8;\" x=\"51.836755\" xlink:href=\"#mecd119eb5e\" y=\"59.356246\"/>\r\n      </g>\r\n     </g>\r\n     <g id=\"text_9\">\r\n      <!-- $\\mathdefault{1.602050}$ -->\r\n      <g transform=\"translate(7.2 62.815495)scale(0.1 -0.1)\">\r\n       <use transform=\"scale(0.996264)\" xlink:href=\"#CMR17-49\"/>\r\n       <use transform=\"translate(45.690477 0)scale(0.996264)\" xlink:href=\"#CMMI12-58\"/>\r\n       <use transform=\"translate(72.787654 0)scale(0.996264)\" xlink:href=\"#CMR17-54\"/>\r\n       <use transform=\"translate(118.478131 0)scale(0.996264)\" xlink:href=\"#CMR17-48\"/>\r\n       <use transform=\"translate(164.168608 0)scale(0.996264)\" xlink:href=\"#CMR17-50\"/>\r\n       <use transform=\"translate(209.859086 0)scale(0.996264)\" xlink:href=\"#CMR17-48\"/>\r\n       <use transform=\"translate(255.549563 0)scale(0.996264)\" xlink:href=\"#CMR17-53\"/>\r\n       <use transform=\"translate(301.24004 0)scale(0.996264)\" xlink:href=\"#CMR17-48\"/>\r\n      </g>\r\n     </g>\r\n    </g>\r\n    <g id=\"ytick_8\">\r\n     <g id=\"line2d_19\">\r\n      <g>\r\n       <use style=\"stroke:#000000;stroke-width:0.8;\" x=\"51.836755\" xlink:href=\"#mecd119eb5e\" y=\"33.90802\"/>\r\n      </g>\r\n     </g>\r\n     <g id=\"text_10\">\r\n      <!-- $\\mathdefault{1.602075}$ -->\r\n      <g transform=\"translate(7.2 37.367269)scale(0.1 -0.1)\">\r\n       <use transform=\"scale(0.996264)\" xlink:href=\"#CMR17-49\"/>\r\n       <use transform=\"translate(45.690477 0)scale(0.996264)\" xlink:href=\"#CMMI12-58\"/>\r\n       <use transform=\"translate(72.787654 0)scale(0.996264)\" xlink:href=\"#CMR17-54\"/>\r\n       <use transform=\"translate(118.478131 0)scale(0.996264)\" xlink:href=\"#CMR17-48\"/>\r\n       <use transform=\"translate(164.168608 0)scale(0.996264)\" xlink:href=\"#CMR17-50\"/>\r\n       <use transform=\"translate(209.859086 0)scale(0.996264)\" xlink:href=\"#CMR17-48\"/>\r\n       <use transform=\"translate(255.549563 0)scale(0.996264)\" xlink:href=\"#CMR17-55\"/>\r\n       <use transform=\"translate(301.24004 0)scale(0.996264)\" xlink:href=\"#CMR17-53\"/>\r\n      </g>\r\n     </g>\r\n    </g>\r\n    <g id=\"text_11\">\r\n     <!-- $\\times\\mathdefault{10^{−19}}\\mathdefault{}$ -->\r\n     <g transform=\"translate(51.836755 14.202655)scale(0.1 -0.1)\">\r\n      <defs>\r\n       <path d=\"M 38.90625 27.890625 \r\nL 18.90625 47.796875 \r\nC 17.703125 49 17.5 49.1875 16.703125 49.1875 \r\nC 15.703125 49.1875 14.703125 48.296875 14.703125 47.1875 \r\nC 14.703125 46.5 14.90625 46.296875 16 45.1875 \r\nL 36 25.09375 \r\nL 16 5 \r\nC 14.90625 3.890625 14.703125 3.6875 14.703125 3 \r\nC 14.703125 1.890625 15.703125 1 16.703125 1 \r\nC 17.5 1 17.703125 1.1875 18.90625 2.390625 \r\nL 38.796875 22.296875 \r\nL 59.5 1.59375 \r\nC 59.703125 1.5 60.40625 1 61 1 \r\nC 62.203125 1 63 1.890625 63 3 \r\nC 63 3.1875 63 3.59375 62.703125 4.09375 \r\nC 62.59375 4.296875 46.703125 20 41.703125 25.09375 \r\nL 60 43.390625 \r\nC 60.5 44 62 45.296875 62.5 45.890625 \r\nC 62.59375 46.09375 63 46.5 63 47.1875 \r\nC 63 48.296875 62.203125 49.1875 61 49.1875 \r\nC 60.203125 49.1875 59.796875 48.796875 58.703125 47.6875 \r\nz\r\n\" id=\"CMSY10-2\"/>\r\n       <path d=\"M 65.90625 23 \r\nC 67.59375 23 69.40625 23 69.40625 25 \r\nC 69.40625 27 67.59375 27 65.90625 27 \r\nL 11.796875 27 \r\nC 10.09375 27 8.296875 27 8.296875 25 \r\nC 8.296875 23 10.09375 23 11.796875 23 \r\nz\r\n\" id=\"CMSY10-0\"/>\r\n      </defs>\r\n      <use transform=\"scale(0.996264)\" xlink:href=\"#CMSY10-2\"/>\r\n      <use transform=\"translate(77.487468 0)scale(0.996264)\" xlink:href=\"#CMR17-49\"/>\r\n      <use transform=\"translate(123.177945 0)scale(0.996264)\" xlink:href=\"#CMR17-48\"/>\r\n      <use transform=\"translate(168.868422 36.153639)scale(0.697382)\" xlink:href=\"#CMSY10-0\"/>\r\n      <use transform=\"translate(223.109415 36.153639)scale(0.697382)\" xlink:href=\"#CMR17-49\"/>\r\n      <use transform=\"translate(255.092597 36.153639)scale(0.697382)\" xlink:href=\"#CMR17-57\"/>\r\n     </g>\r\n    </g>\r\n   </g>\r\n   <g id=\"line2d_20\">\r\n    <path clip-path=\"url(#p20fbd6bc50)\" d=\"M 67.054937 224.759019 \r\nL 78.556401 194.267405 \r\nL 89.136722 169.732516 \r\nL 98.932569 149.685888 \r\nL 108.052285 133.092477 \r\nL 116.583209 119.204071 \r\nL 124.596781 107.467873 \r\nL 132.152177 97.467624 \r\nL 139.298969 88.88458 \r\nL 146.079093 81.471017 \r\nL 152.528345 75.03184 \r\nL 158.677521 69.411558 \r\nL 164.553308 64.484902 \r\nL 170.178985 60.149964 \r\nL 175.574977 56.323097 \r\nL 180.759306 52.93508 \r\nL 185.747953 49.928202 \r\nL 190.555153 47.254011 \r\nL 195.193645 44.871572 \r\nL 199.674869 42.746093 \r\nL 204.009141 40.847839 \r\nL 208.205793 39.151269 \r\nL 212.273297 37.634337 \r\nL 216.219365 36.277929 \r\nL 220.051037 35.065401 \r\nL 223.774761 33.982207 \r\nL 227.396452 33.015581 \r\nL 230.921553 32.154285 \r\nL 234.355082 31.388389 \r\nL 237.701677 30.709096 \r\nL 240.965632 30.108583 \r\nL 244.150929 29.579879 \r\nL 247.261272 29.116755 \r\nL 250.300105 28.713626 \r\nL 253.270645 28.365479 \r\nL 256.175893 28.067798 \r\nL 259.018657 27.816511 \r\nL 261.801569 27.607934 \r\nL 264.527098 27.438729 \r\nL 267.197561 27.305869 \r\nL 269.815141 27.206597 \r\nL 272.38189 27.138405 \r\nL 274.899746 27.099001 \r\nL 277.370537 27.086292 \r\nL 279.795989 27.098361 \r\nL 282.177737 27.133452 \r\nL 284.517329 27.18995 \r\nL 286.816229 27.266373 \r\nL 289.07583 27.361353 \r\nL 291.297453 27.473632 \r\nL 293.482353 27.602048 \r\nL 295.631725 27.745526 \r\nL 297.746705 27.903073 \r\nL 299.828377 28.073768 \r\nL 301.877774 28.256758 \r\nL 303.895881 28.451252 \r\nL 305.88364 28.656512 \r\nL 307.841949 28.871856 \r\nL 309.771668 29.096645 \r\nL 311.673621 29.330287 \r\nL 313.548595 29.572228 \r\nL 315.397345 29.821951 \r\nL 317.220594 30.078975 \r\nL 319.019036 30.342848 \r\nL 320.793337 30.613148 \r\nL 322.544137 30.88948 \r\nL 324.27205 31.171476 \r\nL 325.977666 31.458787 \r\nL 327.661554 31.751088 \r\nL 329.324261 32.048074 \r\nL 330.966313 32.349458 \r\nL 332.588216 32.654971 \r\nL 334.190459 32.964358 \r\nL 335.773513 33.277382 \r\nL 337.337833 33.593817 \r\nL 338.883856 33.913452 \r\nL 340.412005 34.236088 \r\nL 341.922689 34.561536 \r\nL 343.416304 34.889619 \r\nL 344.893229 35.22017 \r\nL 346.353834 35.553031 \r\nL 347.798477 35.888051 \r\nL 349.227501 36.22509 \r\nL 350.641241 36.564015 \r\nL 352.040021 36.904699 \r\nL 353.424153 37.247023 \r\nL 354.793942 37.590874 \r\nL 356.149682 37.936144 \r\nL 357.491657 38.282732 \r\nL 358.820145 38.630543 \r\nL 360.135414 38.979484 \r\nL 361.437725 39.32947 \r\nL 362.72733 39.680419 \r\nL 364.004474 40.032253 \r\nL 365.269397 40.384899 \r\nL 366.52233 40.738286 \r\nL 367.763499 41.092348 \r\nL 368.993121 41.447021 \r\nL 370.21141 41.802247 \r\nL 371.418573 42.157968 \r\n\" style=\"fill:none;stroke:#1f77b4;stroke-linecap:square;stroke-width:1.5;\"/>\r\n   </g>\r\n   <g id=\"patch_3\">\r\n    <path d=\"M 51.836755 234.642655 \r\nL 51.836755 17.202655 \r\n\" style=\"fill:none;stroke:#000000;stroke-linecap:square;stroke-linejoin:miter;stroke-width:0.8;\"/>\r\n   </g>\r\n   <g id=\"patch_4\">\r\n    <path d=\"M 386.636755 234.642655 \r\nL 386.636755 17.202655 \r\n\" style=\"fill:none;stroke:#000000;stroke-linecap:square;stroke-linejoin:miter;stroke-width:0.8;\"/>\r\n   </g>\r\n   <g id=\"patch_5\">\r\n    <path d=\"M 51.836755 234.642655 \r\nL 386.636755 234.642655 \r\n\" style=\"fill:none;stroke:#000000;stroke-linecap:square;stroke-linejoin:miter;stroke-width:0.8;\"/>\r\n   </g>\r\n   <g id=\"patch_6\">\r\n    <path d=\"M 51.836755 17.202655 \r\nL 386.636755 17.202655 \r\n\" style=\"fill:none;stroke:#000000;stroke-linecap:square;stroke-linejoin:miter;stroke-width:0.8;\"/>\r\n   </g>\r\n  </g>\r\n </g>\r\n <defs>\r\n  <clipPath id=\"p20fbd6bc50\">\r\n   <rect height=\"217.44\" width=\"334.8\" x=\"51.836755\" y=\"17.202655\"/>\r\n  </clipPath>\r\n </defs>\r\n</svg>\r\n",
      "image/png": "[encoded data removed]"
     },
     "metadata": {
      "needs_background": "light"
     }
    }
   ],
   "source": [
    "E=3e3\n",
    "V = 1e-13\n",
    "theta24 = 0.1\n",
    "theta34 = 0.05\n",
    "U = [func(En,V,0.04,0.04,1,1,1,1,1)**2 for En in np.linspace(1e3,1e4,100)]\n",
    "#U1 = [func(En,V,0.04,0.02,1,1,1,1,1) for En in np.linspace(1e3,1e4,100)]\n",
    "plt.plot(np.linspace(1e3,1e4,100),U)\n",
    "#plt.plot(np.linspace(1e3,1e4,100),U1)\n",
    "plt.xscale('log')"
   ]
  },
  {
   "cell_type": "code",
   "execution_count": 150,
   "metadata": {},
   "outputs": [
    {
     "output_type": "execute_result",
     "data": {
      "text/plain": [
       "6.59846198621752e-11"
      ],
      "text/latex": "$\\displaystyle 6.59846198621752 \\cdot 10^{-11}$"
     },
     "metadata": {},
     "execution_count": 150
    }
   ],
   "source": [
    "UM_list[0].subs({th_24:0.1, th_34:0.02})"
   ]
  },
  {
   "cell_type": "code",
   "execution_count": null,
   "metadata": {},
   "outputs": [],
   "source": []
  }
 ]
}