{
 "metadata": {
  "language_info": {
   "codemirror_mode": {
    "name": "ipython",
    "version": 3
   },
   "file_extension": ".py",
   "mimetype": "text/x-python",
   "name": "python",
   "nbconvert_exporter": "python",
   "pygments_lexer": "ipython3",
   "version": "3.9.0-final"
  },
  "orig_nbformat": 2,
  "kernelspec": {
   "name": "python3",
   "display_name": "Python 3.9.0 64-bit",
   "metadata": {
    "interpreter": {
     "hash": "ac59ebe37160ed0dfa835113d9b8498d9f09ceb179beaac4002f036b9467c963"
    }
   }
  }
 },
 "nbformat": 4,
 "nbformat_minor": 2,
 "cells": [
  {
   "cell_type": "code",
   "execution_count": 5,
   "metadata": {},
   "outputs": [],
   "source": [
    "import pandas as pd\n",
    "import pickle\n",
    "  \n"
   ]
  },
  {
   "cell_type": "code",
   "execution_count": 23,
   "metadata": {
    "tags": []
   },
   "outputs": [],
   "source": [
    "E_range = range(3,13)\n",
    "z_range = range(0,20)\n",
    "def merge_precomputed_df(npoints=13):\n",
    "    df = pd.DataFrame(dtype='object')\n",
    "    for flavor in ['Pmm']:\n",
    "        for En in E_range:\n",
    "            for zn in z_range:\n",
    "                new_df = pickle.load(open(f'./pre_computed/4gen/{flavor}/{npoints}/E{En}z{zn}.p','rb'))\n",
    "                #df.insert(loc=0,column=file, value=[array])\n",
    "                df = pd.concat([df,new_df])\n",
    "    return df\n",
    "df = merge_precomputed_df(13)"
   ]
  },
  {
   "cell_type": "code",
   "execution_count": 29,
   "metadata": {
    "tags": []
   },
   "outputs": [],
   "source": [
    "df1 = df.iloc[:,0]"
   ]
  },
  {
   "cell_type": "code",
   "execution_count": 31,
   "metadata": {},
   "outputs": [
    {
     "output_type": "execute_result",
     "data": {
      "text/plain": [
       "       5168553be551118dae6411212edf1026caf4d9a538d71a77ed51e3f141219e72\n",
       "E3z0    [[0.9826373839335284, 0.9959788474397011, 0.98...              \n",
       "E3z1    [[0.9876078256147643, 0.9912891275607715, 0.98...              \n",
       "E3z2    [[0.9927236623193815, 0.9797031139168999, 0.98...              \n",
       "E3z3    [[0.9813125020784572, 0.9738337803743351, 0.99...              \n",
       "E3z4    [[0.9714583280478909, 0.9897887814740923, 0.98...              \n",
       "...                                                   ...              \n",
       "E12z15  [[0.9973072423178349, 0.9980427041266534, 0.99...              \n",
       "E12z16  [[0.9972246742243192, 0.9979602160688478, 0.99...              \n",
       "E12z17  [[0.9970841716884157, 0.9978614943256847, 0.99...              \n",
       "E12z18  [[0.9969880383800328, 0.9978059701364076, 0.99...              \n",
       "E12z19  [[0.9969572433354934, 0.9977756346559394, 0.99...              \n",
       "\n",
       "[200 rows x 1 columns]"
      ],
      "text/html": "<div>\n<style scoped>\n    .dataframe tbody tr th:only-of-type {\n        vertical-align: middle;\n    }\n\n    .dataframe tbody tr th {\n        vertical-align: top;\n    }\n\n    .dataframe thead th {\n        text-align: right;\n    }\n</style>\n<table border=\"1\" class=\"dataframe\">\n  <thead>\n    <tr style=\"text-align: right;\">\n      <th></th>\n      <th>5168553be551118dae6411212edf1026caf4d9a538d71a77ed51e3f141219e72</th>\n    </tr>\n  </thead>\n  <tbody>\n    <tr>\n      <th>E3z0</th>\n      <td>[[0.9826373839335284, 0.9959788474397011, 0.98...</td>\n    </tr>\n    <tr>\n      <th>E3z1</th>\n      <td>[[0.9876078256147643, 0.9912891275607715, 0.98...</td>\n    </tr>\n    <tr>\n      <th>E3z2</th>\n      <td>[[0.9927236623193815, 0.9797031139168999, 0.98...</td>\n    </tr>\n    <tr>\n      <th>E3z3</th>\n      <td>[[0.9813125020784572, 0.9738337803743351, 0.99...</td>\n    </tr>\n    <tr>\n      <th>E3z4</th>\n      <td>[[0.9714583280478909, 0.9897887814740923, 0.98...</td>\n    </tr>\n    <tr>\n      <th>...</th>\n      <td>...</td>\n    </tr>\n    <tr>\n      <th>E12z15</th>\n      <td>[[0.9973072423178349, 0.9980427041266534, 0.99...</td>\n    </tr>\n    <tr>\n      <th>E12z16</th>\n      <td>[[0.9972246742243192, 0.9979602160688478, 0.99...</td>\n    </tr>\n    <tr>\n      <th>E12z17</th>\n      <td>[[0.9970841716884157, 0.9978614943256847, 0.99...</td>\n    </tr>\n    <tr>\n      <th>E12z18</th>\n      <td>[[0.9969880383800328, 0.9978059701364076, 0.99...</td>\n    </tr>\n    <tr>\n      <th>E12z19</th>\n      <td>[[0.9969572433354934, 0.9977756346559394, 0.99...</td>\n    </tr>\n  </tbody>\n</table>\n<p>200 rows × 1 columns</p>\n</div>"
     },
     "metadata": {},
     "execution_count": 31
    }
   ],
   "source": [
    "pd.DataFrame(df1)"
   ]
  },
  {
   "cell_type": "code",
   "execution_count": 33,
   "metadata": {},
   "outputs": [],
   "source": [
    "df2 = pickle.load(open(f'../E3z7.p','rb'))"
   ]
  },
  {
   "cell_type": "code",
   "execution_count": 34,
   "metadata": {},
   "outputs": [
    {
     "output_type": "execute_result",
     "data": {
      "text/plain": [
       "     f76155b0b66d093a0af35194da3a8ba55813bcc13112b78ed73ff8e5567c2fbe  \\\n",
       "E3z7  [[0.8440303902042929, 0.7409515562663908, 0.79...                 \n",
       "\n",
       "     021d53b5ecc022d815897676848f52970a4368f20a216ce3a5447561660fd3bf  \\\n",
       "E3z7  [[0.8471467218847052, 0.8724901169005902, 0.79...                 \n",
       "\n",
       "     19695c25735b7bfb8ce33380c770fd75464d1d07ff8560da8d566b52e8979ba8  \\\n",
       "E3z7  [[0.996359819712366, 0.9878012618473488, 0.989...                 \n",
       "\n",
       "     a923cedb97d889420cb575a0e322862444c0f027881036a719822437f8e0a0db  \\\n",
       "E3z7  [[0.9967454811063037, 0.9972598087699175, 0.98...                 \n",
       "\n",
       "     6e0e0aec4ce8ba7efceff2de36c772c99ec29c98c0e1c0e3da52546b1fd03527  \\\n",
       "E3z7  [[0.998022994364952, 0.9941734077089569, 0.996...                 \n",
       "\n",
       "     0b830f4919c3e751b4b91dd90b70392fba99328e839601003d05b2b4c7bd1823  \\\n",
       "E3z7  [[0.9799294887564699, 0.963620557351631, 0.945...                 \n",
       "\n",
       "     bf6b00b9369dc11762824043ee3e99804cd6f9426f704bdae817fe96fdc51b49  \\\n",
       "E3z7  [[0.9674198357220278, 0.9428383485905422, 0.91...                 \n",
       "\n",
       "     03395ecf12e5972f86c490f01be539b94a6edf844af7c08a27406a2d83b2e18d  \\\n",
       "E3z7  [[0.998550283289419, 0.9751017792253298, 0.971...                 \n",
       "\n",
       "     0a141316c6f3bf89016a68ab72bf23ec638a287118a6dbc3dc15165475a5ca53  \\\n",
       "E3z7  [[0.7457669975496045, 0.6420877122695704, 0.60...                 \n",
       "\n",
       "     7d49b9d07305561fce42c1b3cfa605c42072339783963cb61c4c3f841445b126  ...  \\\n",
       "E3z7  [[0.9687689762382312, 0.9961428443024781, 0.97...                ...   \n",
       "\n",
       "     dee62d596742dae223f40d409afb4e529eabcffac5f8d6c5b2622249f8cdeed4  \\\n",
       "E3z7  [[0.9551994647396835, 0.9238344284714614, 0.90...                 \n",
       "\n",
       "     8701a499d2cff24ac591325abde11ec4ca8f63095ac74810532d475fc3355d26  \\\n",
       "E3z7  [[0.9530679578671978, 0.9508235421063205, 0.95...                 \n",
       "\n",
       "     1d64a83f7792a5f9ed962112219bda4610403328d18435d9192ed858bb41c696  \\\n",
       "E3z7  [[0.9753341873774802, 0.9695540152901418, 0.98...                 \n",
       "\n",
       "     9d01be379880b5765ecc6cbc949d0a86cb5bb699b444f1f012eaf1ddb06bea75  \\\n",
       "E3z7  [[0.9931896016039875, 0.9791528057650616, 0.98...                 \n",
       "\n",
       "     1a82fd3edfb859ca67daf67466cf161deb4341eddb8748f9ce388c31da9b6bc5  \\\n",
       "E3z7  [[0.7191539635926517, 0.6616580564618815, 0.72...                 \n",
       "\n",
       "     01b484e52e480947be2cf9402bc3666ca37e265b91b082bba5d65b2eb2da0f63  \\\n",
       "E3z7  [[0.9101591178015592, 0.9158269900547902, 0.93...                 \n",
       "\n",
       "     8ed2b4faf0e8fbef243b813f414be7f8e10d0aad381ac65c84eac2a901a722fd  \\\n",
       "E3z7  [[0.8904117204945565, 0.9056242629433859, 0.89...                 \n",
       "\n",
       "     11cc0a055363f9740e6272e82ce6cd758ac117a2c572dd5d89d857d7be51d96d  \\\n",
       "E3z7  [[0.9756521760404019, 0.9907541280109993, 0.98...                 \n",
       "\n",
       "     c71eac490011f0a61b99e08879bab4fb31b76ec605588986bdc516abcbd13be1  \\\n",
       "E3z7  [[0.9996286072894718, 0.9473470381785203, 0.93...                 \n",
       "\n",
       "     decdb9c3b9d140b9152772a59d6d67b7f8a03ea40f35ea271a6f7c6e218740b5  \n",
       "E3z7  [[0.9980082132123684, 0.9832965267286055, 0.98...                \n",
       "\n",
       "[1 rows x 600 columns]"
      ],
      "text/html": "<div>\n<style scoped>\n    .dataframe tbody tr th:only-of-type {\n        vertical-align: middle;\n    }\n\n    .dataframe tbody tr th {\n        vertical-align: top;\n    }\n\n    .dataframe thead th {\n        text-align: right;\n    }\n</style>\n<table border=\"1\" class=\"dataframe\">\n  <thead>\n    <tr style=\"text-align: right;\">\n      <th></th>\n      <th>f76155b0b66d093a0af35194da3a8ba55813bcc13112b78ed73ff8e5567c2fbe</th>\n      <th>021d53b5ecc022d815897676848f52970a4368f20a216ce3a5447561660fd3bf</th>\n      <th>19695c25735b7bfb8ce33380c770fd75464d1d07ff8560da8d566b52e8979ba8</th>\n      <th>a923cedb97d889420cb575a0e322862444c0f027881036a719822437f8e0a0db</th>\n      <th>6e0e0aec4ce8ba7efceff2de36c772c99ec29c98c0e1c0e3da52546b1fd03527</th>\n      <th>0b830f4919c3e751b4b91dd90b70392fba99328e839601003d05b2b4c7bd1823</th>\n      <th>bf6b00b9369dc11762824043ee3e99804cd6f9426f704bdae817fe96fdc51b49</th>\n      <th>03395ecf12e5972f86c490f01be539b94a6edf844af7c08a27406a2d83b2e18d</th>\n      <th>0a141316c6f3bf89016a68ab72bf23ec638a287118a6dbc3dc15165475a5ca53</th>\n      <th>7d49b9d07305561fce42c1b3cfa605c42072339783963cb61c4c3f841445b126</th>\n      <th>...</th>\n      <th>dee62d596742dae223f40d409afb4e529eabcffac5f8d6c5b2622249f8cdeed4</th>\n      <th>8701a499d2cff24ac591325abde11ec4ca8f63095ac74810532d475fc3355d26</th>\n      <th>1d64a83f7792a5f9ed962112219bda4610403328d18435d9192ed858bb41c696</th>\n      <th>9d01be379880b5765ecc6cbc949d0a86cb5bb699b444f1f012eaf1ddb06bea75</th>\n      <th>1a82fd3edfb859ca67daf67466cf161deb4341eddb8748f9ce388c31da9b6bc5</th>\n      <th>01b484e52e480947be2cf9402bc3666ca37e265b91b082bba5d65b2eb2da0f63</th>\n      <th>8ed2b4faf0e8fbef243b813f414be7f8e10d0aad381ac65c84eac2a901a722fd</th>\n      <th>11cc0a055363f9740e6272e82ce6cd758ac117a2c572dd5d89d857d7be51d96d</th>\n      <th>c71eac490011f0a61b99e08879bab4fb31b76ec605588986bdc516abcbd13be1</th>\n      <th>decdb9c3b9d140b9152772a59d6d67b7f8a03ea40f35ea271a6f7c6e218740b5</th>\n    </tr>\n  </thead>\n  <tbody>\n    <tr>\n      <th>E3z7</th>\n      <td>[[0.8440303902042929, 0.7409515562663908, 0.79...</td>\n      <td>[[0.8471467218847052, 0.8724901169005902, 0.79...</td>\n      <td>[[0.996359819712366, 0.9878012618473488, 0.989...</td>\n      <td>[[0.9967454811063037, 0.9972598087699175, 0.98...</td>\n      <td>[[0.998022994364952, 0.9941734077089569, 0.996...</td>\n      <td>[[0.9799294887564699, 0.963620557351631, 0.945...</td>\n      <td>[[0.9674198357220278, 0.9428383485905422, 0.91...</td>\n      <td>[[0.998550283289419, 0.9751017792253298, 0.971...</td>\n      <td>[[0.7457669975496045, 0.6420877122695704, 0.60...</td>\n      <td>[[0.9687689762382312, 0.9961428443024781, 0.97...</td>\n      <td>...</td>\n      <td>[[0.9551994647396835, 0.9238344284714614, 0.90...</td>\n      <td>[[0.9530679578671978, 0.9508235421063205, 0.95...</td>\n      <td>[[0.9753341873774802, 0.9695540152901418, 0.98...</td>\n      <td>[[0.9931896016039875, 0.9791528057650616, 0.98...</td>\n      <td>[[0.7191539635926517, 0.6616580564618815, 0.72...</td>\n      <td>[[0.9101591178015592, 0.9158269900547902, 0.93...</td>\n      <td>[[0.8904117204945565, 0.9056242629433859, 0.89...</td>\n      <td>[[0.9756521760404019, 0.9907541280109993, 0.98...</td>\n      <td>[[0.9996286072894718, 0.9473470381785203, 0.93...</td>\n      <td>[[0.9980082132123684, 0.9832965267286055, 0.98...</td>\n    </tr>\n  </tbody>\n</table>\n<p>1 rows × 600 columns</p>\n</div>"
     },
     "metadata": {},
     "execution_count": 34
    }
   ],
   "source": [
    "df2"
   ]
  }
 ]
}