{
 "metadata": {
  "language_info": {
   "codemirror_mode": {
    "name": "ipython",
    "version": 3
   },
   "file_extension": ".py",
   "mimetype": "text/x-python",
   "name": "python",
   "nbconvert_exporter": "python",
   "pygments_lexer": "ipython3",
   "version": "3.9.0-final"
  },
  "orig_nbformat": 2,
  "kernelspec": {
   "name": "python3",
   "display_name": "Python 3.9.0 64-bit",
   "metadata": {
    "interpreter": {
     "hash": "ac59ebe37160ed0dfa835113d9b8498d9f09ceb179beaac4002f036b9467c963"
    }
   }
  }
 },
 "nbformat": 4,
 "nbformat_minor": 2,
 "cells": [
  {
   "cell_type": "code",
   "execution_count": 23,
   "metadata": {},
   "outputs": [],
   "source": [
    "import numpy as np\n",
    "import matplotlib.pyplot as plt\n",
    "from scipy.integrate import *\n",
    "from dataProcesser import *\n",
    "from dataImporter import *\n",
    "from events import integrate\n",
    "res = get_IC_data()\n",
    "Ereco = 500*10**(np.linspace(0.0,1.3,14))\n",
    "model = train_energy_resolution()\n",
    "ztrue = np.linspace(-1,0,100)\n",
    "interp_flux = interpolate_flux()\n",
    "aeff_list = interpolate_aeff()"
   ]
  },
  {
   "cell_type": "code",
   "execution_count": 41,
   "metadata": {},
   "outputs": [
    {
     "output_type": "display_data",
     "data": {
      "text/plain": "Canvas(toolbar=Toolbar(toolitems=[('Home', 'Reset original view', 'home', 'home'), ('Back', 'Back to previous …",
      "application/vnd.jupyter.widget-view+json": {
       "version_major": 2,
       "version_minor": 0,
       "model_id": "85db689034574c15b259c3a07af9edd9"
      }
     },
     "metadata": {}
    },
    {
     "output_type": "execute_result",
     "data": {
      "text/plain": [
       "Text(0.5, 0, '$E_\\\\nu^2\\\\, \\\\phi \\\\, [GeV\\\\,m^{-2}\\\\, sec^{-1}\\\\, sr^{-1}]$')"
      ]
     },
     "metadata": {},
     "execution_count": 41
    }
   ],
   "source": [
    "%matplotlib widget\n",
    "flavor = 'm'\n",
    "Etrue,_,_ = get_Etrue(E_index=0,npoints=25, left_alpha=0.95, right_alpha=0.99, model=model)\n",
    "X,Y = np.meshgrid(Etrue,ztrue)\n",
    "flux = get_flux(flavor,X,Y,interp_flux)\n",
    "\n",
    "\n",
    "fig = plt.figure()\n",
    "ax = fig.add_subplot(111, projection='3d')\n",
    "ax.plot_surface(np.log10(X), Y, flux , cmap = 'winter')\n",
    "\n",
    "#ax.scatter(np.log10(flux_df.GeV),(flux_df.z_min + flux_df.z_max)/2, flux_df.GeV**2*flux_df.m_flux,c='r',s=4)\n",
    "ax.set_title(r'Interpolated average South Pole atmospheric $\\nu_\\mu$ flux with Honda data points')\n",
    "ax.set_xlabel(r'$\\log{}E_\\nu \\,[GeV]$')\n",
    "ax.set_ylabel(r'$\\cos{(\\theta_z)}$')\n",
    "ax.set_zlabel(r'$E_\\nu^2\\, \\phi \\, [GeV\\,m^{-2}\\, sec^{-1}\\, sr^{-1}]$')"
   ]
  },
  {
   "cell_type": "code",
   "execution_count": 48,
   "metadata": {},
   "outputs": [
    {
     "output_type": "display_data",
     "data": {
      "text/plain": "Canvas(toolbar=Toolbar(toolitems=[('Home', 'Reset original view', 'home', 'home'), ('Back', 'Back to previous …",
      "application/vnd.jupyter.widget-view+json": {
       "version_major": 2,
       "version_minor": 0,
       "model_id": "7730ef7640f8491bb039826a45d7ee4d"
      }
     },
     "metadata": {}
    },
    {
     "output_type": "execute_result",
     "data": {
      "text/plain": [
       "Text(0.5, 0, '$A [m^2]$')"
      ]
     },
     "metadata": {},
     "execution_count": 48
    }
   ],
   "source": [
    "%matplotlib widget\n",
    "from dataProcesser import get_aeff, interpolate_aeff, get_Etrue\n",
    "\n",
    "\n",
    "Etrue,_,_ = get_Etrue(E_index=0,npoints=25, left_alpha=0.95, right_alpha=0.99, model=model)\n",
    "\n",
    "E_mesh, z_mesh = np.meshgrid(Etrue, ztrue)\n",
    "\n",
    "aeff_num = get_aeff(False, E_mesh, z_mesh, aeff_list)\n",
    "aeff_nuam = get_aeff(True, E_mesh, z_mesh, aeff_list)\n",
    "fig = plt.figure()\n",
    "ax = fig.add_subplot(111, projection='3d')\n",
    "ax.plot_surface(np.log10(E_mesh), z_mesh, np.log10(aeff_num) , cmap = 'winter')\n",
    "ax.set_title(r'Interpolated effective area [$m^2$]')\n",
    "ax.set_xlabel(r'$\\log{}E_\\nu \\,[GeV]$')\n",
    "ax.set_ylabel(r'$\\cos{(\\theta_z)}$')\n",
    "ax.set_zlabel(r'$A [m^2]$')\n",
    "#plt.legend()"
   ]
  },
  {
   "cell_type": "code",
   "execution_count": 43,
   "metadata": {},
   "outputs": [
    {
     "output_type": "display_data",
     "data": {
      "text/plain": "Canvas(toolbar=Toolbar(toolitems=[('Home', 'Reset original view', 'home', 'home'), ('Back', 'Back to previous …",
      "application/vnd.jupyter.widget-view+json": {
       "version_major": 2,
       "version_minor": 0,
       "model_id": "2f82dd16a8e4460cb5418faf0a829cca"
      }
     },
     "metadata": {}
    },
    {
     "output_type": "execute_result",
     "data": {
      "text/plain": [
       "<mpl_toolkits.mplot3d.art3d.Poly3DCollection at 0x1c0989c28e0>"
      ]
     },
     "metadata": {},
     "execution_count": 43
    }
   ],
   "source": [
    "fig = plt.figure()\n",
    "ax = fig.add_subplot(111, projection='3d')\n",
    "ax.plot_surface(np.log10(E_mesh), z_mesh, aeff_num*flux , cmap = 'winter')"
   ]
  },
  {
   "cell_type": "code",
   "execution_count": 40,
   "metadata": {},
   "outputs": [
    {
     "output_type": "display_data",
     "data": {
      "text/plain": "Canvas(toolbar=Toolbar(toolitems=[('Home', 'Reset original view', 'home', 'home'), ('Back', 'Back to previous …",
      "application/vnd.jupyter.widget-view+json": {
       "version_major": 2,
       "version_minor": 0,
       "model_id": "d7c8c1f736ad4b1384e86fed0b0993fd"
      }
     },
     "metadata": {}
    }
   ],
   "source": [
    "%matplotlib widget\n",
    "Etrue,mu_base_e,std_base_e = get_Etrue(E_index=0,npoints=25, left_alpha=0.95, right_alpha=0.99, model=model)\n",
    "\n",
    "res_num = lognorm.pdf(Etrue, s = std_base_e, scale=np.exp(mu_base_e))\n",
    "\n",
    "auc = integrate(res_num,'simps',Etrue)\n",
    "\n",
    "fig = plt.figure()\n",
    "plt.plot(Etrue,res_num)\n",
    "plt.axvline(Ereco[0])\n",
    "plt.axvline(Ereco[1])\n",
    "plt.title(f'AUC: {np.round(auc,3)}')\n",
    "plt.xscale('log')"
   ]
  },
  {
   "cell_type": "code",
   "execution_count": 13,
   "metadata": {},
   "outputs": [
    {
     "output_type": "display_data",
     "data": {
      "text/plain": "Canvas(toolbar=Toolbar(toolitems=[('Home', 'Reset original view', 'home', 'home'), ('Back', 'Back to previous …",
      "application/vnd.jupyter.widget-view+json": {
       "version_major": 2,
       "version_minor": 0,
       "model_id": "011fe4b9f138408faa4504312af60293"
      }
     },
     "metadata": {}
    },
    {
     "output_type": "execute_result",
     "data": {
      "text/plain": [
       "(201.19719999999995, 921243.9999999999)"
      ]
     },
     "metadata": {},
     "execution_count": 13
    }
   ],
   "source": [
    "filename = '~/NuFSGenMC_nominal.dat'\n",
    "df = pd.read_csv(filename, delimiter=' ', names= ['pdg', 'Ereco', 'zreco', 'Etrue', 'ztrue', 'mcweight', 'flux_pion', 'flux_kaon'], skiprows=12)\n",
    "df['Ebin'] = pd.cut(df.Ereco, bins=500*10**np.linspace(0.0,1.3,14), labels=False).dropna()\n",
    "num_mask = (df[\"pdg\"] == 13)\n",
    "nuam_mask = (df[\"pdg\"] == -13)\n",
    "pre_model = train_energy_resolution()\n",
    "small_df = df[num_mask].query('Ereco >500').query('Ereco <9976').head(10000)\n",
    "X_test = np.array(np.log(small_df.Ereco)).reshape(-1,1)\n",
    "y_test = np.log(small_df.Etrue)\n",
    "\n",
    "df_bin0 = small_df.query('Ebin==0.')[['Ereco','Etrue']]\n",
    "Ereco = np.array(df_bin0.Ereco)\n",
    "mu_base_e, std_base_e = pre_model.predict(X_test, return_std=True)\n",
    "\n",
    "\n",
    "Etrue_rvs = lognorm.rvs(s=std_base_e, scale=np.exp(mu_base_e), random_state=0)\n",
    "plt.figure()\n",
    "plt.scatter(np.exp(X_test), np.exp(y_test),s=3, alpha=0.5, c='r', label='IC MC')\n",
    "plt.scatter(np.exp(X_test), Etrue_rvs,s=3, alpha=0.5, c='black', label='My MC')\n",
    "plt.scatter(np.exp(X_test),lognorm.ppf(1-0.999, s=std_base_e, scale= np.exp(mu_base_e)), c='grey', s=2, label='99.9 percentile')\n",
    "plt.scatter(np.exp(X_test),lognorm.ppf(0.999, s=std_base_e, scale= np.exp(mu_base_e)), c='grey', s=2)\n",
    "plt.xscale('log')\n",
    "plt.yscale('log')\n",
    "plt.xlabel('Ereco')\n",
    "plt.ylabel('Etrue')\n",
    "plt.xlim((np.exp(X_test).min(),np.exp(X_test).max()))\n",
    "plt.ylim((np.exp(y_test).min(),np.exp(y_test).max()))"
   ]
  }
 ]
}