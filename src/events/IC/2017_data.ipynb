{
 "cells": [
  {
   "cell_type": "code",
   "execution_count": 10,
   "metadata": {},
   "outputs": [],
   "source": [
    "import numpy as np\n",
    "import pandas as pd\n",
    "import matplotlib.pyplot as plt\n",
    "\n",
    "livetime_norm = 240747841 / (343.7 * 24 * 3600)"
   ]
  },
  {
   "cell_type": "code",
   "execution_count": 2,
   "metadata": {},
   "outputs": [
    {
     "data": {
      "text/html": "<div>\n<style scoped>\n    .dataframe tbody tr th:only-of-type {\n        vertical-align: middle;\n    }\n\n    .dataframe tbody tr th {\n        vertical-align: top;\n    }\n\n    .dataframe thead th {\n        text-align: right;\n    }\n</style>\n<table border=\"1\" class=\"dataframe\">\n  <thead>\n    <tr style=\"text-align: right;\">\n      <th></th>\n      <th>Ereco</th>\n      <th>zreco</th>\n    </tr>\n  </thead>\n  <tbody>\n    <tr>\n      <th>0</th>\n      <td>1017.287</td>\n      <td>-0.743068</td>\n    </tr>\n    <tr>\n      <th>1</th>\n      <td>602.893</td>\n      <td>-0.186067</td>\n    </tr>\n    <tr>\n      <th>2</th>\n      <td>1267.375</td>\n      <td>-0.062074</td>\n    </tr>\n    <tr>\n      <th>3</th>\n      <td>1460.559</td>\n      <td>-0.215410</td>\n    </tr>\n    <tr>\n      <th>4</th>\n      <td>2670.731</td>\n      <td>-0.685457</td>\n    </tr>\n  </tbody>\n</table>\n</div>",
      "text/plain": [
       "      Ereco     zreco\n",
       "0  1017.287 -0.743068\n",
       "1   602.893 -0.186067\n",
       "2  1267.375 -0.062074\n",
       "3  1460.559 -0.215410\n",
       "4  2670.731 -0.685457"
      ]
     },
     "execution_count": 2,
     "metadata": {},
     "output_type": "execute_result"
    }
   ],
   "source": [
    "df = pd.read_csv(\n",
    "    \"C:/Users/marti/Downloads/ICdata/IC86SterileNeutrinoDataRelease/data/observed_events.dat\",\n",
    "    skiprows=12,\n",
    "    header=None,\n",
    "    names=[\"Ereco\", \"zreco\"],\n",
    "    delim_whitespace=\" \",\n",
    ")\n",
    "df.zreco = np.cos(df.zreco)\n",
    "df.head()"
   ]
  },
  {
   "cell_type": "code",
   "execution_count": 14,
   "metadata": {},
   "outputs": [
    {
     "data": {
      "text/html": "<div>\n<style scoped>\n    .dataframe tbody tr th:only-of-type {\n        vertical-align: middle;\n    }\n\n    .dataframe tbody tr th {\n        vertical-align: top;\n    }\n\n    .dataframe thead th {\n        text-align: right;\n    }\n</style>\n<table border=\"1\" class=\"dataframe\">\n  <thead>\n    <tr style=\"text-align: right;\">\n      <th></th>\n      <th>Ereco</th>\n      <th>zreco</th>\n      <th>Ebin</th>\n      <th>zbin</th>\n    </tr>\n  </thead>\n  <tbody>\n    <tr>\n      <th>0</th>\n      <td>1017.287</td>\n      <td>-0.743068</td>\n      <td>3</td>\n      <td>5</td>\n    </tr>\n    <tr>\n      <th>1</th>\n      <td>602.893</td>\n      <td>-0.186067</td>\n      <td>0</td>\n      <td>16</td>\n    </tr>\n    <tr>\n      <th>2</th>\n      <td>1267.375</td>\n      <td>-0.062074</td>\n      <td>4</td>\n      <td>18</td>\n    </tr>\n    <tr>\n      <th>3</th>\n      <td>1460.559</td>\n      <td>-0.215410</td>\n      <td>4</td>\n      <td>15</td>\n    </tr>\n    <tr>\n      <th>4</th>\n      <td>2670.731</td>\n      <td>-0.685457</td>\n      <td>7</td>\n      <td>6</td>\n    </tr>\n  </tbody>\n</table>\n</div>",
      "text/plain": [
       "      Ereco     zreco  Ebin  zbin\n",
       "0  1017.287 -0.743068     3     5\n",
       "1   602.893 -0.186067     0    16\n",
       "2  1267.375 -0.062074     4    18\n",
       "3  1460.559 -0.215410     4    15\n",
       "4  2670.731 -0.685457     7     6"
      ]
     },
     "execution_count": 14,
     "metadata": {},
     "output_type": "execute_result"
    }
   ],
   "source": [
    "E_bins = 500 * 10 ** np.linspace(0.0, 1.3, 14)\n",
    "z_bins = np.linspace(-1, 0, 21)\n",
    "df[\"Ebin\"] = pd.cut(df.Ereco, bins=E_bins, labels=False)\n",
    "df[\"zbin\"] = pd.cut(df.zreco, bins=z_bins, labels=False)\n",
    "df.Ebin = df.Ebin.astype(\"int\")\n",
    "df.zbin = df.zbin.astype(\"int\")\n",
    "df.head()"
   ]
  },
  {
   "cell_type": "code",
   "execution_count": 19,
   "metadata": {},
   "outputs": [],
   "source": [
    "MC_events = (\n",
    "    df.groupby(by=[\"Ebin\", \"zbin\"])\n",
    "    .count()\n",
    "    .reset_index()\n",
    "    .drop(\"zreco\", axis=1)\n",
    "    .rename(columns={\"Ereco\": \"events\"})\n",
    "    .pivot(index=\"Ebin\", columns=\"zbin\", values=\"events\")\n",
    "    .fillna(1)\n",
    "    * livetime_norm\n",
    ")  # Normalize livetime to 2020 run\n",
    "MC_events.to_csv(\"../pre_computed/IC_observed_2017.csv\", header=False, index=False)"
   ]
  },
  {
   "cell_type": "code",
   "execution_count": 20,
   "metadata": {},
   "outputs": [
    {
     "data": {
      "text/html": "<div>\n<style scoped>\n    .dataframe tbody tr th:only-of-type {\n        vertical-align: middle;\n    }\n\n    .dataframe tbody tr th {\n        vertical-align: top;\n    }\n\n    .dataframe thead th {\n        text-align: right;\n    }\n</style>\n<table border=\"1\" class=\"dataframe\">\n  <thead>\n    <tr style=\"text-align: right;\">\n      <th></th>\n      <th>0</th>\n      <th>1</th>\n      <th>2</th>\n      <th>3</th>\n      <th>4</th>\n      <th>5</th>\n      <th>6</th>\n      <th>7</th>\n      <th>8</th>\n      <th>9</th>\n      <th>10</th>\n      <th>11</th>\n      <th>12</th>\n      <th>13</th>\n      <th>14</th>\n      <th>15</th>\n      <th>16</th>\n      <th>17</th>\n      <th>18</th>\n      <th>19</th>\n    </tr>\n  </thead>\n  <tbody>\n    <tr>\n      <th>0</th>\n      <td>729.645042</td>\n      <td>356.715354</td>\n      <td>227.000680</td>\n      <td>316.179518</td>\n      <td>291.858017</td>\n      <td>194.572011</td>\n      <td>202.679178</td>\n      <td>210.786346</td>\n      <td>154.036176</td>\n      <td>210.786346</td>\n      <td>210.786346</td>\n      <td>235.107847</td>\n      <td>413.465524</td>\n      <td>356.715354</td>\n      <td>405.358357</td>\n      <td>437.787025</td>\n      <td>583.716034</td>\n      <td>648.573371</td>\n      <td>478.322861</td>\n      <td>778.288045</td>\n    </tr>\n    <tr>\n      <th>1</th>\n      <td>1086.360396</td>\n      <td>908.002719</td>\n      <td>721.537875</td>\n      <td>624.251870</td>\n      <td>713.430708</td>\n      <td>510.751530</td>\n      <td>826.931048</td>\n      <td>526.965864</td>\n      <td>575.608867</td>\n      <td>559.394532</td>\n      <td>640.466204</td>\n      <td>835.038215</td>\n      <td>851.252549</td>\n      <td>875.574051</td>\n      <td>1135.003399</td>\n      <td>1207.967903</td>\n      <td>1386.325580</td>\n      <td>1451.182917</td>\n      <td>1678.183597</td>\n      <td>2002.470283</td>\n    </tr>\n    <tr>\n      <th>2</th>\n      <td>899.895552</td>\n      <td>1005.288725</td>\n      <td>1070.146062</td>\n      <td>1021.503059</td>\n      <td>1005.288725</td>\n      <td>964.752889</td>\n      <td>1053.931728</td>\n      <td>1126.896232</td>\n      <td>1037.717394</td>\n      <td>1272.825240</td>\n      <td>1313.361076</td>\n      <td>1037.717394</td>\n      <td>1516.040255</td>\n      <td>1864.648441</td>\n      <td>1572.790425</td>\n      <td>1880.862776</td>\n      <td>2197.042294</td>\n      <td>2253.792464</td>\n      <td>2853.722832</td>\n      <td>3210.438186</td>\n    </tr>\n    <tr>\n      <th>3</th>\n      <td>535.073031</td>\n      <td>859.359716</td>\n      <td>932.324221</td>\n      <td>940.431388</td>\n      <td>859.359716</td>\n      <td>948.538555</td>\n      <td>1013.395892</td>\n      <td>1256.610906</td>\n      <td>1053.931728</td>\n      <td>1086.360396</td>\n      <td>1175.539235</td>\n      <td>1248.503739</td>\n      <td>1289.039575</td>\n      <td>1589.004759</td>\n      <td>1994.363116</td>\n      <td>1994.363116</td>\n      <td>2091.649121</td>\n      <td>2683.472322</td>\n      <td>3137.473682</td>\n      <td>3259.081189</td>\n    </tr>\n    <tr>\n      <th>4</th>\n      <td>454.001360</td>\n      <td>502.644362</td>\n      <td>713.430708</td>\n      <td>672.894872</td>\n      <td>664.787705</td>\n      <td>689.109207</td>\n      <td>762.073711</td>\n      <td>794.502379</td>\n      <td>826.931048</td>\n      <td>940.431388</td>\n      <td>1086.360396</td>\n      <td>1224.182238</td>\n      <td>1151.217733</td>\n      <td>1199.860736</td>\n      <td>1443.075750</td>\n      <td>1491.718753</td>\n      <td>1686.290764</td>\n      <td>1945.720113</td>\n      <td>2415.935807</td>\n      <td>2707.793824</td>\n    </tr>\n    <tr>\n      <th>5</th>\n      <td>210.786346</td>\n      <td>381.036855</td>\n      <td>332.393853</td>\n      <td>510.751530</td>\n      <td>494.537195</td>\n      <td>526.965864</td>\n      <td>510.751530</td>\n      <td>656.680538</td>\n      <td>608.037535</td>\n      <td>656.680538</td>\n      <td>664.787705</td>\n      <td>616.144702</td>\n      <td>875.574051</td>\n      <td>729.645042</td>\n      <td>1021.503059</td>\n      <td>1086.360396</td>\n      <td>1507.933087</td>\n      <td>1629.540594</td>\n      <td>1702.505099</td>\n      <td>2034.898951</td>\n    </tr>\n    <tr>\n      <th>6</th>\n      <td>89.178839</td>\n      <td>162.143343</td>\n      <td>267.536516</td>\n      <td>259.429348</td>\n      <td>243.215014</td>\n      <td>324.286685</td>\n      <td>299.965184</td>\n      <td>421.572691</td>\n      <td>445.894193</td>\n      <td>437.787025</td>\n      <td>421.572691</td>\n      <td>526.965864</td>\n      <td>591.823201</td>\n      <td>478.322861</td>\n      <td>705.323541</td>\n      <td>697.216374</td>\n      <td>980.967224</td>\n      <td>1070.146062</td>\n      <td>1175.539235</td>\n      <td>1345.789745</td>\n    </tr>\n    <tr>\n      <th>7</th>\n      <td>105.393173</td>\n      <td>89.178839</td>\n      <td>170.250510</td>\n      <td>113.500340</td>\n      <td>121.607507</td>\n      <td>259.429348</td>\n      <td>235.107847</td>\n      <td>186.464844</td>\n      <td>235.107847</td>\n      <td>218.893513</td>\n      <td>227.000680</td>\n      <td>299.965184</td>\n      <td>364.822521</td>\n      <td>397.251190</td>\n      <td>348.608187</td>\n      <td>510.751530</td>\n      <td>405.358357</td>\n      <td>535.073031</td>\n      <td>502.644362</td>\n      <td>786.395212</td>\n    </tr>\n    <tr>\n      <th>8</th>\n      <td>32.428669</td>\n      <td>24.321501</td>\n      <td>8.107167</td>\n      <td>113.500340</td>\n      <td>129.714674</td>\n      <td>89.178839</td>\n      <td>113.500340</td>\n      <td>137.821841</td>\n      <td>186.464844</td>\n      <td>121.607507</td>\n      <td>186.464844</td>\n      <td>154.036176</td>\n      <td>178.357677</td>\n      <td>210.786346</td>\n      <td>235.107847</td>\n      <td>299.965184</td>\n      <td>372.929688</td>\n      <td>413.465524</td>\n      <td>405.358357</td>\n      <td>494.537195</td>\n    </tr>\n    <tr>\n      <th>9</th>\n      <td>32.428669</td>\n      <td>24.321501</td>\n      <td>8.107167</td>\n      <td>32.428669</td>\n      <td>56.750170</td>\n      <td>81.071671</td>\n      <td>64.857337</td>\n      <td>40.535836</td>\n      <td>121.607507</td>\n      <td>113.500340</td>\n      <td>56.750170</td>\n      <td>81.071671</td>\n      <td>81.071671</td>\n      <td>97.286006</td>\n      <td>154.036176</td>\n      <td>170.250510</td>\n      <td>186.464844</td>\n      <td>251.322181</td>\n      <td>275.643683</td>\n      <td>340.501020</td>\n    </tr>\n    <tr>\n      <th>10</th>\n      <td>16.214334</td>\n      <td>40.535836</td>\n      <td>16.214334</td>\n      <td>32.428669</td>\n      <td>8.107167</td>\n      <td>16.214334</td>\n      <td>40.535836</td>\n      <td>16.214334</td>\n      <td>40.535836</td>\n      <td>72.964504</td>\n      <td>40.535836</td>\n      <td>48.643003</td>\n      <td>72.964504</td>\n      <td>89.178839</td>\n      <td>89.178839</td>\n      <td>137.821841</td>\n      <td>121.607507</td>\n      <td>105.393173</td>\n      <td>194.572011</td>\n      <td>227.000680</td>\n    </tr>\n    <tr>\n      <th>11</th>\n      <td>8.107167</td>\n      <td>32.428669</td>\n      <td>8.107167</td>\n      <td>24.321501</td>\n      <td>24.321501</td>\n      <td>16.214334</td>\n      <td>8.107167</td>\n      <td>16.214334</td>\n      <td>16.214334</td>\n      <td>32.428669</td>\n      <td>8.107167</td>\n      <td>48.643003</td>\n      <td>48.643003</td>\n      <td>64.857337</td>\n      <td>48.643003</td>\n      <td>72.964504</td>\n      <td>64.857337</td>\n      <td>81.071671</td>\n      <td>81.071671</td>\n      <td>129.714674</td>\n    </tr>\n    <tr>\n      <th>12</th>\n      <td>16.214334</td>\n      <td>8.107167</td>\n      <td>8.107167</td>\n      <td>8.107167</td>\n      <td>8.107167</td>\n      <td>16.214334</td>\n      <td>24.321501</td>\n      <td>16.214334</td>\n      <td>8.107167</td>\n      <td>8.107167</td>\n      <td>40.535836</td>\n      <td>48.643003</td>\n      <td>40.535836</td>\n      <td>32.428669</td>\n      <td>40.535836</td>\n      <td>40.535836</td>\n      <td>56.750170</td>\n      <td>72.964504</td>\n      <td>105.393173</td>\n      <td>72.964504</td>\n    </tr>\n  </tbody>\n</table>\n</div>",
      "text/plain": [
       "             0            1            2            3            4   \\\n",
       "0    729.645042   356.715354   227.000680   316.179518   291.858017   \n",
       "1   1086.360396   908.002719   721.537875   624.251870   713.430708   \n",
       "2    899.895552  1005.288725  1070.146062  1021.503059  1005.288725   \n",
       "3    535.073031   859.359716   932.324221   940.431388   859.359716   \n",
       "4    454.001360   502.644362   713.430708   672.894872   664.787705   \n",
       "5    210.786346   381.036855   332.393853   510.751530   494.537195   \n",
       "6     89.178839   162.143343   267.536516   259.429348   243.215014   \n",
       "7    105.393173    89.178839   170.250510   113.500340   121.607507   \n",
       "8     32.428669    24.321501     8.107167   113.500340   129.714674   \n",
       "9     32.428669    24.321501     8.107167    32.428669    56.750170   \n",
       "10    16.214334    40.535836    16.214334    32.428669     8.107167   \n",
       "11     8.107167    32.428669     8.107167    24.321501    24.321501   \n",
       "12    16.214334     8.107167     8.107167     8.107167     8.107167   \n",
       "\n",
       "            5            6            7            8            9   \\\n",
       "0   194.572011   202.679178   210.786346   154.036176   210.786346   \n",
       "1   510.751530   826.931048   526.965864   575.608867   559.394532   \n",
       "2   964.752889  1053.931728  1126.896232  1037.717394  1272.825240   \n",
       "3   948.538555  1013.395892  1256.610906  1053.931728  1086.360396   \n",
       "4   689.109207   762.073711   794.502379   826.931048   940.431388   \n",
       "5   526.965864   510.751530   656.680538   608.037535   656.680538   \n",
       "6   324.286685   299.965184   421.572691   445.894193   437.787025   \n",
       "7   259.429348   235.107847   186.464844   235.107847   218.893513   \n",
       "8    89.178839   113.500340   137.821841   186.464844   121.607507   \n",
       "9    81.071671    64.857337    40.535836   121.607507   113.500340   \n",
       "10   16.214334    40.535836    16.214334    40.535836    72.964504   \n",
       "11   16.214334     8.107167    16.214334    16.214334    32.428669   \n",
       "12   16.214334    24.321501    16.214334     8.107167     8.107167   \n",
       "\n",
       "             10           11           12           13           14  \\\n",
       "0    210.786346   235.107847   413.465524   356.715354   405.358357   \n",
       "1    640.466204   835.038215   851.252549   875.574051  1135.003399   \n",
       "2   1313.361076  1037.717394  1516.040255  1864.648441  1572.790425   \n",
       "3   1175.539235  1248.503739  1289.039575  1589.004759  1994.363116   \n",
       "4   1086.360396  1224.182238  1151.217733  1199.860736  1443.075750   \n",
       "5    664.787705   616.144702   875.574051   729.645042  1021.503059   \n",
       "6    421.572691   526.965864   591.823201   478.322861   705.323541   \n",
       "7    227.000680   299.965184   364.822521   397.251190   348.608187   \n",
       "8    186.464844   154.036176   178.357677   210.786346   235.107847   \n",
       "9     56.750170    81.071671    81.071671    97.286006   154.036176   \n",
       "10    40.535836    48.643003    72.964504    89.178839    89.178839   \n",
       "11     8.107167    48.643003    48.643003    64.857337    48.643003   \n",
       "12    40.535836    48.643003    40.535836    32.428669    40.535836   \n",
       "\n",
       "             15           16           17           18           19  \n",
       "0    437.787025   583.716034   648.573371   478.322861   778.288045  \n",
       "1   1207.967903  1386.325580  1451.182917  1678.183597  2002.470283  \n",
       "2   1880.862776  2197.042294  2253.792464  2853.722832  3210.438186  \n",
       "3   1994.363116  2091.649121  2683.472322  3137.473682  3259.081189  \n",
       "4   1491.718753  1686.290764  1945.720113  2415.935807  2707.793824  \n",
       "5   1086.360396  1507.933087  1629.540594  1702.505099  2034.898951  \n",
       "6    697.216374   980.967224  1070.146062  1175.539235  1345.789745  \n",
       "7    510.751530   405.358357   535.073031   502.644362   786.395212  \n",
       "8    299.965184   372.929688   413.465524   405.358357   494.537195  \n",
       "9    170.250510   186.464844   251.322181   275.643683   340.501020  \n",
       "10   137.821841   121.607507   105.393173   194.572011   227.000680  \n",
       "11    72.964504    64.857337    81.071671    81.071671   129.714674  \n",
       "12    40.535836    56.750170    72.964504   105.393173    72.964504  "
      ]
     },
     "execution_count": 20,
     "metadata": {},
     "output_type": "execute_result"
    }
   ],
   "source": [
    "pd.read_csv(\"../pre_computed/IC_observed_2017.csv\", header=None)"
   ]
  }
 ],
 "metadata": {
  "kernelspec": {
   "display_name": "Python 3.9.0 64-bit",
   "metadata": {
    "interpreter": {
     "hash": "ac59ebe37160ed0dfa835113d9b8498d9f09ceb179beaac4002f036b9467c963"
    }
   },
   "name": "python3"
  },
  "language_info": {
   "codemirror_mode": {
    "name": "ipython",
    "version": 3
   },
   "file_extension": ".py",
   "mimetype": "text/x-python",
   "name": "python",
   "nbconvert_exporter": "python",
   "pygments_lexer": "ipython3",
   "version": "3.9.0-final"
  },
  "orig_nbformat": 2
 },
 "nbformat": 4,
 "nbformat_minor": 2
}